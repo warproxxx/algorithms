{
 "cells": [
  {
   "cell_type": "code",
   "execution_count": 1,
   "id": "built-techno",
   "metadata": {},
   "outputs": [
    {
     "name": "stderr",
     "output_type": "stream",
     "text": [
      "/home/warproxxx/.local/lib/python3.8/site-packages/arctic/_util.py:6: FutureWarning: pandas.util.testing is deprecated. Use the functions in the public API at pandas.testing instead.\n",
      "  from pandas.util.testing import assert_frame_equal\n",
      "/home/warproxxx/.local/lib/python3.8/site-packages/arctic/store/_pandas_ndarray_store.py:6: FutureWarning: The Panel class is removed from pandas. Accessing it from the top-level namespace will also be removed in the next version\n",
      "  from pandas import DataFrame, Series, Panel\n"
     ]
    }
   ],
   "source": [
    "from arctic import Arctic\n"
   ]
  },
  {
   "cell_type": "code",
   "execution_count": 2,
   "id": "compatible-florida",
   "metadata": {},
   "outputs": [],
   "source": [
    "store = Arctic('localhost')"
   ]
  },
  {
   "cell_type": "code",
   "execution_count": 3,
   "id": "scenic-indication",
   "metadata": {},
   "outputs": [],
   "source": [
    "library = store['daddy']\n"
   ]
  },
  {
   "cell_type": "code",
   "execution_count": 4,
   "id": "identified-trade",
   "metadata": {},
   "outputs": [
    {
     "data": {
      "text/plain": [
       "['trades']"
      ]
     },
     "execution_count": 4,
     "metadata": {},
     "output_type": "execute_result"
    }
   ],
   "source": [
    "library.list_symbols()"
   ]
  },
  {
   "cell_type": "code",
   "execution_count": null,
   "id": "introductory-fraud",
   "metadata": {},
   "outputs": [],
   "source": []
  }
 ],
 "metadata": {
  "kernelspec": {
   "display_name": "Python 3.8.2 64-bit",
   "language": "python",
   "name": "python38264bit5e026c37115b47dab948fc9d59355aca"
  },
  "language_info": {
   "codemirror_mode": {
    "name": "ipython",
    "version": 3
   },
   "file_extension": ".py",
   "mimetype": "text/x-python",
   "name": "python",
   "nbconvert_exporter": "python",
   "pygments_lexer": "ipython3",
   "version": "3.8.5"
  }
 },
 "nbformat": 4,
 "nbformat_minor": 5
}
