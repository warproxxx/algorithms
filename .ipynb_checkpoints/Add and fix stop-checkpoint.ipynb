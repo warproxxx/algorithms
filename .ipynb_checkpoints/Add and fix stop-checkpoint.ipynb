{
 "cells": [
  {
   "cell_type": "code",
   "execution_count": null,
   "id": "heated-penny",
   "metadata": {},
   "outputs": [],
   "source": [
    "import pandas as pd\n",
    "from algos.daddy.live_trader import liveTrading, round_down\n",
    "import decimal"
   ]
  },
  {
   "cell_type": "code",
   "execution_count": null,
   "id": "serial-chancellor",
   "metadata": {},
   "outputs": [],
   "source": [
    "config_file = \"test_exchanges.csv\""
   ]
  },
  {
   "cell_type": "code",
   "execution_count": null,
   "id": "cross-wedding",
   "metadata": {},
   "outputs": [],
   "source": [
    "parameter_file = \"test_pars.json\""
   ]
  },
  {
   "cell_type": "code",
   "execution_count": null,
   "id": "tired-pioneer",
   "metadata": {},
   "outputs": [],
   "source": [
    "EXCHANGES = pd.read_csv(config_file)"
   ]
  },
  {
   "cell_type": "code",
   "execution_count": null,
   "id": "closed-pickup",
   "metadata": {},
   "outputs": [],
   "source": [
    "details = EXCHANGES.iloc[0]"
   ]
  },
  {
   "cell_type": "code",
   "execution_count": null,
   "id": "dynamic-catalog",
   "metadata": {},
   "outputs": [],
   "source": [
    "exchange_name = details['exchange']\n",
    "name = details['name']"
   ]
  },
  {
   "cell_type": "code",
   "execution_count": 7,
   "id": "expressed-martial",
   "metadata": {},
   "outputs": [],
   "source": [
    "lt = liveTrading(exchange_name, name, symbol=details['ccxt_symbol'],testnet=False, parameter_file=parameter_file, config_file=config_file) "
   ]
  }
 ],
 "metadata": {
  "kernelspec": {
   "display_name": "Python 3.8.2 64-bit",
   "language": "python",
   "name": "python38264bit5e026c37115b47dab948fc9d59355aca"
  },
  "language_info": {
   "codemirror_mode": {
    "name": "ipython",
    "version": 3
   },
   "file_extension": ".py",
   "mimetype": "text/x-python",
   "name": "python",
   "nbconvert_exporter": "python",
   "pygments_lexer": "ipython3",
   "version": "3.8.5"
  }
 },
 "nbformat": 4,
 "nbformat_minor": 5
}
