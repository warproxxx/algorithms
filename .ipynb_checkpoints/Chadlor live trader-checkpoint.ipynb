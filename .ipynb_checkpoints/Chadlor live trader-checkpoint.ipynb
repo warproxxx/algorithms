{
 "cells": [
  {
   "cell_type": "code",
   "execution_count": 1,
   "id": "based-contamination",
   "metadata": {},
   "outputs": [],
   "source": [
    "from algos.chadlor.live_trader import liveTrading"
   ]
  },
  {
   "cell_type": "code",
   "execution_count": 2,
   "id": "increasing-flush",
   "metadata": {},
   "outputs": [],
   "source": [
    "lt = liveTrading()"
   ]
  },
  {
   "cell_type": "code",
   "execution_count": null,
   "id": "formed-ballot",
   "metadata": {},
   "outputs": [],
   "source": []
  },
  {
   "cell_type": "code",
   "execution_count": 3,
   "id": "occupational-updating",
   "metadata": {},
   "outputs": [
    {
     "data": {
      "text/plain": [
       "('NONE', 0, 0)"
      ]
     },
     "execution_count": 3,
     "metadata": {},
     "output_type": "execute_result"
    }
   ],
   "source": [
    "lt.get_position()"
   ]
  },
  {
   "cell_type": "code",
   "execution_count": 4,
   "id": "controlled-wagon",
   "metadata": {},
   "outputs": [
    {
     "data": {
      "text/plain": [
       "0.00671262"
      ]
     },
     "execution_count": 4,
     "metadata": {},
     "output_type": "execute_result"
    }
   ],
   "source": [
    "lt.get_balance()"
   ]
  },
  {
   "cell_type": "code",
   "execution_count": 5,
   "id": "deluxe-giving",
   "metadata": {},
   "outputs": [
    {
     "data": {
      "text/plain": [
       "(6, 47314.5)"
      ]
     },
     "execution_count": 5,
     "metadata": {},
     "output_type": "execute_result"
    }
   ],
   "source": [
    "lt.get_max_amount('buy')"
   ]
  },
  {
   "cell_type": "code",
   "execution_count": 6,
   "id": "coated-instruction",
   "metadata": {},
   "outputs": [
    {
     "name": "stdout",
     "output_type": "stream",
     "text": [
      "Time at filling order is: 2021-02-27 20:14:35.716755\n",
      "Sending market buy order for BTC/USD of size 6 on BITMEX in 2021-02-27 20:14:39.096697\n"
     ]
    }
   ],
   "source": [
    "lt.fill_order('buy')"
   ]
  },
  {
   "cell_type": "code",
   "execution_count": 7,
   "id": "coated-folks",
   "metadata": {},
   "outputs": [
    {
     "data": {
      "text/plain": [
       "('LONG', 47326.0, 6.0)"
      ]
     },
     "execution_count": 7,
     "metadata": {},
     "output_type": "execute_result"
    }
   ],
   "source": [
    "lt.get_position()"
   ]
  },
  {
   "cell_type": "code",
   "execution_count": 8,
   "id": "excellent-brake",
   "metadata": {},
   "outputs": [
    {
     "name": "stdout",
     "output_type": "stream",
     "text": [
      "Time at filling order is: 2021-02-27 20:14:49.956703\n",
      "Sending market sell order for BTC/USD of size 6.0 on BITMEX in 2021-02-27 20:14:52.154075\n"
     ]
    }
   ],
   "source": [
    "lt.fill_order('sell')"
   ]
  },
  {
   "cell_type": "code",
   "execution_count": 9,
   "id": "collected-movie",
   "metadata": {},
   "outputs": [
    {
     "data": {
      "text/plain": [
       "('NONE', 0, 0)"
      ]
     },
     "execution_count": 9,
     "metadata": {},
     "output_type": "execute_result"
    }
   ],
   "source": [
    "lt.get_position()"
   ]
  },
  {
   "cell_type": "code",
   "execution_count": null,
   "id": "minor-kuwait",
   "metadata": {},
   "outputs": [],
   "source": []
  }
 ],
 "metadata": {
  "kernelspec": {
   "display_name": "Python 3.8.2 64-bit",
   "language": "python",
   "name": "python38264bit5e026c37115b47dab948fc9d59355aca"
  },
  "language_info": {
   "codemirror_mode": {
    "name": "ipython",
    "version": 3
   },
   "file_extension": ".py",
   "mimetype": "text/x-python",
   "name": "python",
   "nbconvert_exporter": "python",
   "pygments_lexer": "ipython3",
   "version": "3.8.5"
  }
 },
 "nbformat": 4,
 "nbformat_minor": 5
}
