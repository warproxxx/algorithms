{
 "cells": [
  {
   "cell_type": "code",
   "execution_count": 16,
   "id": "expressed-lease",
   "metadata": {},
   "outputs": [],
   "source": [
    "from algos.chadlor.live_trader import liveTrading\n",
    "import json\n",
    "import redis"
   ]
  },
  {
   "cell_type": "code",
   "execution_count": 2,
   "id": "authentic-trace",
   "metadata": {},
   "outputs": [],
   "source": [
    "lt = liveTrading()"
   ]
  },
  {
   "cell_type": "code",
   "execution_count": 17,
   "id": "moving-speaker",
   "metadata": {},
   "outputs": [],
   "source": [
    "r = redis.Redis(host='localhost', port=6379, db=0)"
   ]
  },
  {
   "cell_type": "code",
   "execution_count": 19,
   "id": "floppy-veteran",
   "metadata": {},
   "outputs": [],
   "source": [
    "coinbase_price = 500\n",
    "bitmex_price = 500"
   ]
  },
  {
   "cell_type": "code",
   "execution_count": null,
   "id": "consistent-benchmark",
   "metadata": {},
   "outputs": [],
   "source": []
  },
  {
   "cell_type": "code",
   "execution_count": 20,
   "id": "caroline-western",
   "metadata": {},
   "outputs": [],
   "source": [
    "parameters = json.load(open('algos/chadlor/parameters.json'))\n",
    "lt = liveTrading()\n",
    "current_pos, avgEntryPrice, pos_size = lt.get_position()\n",
    "position_since = int(r.get('chadlor_position_since').decode())\n",
    "\n",
    "if current_pos == \"NONE\":\n",
    "    if coinbase_price > (parameters['bigger_than'] * bitmex_price):\n",
    "        lt.fill_order('buy')\n",
    "else:\n",
    "    if position_since > parameters['position_since']:\n",
    "        position_since = int(r.get('chadlor_position_since').decode())\n",
    "        pnl_percentage = ((bitmex_price-avgEntryPrice)/avgEntryPrice) * 100 * parameters['mult']\n",
    "\n",
    "        if pnl_percentage < parameters['loss_cap']:\n",
    "            lt.fill_order('sell')\n",
    "\n",
    "    if coinbase_price > (parameters['bigger_than'] * bitmex_price):\n",
    "        r.set('chadlor_position_since', 0)\n",
    "\n",
    "    if position_since >= parameters['position_since']:\n",
    "        lt.fill_order('sell')\n",
    "\n",
    "if current_pos == \"NONE\":\n",
    "    r.set('chadlor_position_since', 0)\n",
    "else:\n",
    "    position_since = position_since + 1\n",
    "    r.set('chadlor_position_since', position_since)\n",
    "\n",
    "lt.set_position()"
   ]
  },
  {
   "cell_type": "code",
   "execution_count": 24,
   "id": "copyrighted-order",
   "metadata": {},
   "outputs": [
    {
     "data": {
      "text/plain": [
       "0"
      ]
     },
     "execution_count": 24,
     "metadata": {},
     "output_type": "execute_result"
    }
   ],
   "source": [
    "int(r.get('chadlor_position_since').decode())"
   ]
  },
  {
   "cell_type": "code",
   "execution_count": 22,
   "id": "increasing-bhutan",
   "metadata": {},
   "outputs": [
    {
     "data": {
      "text/plain": [
       "'NONE'"
      ]
     },
     "execution_count": 22,
     "metadata": {},
     "output_type": "execute_result"
    }
   ],
   "source": [
    "current_pos"
   ]
  },
  {
   "cell_type": "code",
   "execution_count": 10,
   "id": "broken-process",
   "metadata": {},
   "outputs": [
    {
     "data": {
      "text/plain": [
       "('NONE', 0, 0)"
      ]
     },
     "execution_count": 10,
     "metadata": {},
     "output_type": "execute_result"
    }
   ],
   "source": [
    "lt.get_position()"
   ]
  },
  {
   "cell_type": "code",
   "execution_count": 4,
   "id": "median-oxford",
   "metadata": {},
   "outputs": [
    {
     "data": {
      "text/plain": [
       "0.00671262"
      ]
     },
     "execution_count": 4,
     "metadata": {},
     "output_type": "execute_result"
    }
   ],
   "source": [
    "lt.get_balance()"
   ]
  },
  {
   "cell_type": "code",
   "execution_count": 5,
   "id": "nutritional-belle",
   "metadata": {},
   "outputs": [
    {
     "data": {
      "text/plain": [
       "(6, 47314.5)"
      ]
     },
     "execution_count": 5,
     "metadata": {},
     "output_type": "execute_result"
    }
   ],
   "source": [
    "lt.get_max_amount('buy')"
   ]
  },
  {
   "cell_type": "code",
   "execution_count": 6,
   "id": "failing-approach",
   "metadata": {},
   "outputs": [
    {
     "name": "stdout",
     "output_type": "stream",
     "text": [
      "Time at filling order is: 2021-02-27 20:14:35.716755\n",
      "Sending market buy order for BTC/USD of size 6 on BITMEX in 2021-02-27 20:14:39.096697\n"
     ]
    }
   ],
   "source": [
    "lt.fill_order('buy')"
   ]
  },
  {
   "cell_type": "code",
   "execution_count": 7,
   "id": "designing-symphony",
   "metadata": {},
   "outputs": [
    {
     "data": {
      "text/plain": [
       "('LONG', 47326.0, 6.0)"
      ]
     },
     "execution_count": 7,
     "metadata": {},
     "output_type": "execute_result"
    }
   ],
   "source": [
    "lt.get_position()"
   ]
  },
  {
   "cell_type": "code",
   "execution_count": 8,
   "id": "strange-example",
   "metadata": {},
   "outputs": [
    {
     "name": "stdout",
     "output_type": "stream",
     "text": [
      "Time at filling order is: 2021-02-27 20:14:49.956703\n",
      "Sending market sell order for BTC/USD of size 6.0 on BITMEX in 2021-02-27 20:14:52.154075\n"
     ]
    }
   ],
   "source": [
    "lt.fill_order('sell')"
   ]
  },
  {
   "cell_type": "code",
   "execution_count": 9,
   "id": "ultimate-plenty",
   "metadata": {},
   "outputs": [
    {
     "data": {
      "text/plain": [
       "('NONE', 0, 0)"
      ]
     },
     "execution_count": 9,
     "metadata": {},
     "output_type": "execute_result"
    }
   ],
   "source": [
    "lt.get_position()"
   ]
  },
  {
   "cell_type": "code",
   "execution_count": null,
   "id": "adjacent-prerequisite",
   "metadata": {},
   "outputs": [],
   "source": []
  }
 ],
 "metadata": {
  "kernelspec": {
   "display_name": "Python 3.8.2 64-bit",
   "language": "python",
   "name": "python38264bit5e026c37115b47dab948fc9d59355aca"
  },
  "language_info": {
   "codemirror_mode": {
    "name": "ipython",
    "version": 3
   },
   "file_extension": ".py",
   "mimetype": "text/x-python",
   "name": "python",
   "nbconvert_exporter": "python",
   "pygments_lexer": "ipython3",
   "version": "3.8.5"
  }
 },
 "nbformat": 4,
 "nbformat_minor": 5
}
