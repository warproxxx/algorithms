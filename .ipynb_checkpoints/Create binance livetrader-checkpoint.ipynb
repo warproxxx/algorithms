{
 "cells": [
  {
   "cell_type": "code",
   "execution_count": 19,
   "metadata": {},
   "outputs": [],
   "source": [
    "from algos.ratio.live_trader import liveTrading\n",
    "import pandas as pd"
   ]
  },
  {
   "cell_type": "code",
   "execution_count": 2,
   "metadata": {},
   "outputs": [],
   "source": [
    "lt = liveTrading('TROYBTC')"
   ]
  },
  {
   "cell_type": "code",
   "execution_count": 17,
   "metadata": {},
   "outputs": [],
   "source": []
  },
  {
   "cell_type": "code",
   "execution_count": 20,
   "metadata": {},
   "outputs": [],
   "source": [
    "config = pd.read_csv('algos/ratio/config.csv')"
   ]
  },
  {
   "cell_type": "code",
   "execution_count": 25,
   "metadata": {
    "scrolled": true
   },
   "outputs": [
    {
     "name": "stdout",
     "output_type": "stream",
     "text": [
      "ADABTC\n",
      "ADABTC 0.0011339500000000003\n",
      "BNTBTC\n",
      "BNTBTC 0.002859819999999999\n",
      "EOSBTC\n",
      "EOSBTC 0.00045549999999999996\n",
      "ETHBTC\n",
      "ETHBTC 0.0009426899999999999\n",
      "IOTABTC\n",
      "IOTABTC 0.0005856799999999999\n",
      "OMGBTC\n",
      "OMGBTC 0.00116809\n",
      "ORNBTC\n",
      "ORNBTC 0.0005346700000000001\n",
      "RVNBTC\n",
      "RVNBTC 0.0003022000000000001\n",
      "TOMOBTC\n",
      "TROYBTC\n",
      "TROYBTC 0.0007295299999999999\n",
      "XTZBTC\n",
      "XTZBTC 0.0016807100000000002\n",
      "ZILBTC\n",
      "ZILBTC 0.0022544899999999996\n"
     ]
    }
   ],
   "source": [
    "total_balance = 0\n",
    "\n",
    "for symbol in config['name']:\n",
    "    try:\n",
    "        print(symbol)\n",
    "        details = lt.exchange.sapi_get_margin_isolated_account({'symbols': symbol})['assets'][0]\n",
    "        balance = float(details['quoteAsset']['netAssetOfBtc']) + float(details['baseAsset']['netAssetOfBtc'])\n",
    "        total_balance = balance + total_balance\n",
    "        print(\"{} {}\".format(symbol, balance))\n",
    "    except:\n",
    "        pass"
   ]
  },
  {
   "cell_type": "code",
   "execution_count": null,
   "metadata": {},
   "outputs": [],
   "source": [
    "#get btc price"
   ]
  },
  {
   "cell_type": "code",
   "execution_count": null,
   "metadata": {},
   "outputs": [],
   "source": []
  },
  {
   "cell_type": "code",
   "execution_count": 28,
   "metadata": {},
   "outputs": [
    {
     "data": {
      "text/plain": [
       "0.012647329999999998"
      ]
     },
     "execution_count": 28,
     "metadata": {},
     "output_type": "execute_result"
    }
   ],
   "source": [
    "total_balance"
   ]
  },
  {
   "cell_type": "code",
   "execution_count": null,
   "metadata": {},
   "outputs": [],
   "source": []
  },
  {
   "cell_type": "code",
   "execution_count": 27,
   "metadata": {},
   "outputs": [
    {
     "data": {
      "text/plain": [
       "419.19575284999996"
      ]
     },
     "execution_count": 27,
     "metadata": {},
     "output_type": "execute_result"
    }
   ],
   "source": [
    "total_balance * 33145"
   ]
  }
 ],
 "metadata": {
  "kernelspec": {
   "display_name": "Python 3.8.2 64-bit",
   "language": "python",
   "name": "python38264bit5e026c37115b47dab948fc9d59355aca"
  },
  "language_info": {
   "codemirror_mode": {
    "name": "ipython",
    "version": 3
   },
   "file_extension": ".py",
   "mimetype": "text/x-python",
   "name": "python",
   "nbconvert_exporter": "python",
   "pygments_lexer": "ipython3",
   "version": "3.8.5"
  }
 },
 "nbformat": 4,
 "nbformat_minor": 4
}
