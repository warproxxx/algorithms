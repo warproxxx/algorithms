{
 "cells": [
  {
   "cell_type": "code",
   "execution_count": 25,
   "id": "respiratory-timing",
   "metadata": {},
   "outputs": [],
   "source": [
    "import os\n",
    "import sys\n",
    "from glob import glob\n",
    "import requests\n",
    "\n",
    "import time\n",
    "import datetime\n",
    "\n",
    "import pandas as pd\n",
    "import numpy as np\n",
    "import json\n",
    "\n",
    "import threading\n",
    "\n",
    "import ta\n",
    "import redis\n",
    "import schedule\n",
    "import shutil\n",
    "\n",
    "from cryptofeed.defines import TRADES, L2_BOOK, BID, ASK\n",
    "\n",
    "from algos.daddy.live_trader import liveTrading\n",
    "from algos.daddy.trade_analysis import get_trades, process_data, get_details\n",
    "from algos.daddy.historic import single_price_from_rest\n",
    "from algos.daddy.plot import create_chart\n",
    "from algos.daddy.trades import update_trades, run_backtest\n",
    "from algos.daddy.bot import daddyBot\n",
    "\n",
    "from utils import print\n",
    "\n",
    "r = redis.Redis(host='localhost', port=6379, db=0)\n",
    "\n"
   ]
  },
  {
   "cell_type": "code",
   "execution_count": 23,
   "id": "covered-alliance",
   "metadata": {},
   "outputs": [],
   "source": [
    "symbol='XBT'\n",
    "TESTNET=False\n",
    "config_file='algos/daddy/exchanges.csv'\n",
    "parameter_file=\"algos/daddy/parameters.json\""
   ]
  },
  {
   "cell_type": "code",
   "execution_count": 26,
   "id": "russian-diabetes",
   "metadata": {},
   "outputs": [],
   "source": [
    "bot = daddyBot(symbol=symbol, config_file=config_file, parameter_file=parameter_file, TESTNET=TESTNET)"
   ]
  },
  {
   "cell_type": "code",
   "execution_count": 28,
   "id": "casual-assets",
   "metadata": {},
   "outputs": [],
   "source": [
    "lts = bot.lts"
   ]
  },
  {
   "cell_type": "code",
   "execution_count": 30,
   "id": "supposed-adventure",
   "metadata": {},
   "outputs": [],
   "source": [
    "for idx, details in bot.EXCHANGES.iterrows():\n",
    "    if details['trade'] == 1:\n",
    "        break"
   ]
  },
  {
   "cell_type": "code",
   "execution_count": 31,
   "id": "spectacular-racing",
   "metadata": {},
   "outputs": [
    {
     "data": {
      "text/plain": [
       "name                      bitmex_1\n",
       "exchange                    bitmex\n",
       "types                         book\n",
       "name_type                     fund\n",
       "cryptofeed_name             Bitmex\n",
       "ccxt_symbol                BTC/USD\n",
       "symbol                      XBTUSD\n",
       "cryptofeed_symbol           XBTUSD\n",
       "subaccount                     NaN\n",
       "trade                            1\n",
       "collateral                     BTC\n",
       "max_trade                      0.5\n",
       "buy_method           10sec_average\n",
       "sell_method          10sec_average\n",
       "html_color                  danger\n",
       "Name: 1, dtype: object"
      ]
     },
     "execution_count": 31,
     "metadata": {},
     "output_type": "execute_result"
    }
   ],
   "source": [
    "details"
   ]
  },
  {
   "cell_type": "code",
   "execution_count": 32,
   "id": "silver-longitude",
   "metadata": {},
   "outputs": [],
   "source": [
    "lt = lts[details['name']]"
   ]
  },
  {
   "cell_type": "code",
   "execution_count": 33,
   "id": "continuing-saying",
   "metadata": {},
   "outputs": [
    {
     "data": {
      "text/plain": [
       "<algos.daddy.live_trader.liveTrading at 0x7f602221a4c0>"
      ]
     },
     "execution_count": 33,
     "metadata": {},
     "output_type": "execute_result"
    }
   ],
   "source": [
    "lt"
   ]
  },
  {
   "cell_type": "code",
   "execution_count": 34,
   "id": "considerable-anchor",
   "metadata": {},
   "outputs": [],
   "source": [
    "current_pos, avgEntryPrice, _ = lt.get_position()"
   ]
  },
  {
   "cell_type": "code",
   "execution_count": 35,
   "id": "golden-concern",
   "metadata": {},
   "outputs": [
    {
     "data": {
      "text/plain": [
       "'NONE'"
      ]
     },
     "execution_count": 35,
     "metadata": {},
     "output_type": "execute_result"
    }
   ],
   "source": [
    "current_pos"
   ]
  },
  {
   "cell_type": "code",
   "execution_count": 36,
   "id": "white-singer",
   "metadata": {},
   "outputs": [
    {
     "data": {
      "text/plain": [
       "0"
      ]
     },
     "execution_count": 36,
     "metadata": {},
     "output_type": "execute_result"
    }
   ],
   "source": [
    "avgEntryPrice"
   ]
  },
  {
   "cell_type": "code",
   "execution_count": 37,
   "id": "extensive-validation",
   "metadata": {},
   "outputs": [
    {
     "data": {
      "text/plain": [
       "0"
      ]
     },
     "execution_count": 37,
     "metadata": {},
     "output_type": "execute_result"
    }
   ],
   "source": [
    "_"
   ]
  },
  {
   "cell_type": "code",
   "execution_count": 38,
   "id": "welsh-acrylic",
   "metadata": {},
   "outputs": [
    {
     "data": {
      "text/plain": [
       "[{'account': '46566',\n",
       "  'symbol': 'XBTUSD',\n",
       "  'currency': 'XBt',\n",
       "  'underlying': 'XBT',\n",
       "  'quoteCurrency': 'USD',\n",
       "  'commission': '0.00075',\n",
       "  'initMarginReq': '0.05',\n",
       "  'maintMarginReq': '0.0035',\n",
       "  'riskLimit': '20000000000',\n",
       "  'leverage': '20',\n",
       "  'crossMargin': False,\n",
       "  'deleveragePercentile': '0.4',\n",
       "  'rebalancedPnl': '-330',\n",
       "  'prevRealisedPnl': '7075',\n",
       "  'prevUnrealisedPnl': '0',\n",
       "  'prevClosePrice': '56882.81',\n",
       "  'openingTimestamp': '2021-05-02T13:00:00.000Z',\n",
       "  'openingQty': '165',\n",
       "  'openingCost': '-290070',\n",
       "  'openingComm': '29',\n",
       "  'openOrderBuyQty': '0',\n",
       "  'openOrderBuyCost': '0',\n",
       "  'openOrderBuyPremium': '0',\n",
       "  'openOrderSellQty': '0',\n",
       "  'openOrderSellCost': '0',\n",
       "  'openOrderSellPremium': '0',\n",
       "  'execBuyQty': '0',\n",
       "  'execBuyCost': '0',\n",
       "  'execSellQty': '0',\n",
       "  'execSellCost': '0',\n",
       "  'execQty': '0',\n",
       "  'execCost': '0',\n",
       "  'execComm': '0',\n",
       "  'currentTimestamp': '2021-05-02T13:43:00.374Z',\n",
       "  'currentQty': '165',\n",
       "  'currentCost': '-290070',\n",
       "  'currentComm': '29',\n",
       "  'realisedCost': '0',\n",
       "  'unrealisedCost': '-290070',\n",
       "  'grossOpenCost': '0',\n",
       "  'grossOpenPremium': '0',\n",
       "  'grossExecCost': '0',\n",
       "  'isOpen': True,\n",
       "  'markPrice': '56679.17',\n",
       "  'markValue': '-291060',\n",
       "  'riskValue': '291060',\n",
       "  'homeNotional': '0.0029106',\n",
       "  'foreignNotional': '-165',\n",
       "  'posState': '',\n",
       "  'posCost': '-290070',\n",
       "  'posCost2': '-289926',\n",
       "  'posCross': '0',\n",
       "  'posInit': '14504',\n",
       "  'posComm': '229',\n",
       "  'posLoss': '144',\n",
       "  'posMargin': '14589',\n",
       "  'posMaint': '1274',\n",
       "  'posAllowance': '0',\n",
       "  'taxableMargin': '0',\n",
       "  'initMargin': '0',\n",
       "  'maintMargin': '13599',\n",
       "  'sessionMargin': '0',\n",
       "  'targetExcessMargin': '0',\n",
       "  'varMargin': '0',\n",
       "  'realisedGrossPnl': '0',\n",
       "  'realisedTax': '0',\n",
       "  'realisedPnl': '-29',\n",
       "  'unrealisedGrossPnl': '-990',\n",
       "  'longBankrupt': '0',\n",
       "  'shortBankrupt': '0',\n",
       "  'taxBase': '0',\n",
       "  'indicativeTaxRate': None,\n",
       "  'indicativeTax': '0',\n",
       "  'unrealisedTax': '0',\n",
       "  'unrealisedPnl': '-990',\n",
       "  'unrealisedPnlPcnt': '-0.0034',\n",
       "  'unrealisedRoePcnt': '-0.0683',\n",
       "  'simpleQty': None,\n",
       "  'simpleCost': None,\n",
       "  'simpleValue': None,\n",
       "  'simplePnl': None,\n",
       "  'simplePnlPcnt': None,\n",
       "  'avgCostPrice': '56883',\n",
       "  'avgEntryPrice': '56883',\n",
       "  'breakEvenPrice': '56980.5',\n",
       "  'marginCallPrice': '54407',\n",
       "  'liquidationPrice': '54407',\n",
       "  'bankruptPrice': '54201',\n",
       "  'timestamp': '2021-05-02T13:43:00.374Z',\n",
       "  'lastPrice': '56679.17',\n",
       "  'lastValue': '-291060'}]"
      ]
     },
     "execution_count": 38,
     "metadata": {},
     "output_type": "execute_result"
    }
   ],
   "source": [
    "lt.exchange.private_get_position()"
   ]
  },
  {
   "cell_type": "code",
   "execution_count": 40,
   "id": "amended-posting",
   "metadata": {},
   "outputs": [
    {
     "data": {
      "text/plain": [
       "'bitmex'"
      ]
     },
     "execution_count": 40,
     "metadata": {},
     "output_type": "execute_result"
    }
   ],
   "source": [
    "lt.exchange_name"
   ]
  },
  {
   "cell_type": "code",
   "execution_count": null,
   "id": "attempted-hurricane",
   "metadata": {},
   "outputs": [],
   "source": []
  }
 ],
 "metadata": {
  "kernelspec": {
   "display_name": "Python 3.8.2 64-bit",
   "language": "python",
   "name": "python38264bit5e026c37115b47dab948fc9d59355aca"
  },
  "language_info": {
   "codemirror_mode": {
    "name": "ipython",
    "version": 3
   },
   "file_extension": ".py",
   "mimetype": "text/x-python",
   "name": "python",
   "nbconvert_exporter": "python",
   "pygments_lexer": "ipython3",
   "version": "3.8.5"
  }
 },
 "nbformat": 4,
 "nbformat_minor": 5
}
