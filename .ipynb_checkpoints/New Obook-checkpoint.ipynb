{
 "cells": [
  {
   "cell_type": "code",
   "execution_count": 1,
   "metadata": {},
   "outputs": [],
   "source": [
    "import pandas as pd\n",
    "import ccxt\n",
    "from algos.daddy.huobi.HuobiDMService import HuobiDM\n",
    "import json"
   ]
  },
  {
   "cell_type": "code",
   "execution_count": 2,
   "metadata": {},
   "outputs": [],
   "source": [
    "pairs_df = pd.read_csv('pairs.csv')"
   ]
  },
  {
   "cell_type": "code",
   "execution_count": 3,
   "metadata": {},
   "outputs": [],
   "source": [
    "pairs_df = pairs_df[pairs_df['types'].isnull()]"
   ]
  },
  {
   "cell_type": "code",
   "execution_count": 4,
   "metadata": {},
   "outputs": [],
   "source": [
    "exchange_list = set(pairs_df['exchange'].values)"
   ]
  },
  {
   "cell_type": "code",
   "execution_count": 5,
   "metadata": {},
   "outputs": [],
   "source": [
    "exchanges = {}"
   ]
  },
  {
   "cell_type": "code",
   "execution_count": 6,
   "metadata": {},
   "outputs": [],
   "source": [
    "for exchange in exchange_list:\n",
    "    if exchange == 'ftx':\n",
    "        exchanges[exchange] = ccxt.ftx({})\n",
    "    elif exchange == 'okex':\n",
    "        exchanges[exchange] = ccxt.okex({})\n",
    "    elif exchange == 'bybit':\n",
    "        exchanges[exchange] = ccxt.bybit({})\n",
    "    elif exchange == 'binance_futures':\n",
    "        exchanges[exchange] = ccxt.binance({})\n",
    "    elif exchange == 'huobi_swap':\n",
    "        exchanges[exchange] = HuobiDM(\"https://api.hbdm.com\", \"\", \"\")\n",
    "    else:\n",
    "        print(exchange)"
   ]
  },
  {
   "cell_type": "code",
   "execution_count": 18,
   "metadata": {},
   "outputs": [
    {
     "data": {
      "text/plain": [
       "'ftx'"
      ]
     },
     "execution_count": 18,
     "metadata": {},
     "output_type": "execute_result"
    }
   ],
   "source": []
  },
  {
   "cell_type": "code",
   "execution_count": 15,
   "metadata": {},
   "outputs": [
    {
     "name": "stdout",
     "output_type": "stream",
     "text": [
      "binance_futures BTC/USDT 27067.30 27067.31\n",
      "bybit BTC/USD 27030.5 27031.0\n",
      "ftx BTC-PERP 27039.5 27040.0\n",
      "huobi_swap BTC-USD 27034.8 27034.9\n",
      "okex BTC-USD-SWAP 27031.2 27031.3\n",
      "ftx BTC-MOVE-2021Q1 8632.0 8741.0\n",
      "ftx BTC-MOVE-2021Q2 8537.5 8616.5\n",
      "ftx BTC-MOVE-2021Q3 8696.0 8799.0\n",
      "ftx ADA-PERP 0.164065 0.16415\n",
      "ftx BAL-PERP 14.3275 14.345\n",
      "ftx BSV-PERP 169.75 169.83\n",
      "ftx DOGE-PERP 0.0047035 0.0047115\n",
      "ftx DRGN-PERP 1097.8 1101.8\n",
      "ftx EOS-PERP 2.77375 2.774\n",
      "ftx ETC-PERP 6.0265 6.0405\n",
      "ftx ETH-PERP 741.11 741.28\n",
      "ftx LINK-PERP 12.624 12.6315\n",
      "ftx MID-PERP 995.2 997.7\n",
      "ftx SHIT-PERP 1424.9 1427.2\n",
      "ftx SUSHI-PERP 2.8022 2.8043\n",
      "ftx TOMO-PERP 0.719 0.7212\n",
      "ftx XRP-PERP 0.2839 0.28395\n"
     ]
    }
   ],
   "source": [
    "for idx, row in pairs_df.iterrows():\n",
    "    if \"MOVE\" in row['ccxt_symbol']:\n",
    "        pairs = json.load(open('algos/vol_trend/pairs.json'))\n",
    "    else:\n",
    "        pairs = [row['ccxt_symbol']]\n",
    "        \n",
    "    for pair in pairs:\n",
    "        if row['exchange'] in ['ftx', 'okex', 'bybit']:\n",
    "            exchange = exchanges[row['exchange']]    \n",
    "            book = exchange.fetch_order_book(pair)\n",
    "            best_bid = book['bids'][0][0]\n",
    "            best_ask = book['asks'][0][0]\n",
    "        elif row['exchange'] == 'binance_futures':\n",
    "            exchange = exchanges[row['exchange']] \n",
    "            book = exchange.fapiPublicGetDepth({'symbol': 'BTCUSDT', 'limit': 5})\n",
    "            best_bid = book['bids'][0][0]\n",
    "            best_ask = book['asks'][0][0]\n",
    "        elif row['exchange'] == 'huobi_swap':\n",
    "            book = exchanges['huobi_swap'].send_get_request('/swap-ex/market/depth', {'contract_code': row['ccxt_symbol'], 'type': 'step0'})['tick']\n",
    "            best_bid = book['bids'][0][0]\n",
    "            best_ask = book['asks'][0][0]\n",
    "            \n",
    "        if 'daddy' in row['feed']:\n",
    "            r.set('{}_best_bid'.format(row['exchange']), bid)\n",
    "            r.set('{}_best_ask'.format(row['exchange']), ask)\n",
    "        elif 'vol_trend' in row['feed']:\n",
    "            r.set('FTX_{}_best_bid'.format(pair), bid)\n",
    "            r.set('FTX_{}_best_ask'.format(pair), ask)\n",
    "        elif 'altcoin' in row['feed']:\n",
    "            r.set('{}_best_bid'.format(pair), bid)\n",
    "            r.set('{}_best_ask'.format(pair), ask)"
   ]
  },
  {
   "cell_type": "code",
   "execution_count": 10,
   "metadata": {},
   "outputs": [],
   "source": [
    "x = 'aa'"
   ]
  },
  {
   "cell_type": "code",
   "execution_count": null,
   "metadata": {},
   "outputs": [],
   "source": []
  },
  {
   "cell_type": "code",
   "execution_count": 11,
   "metadata": {},
   "outputs": [
    {
     "ename": "AttributeError",
     "evalue": "'str' object has no attribute 'isin'",
     "output_type": "error",
     "traceback": [
      "\u001b[0;31m---------------------------------------------------------------------------\u001b[0m",
      "\u001b[0;31mAttributeError\u001b[0m                            Traceback (most recent call last)",
      "\u001b[0;32m<ipython-input-11-05b136710e83>\u001b[0m in \u001b[0;36m<module>\u001b[0;34m\u001b[0m\n\u001b[0;32m----> 1\u001b[0;31m \u001b[0mx\u001b[0m\u001b[0;34m.\u001b[0m\u001b[0misin\u001b[0m\u001b[0;34m(\u001b[0m\u001b[0;34m[\u001b[0m\u001b[0maa\u001b[0m\u001b[0;34m]\u001b[0m\u001b[0;34m)\u001b[0m\u001b[0;34m\u001b[0m\u001b[0;34m\u001b[0m\u001b[0m\n\u001b[0m",
      "\u001b[0;31mAttributeError\u001b[0m: 'str' object has no attribute 'isin'"
     ]
    }
   ],
   "source": [
    "x.isin([;])"
   ]
  },
  {
   "cell_type": "code",
   "execution_count": null,
   "metadata": {},
   "outputs": [],
   "source": []
  },
  {
   "cell_type": "code",
   "execution_count": 51,
   "metadata": {},
   "outputs": [
    {
     "data": {
      "text/plain": [
       "27150.9"
      ]
     },
     "execution_count": 51,
     "metadata": {},
     "output_type": "execute_result"
    }
   ],
   "source": [
    "book['asks'][0][0]"
   ]
  },
  {
   "cell_type": "code",
   "execution_count": 50,
   "metadata": {},
   "outputs": [
    {
     "data": {
      "text/plain": [
       "27150.8"
      ]
     },
     "execution_count": 50,
     "metadata": {},
     "output_type": "execute_result"
    }
   ],
   "source": [
    "book['bids'][0][0]"
   ]
  },
  {
   "cell_type": "code",
   "execution_count": 49,
   "metadata": {},
   "outputs": [],
   "source": []
  },
  {
   "cell_type": "code",
   "execution_count": 44,
   "metadata": {},
   "outputs": [],
   "source": [
    "huobi = "
   ]
  },
  {
   "cell_type": "code",
   "execution_count": 43,
   "metadata": {},
   "outputs": [
    {
     "data": {
      "text/plain": [
       "27036.04"
      ]
     },
     "execution_count": 43,
     "metadata": {},
     "output_type": "execute_result"
    }
   ],
   "source": [
    "book['asks'][0][0]"
   ]
  },
  {
   "cell_type": "code",
   "execution_count": 42,
   "metadata": {},
   "outputs": [
    {
     "data": {
      "text/plain": [
       "27036.03"
      ]
     },
     "execution_count": 42,
     "metadata": {},
     "output_type": "execute_result"
    }
   ],
   "source": [
    "book['bids'][0][0]"
   ]
  },
  {
   "cell_type": "code",
   "execution_count": 41,
   "metadata": {},
   "outputs": [],
   "source": [
    "book = binance.fetch_order_book('BTC/USDT')"
   ]
  }
 ],
 "metadata": {
  "kernelspec": {
   "display_name": "Python 3.8.2 64-bit",
   "language": "python",
   "name": "python38264bit5e026c37115b47dab948fc9d59355aca"
  },
  "language_info": {
   "codemirror_mode": {
    "name": "ipython",
    "version": 3
   },
   "file_extension": ".py",
   "mimetype": "text/x-python",
   "name": "python",
   "nbconvert_exporter": "python",
   "pygments_lexer": "ipython3",
   "version": "3.8.5"
  }
 },
 "nbformat": 4,
 "nbformat_minor": 4
}
