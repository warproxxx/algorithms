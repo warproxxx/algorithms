{
 "cells": [
  {
   "cell_type": "code",
   "execution_count": 1,
   "id": "flush-custody",
   "metadata": {},
   "outputs": [],
   "source": [
    "import pandas as pd\n",
    "from algos.daddy.trade_analysis import get_trade_funding_data, process_data, get_details"
   ]
  },
  {
   "cell_type": "code",
   "execution_count": 2,
   "id": "closing-bicycle",
   "metadata": {},
   "outputs": [],
   "source": [
    "EXCHANGES = pd.read_csv('algos/xbt_daddy/exchanges.csv')"
   ]
  },
  {
   "cell_type": "code",
   "execution_count": 3,
   "id": "liked-surname",
   "metadata": {},
   "outputs": [],
   "source": [
    "row=EXCHANGES.iloc[0]"
   ]
  },
  {
   "cell_type": "code",
   "execution_count": 4,
   "id": "equivalent-football",
   "metadata": {},
   "outputs": [],
   "source": [
    "trades, fundings = get_trade_funding_data(row)"
   ]
  },
  {
   "cell_type": "code",
   "execution_count": 5,
   "id": "funny-norfolk",
   "metadata": {},
   "outputs": [],
   "source": [
    "trades = process_data(trades, row)"
   ]
  },
  {
   "cell_type": "code",
   "execution_count": 7,
   "id": "geographic-hanging",
   "metadata": {},
   "outputs": [
    {
     "name": "stderr",
     "output_type": "stream",
     "text": [
      "/home/warproxxx/Desktop/Projects/algorithms/algos/daddy/trade_analysis.py:172: SettingWithCopyWarning: \n",
      "A value is trying to be set on a copy of a slice from a DataFrame.\n",
      "Try using .loc[row_indexer,col_indexer] = value instead\n",
      "\n",
      "See the caveats in the documentation: https://pandas.pydata.org/pandas-docs/stable/user_guide/indexing.html#returning-a-view-versus-a-copy\n",
      "  buys['slippage_percentage'] = (((buys[comp2] - buys[comp1])/buys[comp1]) * 100)\n",
      "/home/warproxxx/Desktop/Projects/algorithms/algos/daddy/trade_analysis.py:173: SettingWithCopyWarning: \n",
      "A value is trying to be set on a copy of a slice from a DataFrame.\n",
      "Try using .loc[row_indexer,col_indexer] = value instead\n",
      "\n",
      "See the caveats in the documentation: https://pandas.pydata.org/pandas-docs/stable/user_guide/indexing.html#returning-a-view-versus-a-copy\n",
      "  sells['slippage_percentage'] = (((sells[comp1] - sells[comp2])/sells[comp2]) * 100)\n"
     ]
    }
   ],
   "source": [
    "summary, print_trades, buys, sells = get_details(trades, fundings)"
   ]
  },
  {
   "cell_type": "code",
   "execution_count": 8,
   "id": "sporting-hobby",
   "metadata": {},
   "outputs": [],
   "source": [
    "print_trades = print_trades[['transactTime', 'side', 'price', 'fee']]"
   ]
  },
  {
   "cell_type": "code",
   "execution_count": 9,
   "id": "threaded-folks",
   "metadata": {},
   "outputs": [
    {
     "data": {
      "text/plain": [
       "{'Total Trades': 356,\n",
       " 'Total Fees Paid': '6839.544 $',\n",
       " 'Avg Fee': '0.074 %',\n",
       " 'Total Funding Paid': '2682.841 $',\n",
       " 'Avg Funding Interest': '10.713 %',\n",
       " 'Avg Slippage to 00 (Neg Bad)': '0.006 %',\n",
       " 'Avg Slippage to 08 (Neg Bad)': '0.007 %'}"
      ]
     },
     "execution_count": 9,
     "metadata": {},
     "output_type": "execute_result"
    }
   ],
   "source": [
    "summary"
   ]
  },
  {
   "cell_type": "code",
   "execution_count": 10,
   "id": "general-turtle",
   "metadata": {},
   "outputs": [],
   "source": [
    "row = EXCHANGES.iloc[2]"
   ]
  },
  {
   "cell_type": "code",
   "execution_count": 11,
   "id": "dominican-observation",
   "metadata": {},
   "outputs": [],
   "source": [
    "trades, fundings = get_trade_funding_data(row)"
   ]
  },
  {
   "cell_type": "code",
   "execution_count": 12,
   "id": "cathedral-sarah",
   "metadata": {},
   "outputs": [],
   "source": [
    "trades = process_data(trades, row)"
   ]
  },
  {
   "cell_type": "code",
   "execution_count": 13,
   "id": "republican-account",
   "metadata": {},
   "outputs": [],
   "source": [
    "summary, print_trades, buys, sells = get_details(trades, fundings)"
   ]
  },
  {
   "cell_type": "code",
   "execution_count": 14,
   "id": "qualified-scoop",
   "metadata": {},
   "outputs": [
    {
     "data": {
      "text/plain": [
       "{'Total Trades': 3,\n",
       " 'Total Fees Paid': '7.819 $',\n",
       " 'Avg Fee': '0.063 %',\n",
       " 'Total Funding Paid': '2.168 $',\n",
       " 'Avg Funding Interest': '6.374 %',\n",
       " 'Avg Slippage to 00 (Neg Bad)': '0.0 %',\n",
       " 'Avg Slippage to 08 (Neg Bad)': '0.0 %'}"
      ]
     },
     "execution_count": 14,
     "metadata": {},
     "output_type": "execute_result"
    }
   ],
   "source": [
    "summary"
   ]
  },
  {
   "cell_type": "code",
   "execution_count": 15,
   "id": "major-token",
   "metadata": {},
   "outputs": [
    {
     "data": {
      "text/html": [
       "<div>\n",
       "<style scoped>\n",
       "    .dataframe tbody tr th:only-of-type {\n",
       "        vertical-align: middle;\n",
       "    }\n",
       "\n",
       "    .dataframe tbody tr th {\n",
       "        vertical-align: top;\n",
       "    }\n",
       "\n",
       "    .dataframe thead th {\n",
       "        text-align: right;\n",
       "    }\n",
       "</style>\n",
       "<table border=\"1\" class=\"dataframe\">\n",
       "  <thead>\n",
       "    <tr style=\"text-align: right;\">\n",
       "      <th></th>\n",
       "      <th>transactTime</th>\n",
       "      <th>side</th>\n",
       "      <th>price</th>\n",
       "      <th>transactTime</th>\n",
       "      <th>fee</th>\n",
       "    </tr>\n",
       "  </thead>\n",
       "  <tbody>\n",
       "    <tr>\n",
       "      <th>0</th>\n",
       "      <td>2021-05-08 10:40:00</td>\n",
       "      <td>BUY</td>\n",
       "      <td>58929.975610</td>\n",
       "      <td>2021-05-08 10:40:00</td>\n",
       "      <td>3.044323</td>\n",
       "    </tr>\n",
       "    <tr>\n",
       "      <th>1</th>\n",
       "      <td>2021-05-08 16:00:00</td>\n",
       "      <td>SELL</td>\n",
       "      <td>57749.706098</td>\n",
       "      <td>2021-05-08 16:00:00</td>\n",
       "      <td>2.983350</td>\n",
       "    </tr>\n",
       "    <tr>\n",
       "      <th>2</th>\n",
       "      <td>2021-05-08 19:30:00</td>\n",
       "      <td>BUY</td>\n",
       "      <td>59244.583333</td>\n",
       "      <td>2021-05-08 19:30:00</td>\n",
       "      <td>1.791556</td>\n",
       "    </tr>\n",
       "  </tbody>\n",
       "</table>\n",
       "</div>"
      ],
      "text/plain": [
       "         transactTime  side         price        transactTime       fee\n",
       "0 2021-05-08 10:40:00   BUY  58929.975610 2021-05-08 10:40:00  3.044323\n",
       "1 2021-05-08 16:00:00  SELL  57749.706098 2021-05-08 16:00:00  2.983350\n",
       "2 2021-05-08 19:30:00   BUY  59244.583333 2021-05-08 19:30:00  1.791556"
      ]
     },
     "execution_count": 15,
     "metadata": {},
     "output_type": "execute_result"
    }
   ],
   "source": [
    "print_trades"
   ]
  },
  {
   "cell_type": "code",
   "execution_count": null,
   "id": "right-guinea",
   "metadata": {},
   "outputs": [],
   "source": []
  }
 ],
 "metadata": {
  "kernelspec": {
   "display_name": "Python 3.8.2 64-bit",
   "language": "python",
   "name": "python38264bit5e026c37115b47dab948fc9d59355aca"
  },
  "language_info": {
   "codemirror_mode": {
    "name": "ipython",
    "version": 3
   },
   "file_extension": ".py",
   "mimetype": "text/x-python",
   "name": "python",
   "nbconvert_exporter": "python",
   "pygments_lexer": "ipython3",
   "version": "3.8.5"
  }
 },
 "nbformat": 4,
 "nbformat_minor": 5
}
