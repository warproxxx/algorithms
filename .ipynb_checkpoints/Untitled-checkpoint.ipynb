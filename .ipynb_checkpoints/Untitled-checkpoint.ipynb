{
 "cells": [
  {
   "cell_type": "code",
   "execution_count": 27,
   "metadata": {},
   "outputs": [],
   "source": [
    "from algos.daddy.live_trader import liveTrading"
   ]
  },
  {
   "cell_type": "code",
   "execution_count": 28,
   "metadata": {},
   "outputs": [],
   "source": [
    "lt = liveTrading(exchange='okex', symbol='BTC-USD-SWAP', testnet=False)"
   ]
  },
  {
   "cell_type": "code",
   "execution_count": 4,
   "metadata": {},
   "outputs": [
    {
     "data": {
      "text/plain": [
       "0.0119"
      ]
     },
     "execution_count": 4,
     "metadata": {},
     "output_type": "execute_result"
    }
   ],
   "source": [
    "lt.get_balance()"
   ]
  },
  {
   "cell_type": "code",
   "execution_count": 30,
   "metadata": {},
   "outputs": [
    {
     "data": {
      "text/plain": [
       "'0.0240'"
      ]
     },
     "execution_count": 30,
     "metadata": {},
     "output_type": "execute_result"
    }
   ],
   "source": []
  },
  {
   "cell_type": "code",
   "execution_count": 15,
   "metadata": {},
   "outputs": [],
   "source": [
    "import pandas as pd"
   ]
  },
  {
   "cell_type": "code",
   "execution_count": 66,
   "metadata": {},
   "outputs": [],
   "source": [
    "trades = pd.read_csv('data/mex_trades.csv')\n",
    "trades['transactTime'] = pd.to_datetime(trades['transactTime'])\n",
    "trades['transactTime_trades'] = trades['transactTime']\n",
    "\n",
    "funding = pd.read_csv('data/mex_funding.csv')\n",
    "funding['transactTime'] = pd.to_datetime(funding['transactTime'])\n",
    "\n",
    "funding['funding_paid'] = funding['price'] * funding['execComm']\n",
    "\n",
    "sells = trades[trades['side'] == 'SELL']\n",
    "\n",
    "fundings = pd.merge_asof(funding, sells, on='transactTime', direction='backward')[['transactTime_trades', 'funding_paid']]\n",
    "fundings = fundings.groupby('transactTime_trades').sum()\n",
    "fundings = fundings.reset_index().rename(columns={'transactTime_trades': 'transactTime'})\n",
    "\n",
    "trades = trades.merge(fundings, on='transactTime', how='left')"
   ]
  },
  {
   "cell_type": "code",
   "execution_count": null,
   "metadata": {},
   "outputs": [],
   "source": []
  },
  {
   "cell_type": "code",
   "execution_count": 9,
   "metadata": {},
   "outputs": [],
   "source": [
    "def calc_slippage(ser):\n",
    "    if ser['side'] == 'SELL':\n",
    "        return (((ser['expectedPrice'] - ser['actualPrice'])/ser['actualPrice']) * 100)\n",
    "    elif ser['side'] == 'BUY':\n",
    "        return (((ser['actualPrice'] - ser['expectedPrice'])/ser['expectedPrice']) * 100)"
   ]
  },
  {
   "cell_type": "code",
   "execution_count": 10,
   "metadata": {},
   "outputs": [
    {
     "data": {
      "text/plain": [
       "0    -0.006674\n",
       "1    -0.034982\n",
       "2     0.246355\n",
       "3    -0.011427\n",
       "4    -0.002994\n",
       "5     0.013383\n",
       "6     0.101583\n",
       "7    -0.057032\n",
       "8    -0.497341\n",
       "9     0.069618\n",
       "10   -0.004961\n",
       "11   -0.314881\n",
       "12    0.133493\n",
       "13   -0.089185\n",
       "14   -0.033259\n",
       "15    0.002323\n",
       "16    0.100257\n",
       "17   -0.062188\n",
       "18   -0.045707\n",
       "19    0.005167\n",
       "20   -0.077029\n",
       "21    0.109543\n",
       "22    0.014814\n",
       "23    0.133513\n",
       "24    0.061203\n",
       "25    0.169011\n",
       "26    0.077456\n",
       "27   -0.176499\n",
       "28    0.217639\n",
       "29   -0.185594\n",
       "30   -0.149244\n",
       "31    0.256523\n",
       "32    0.187553\n",
       "33   -0.521795\n",
       "34   -0.099744\n",
       "35   -0.593991\n",
       "36    0.302022\n",
       "37   -0.035481\n",
       "38    0.036097\n",
       "dtype: float64"
      ]
     },
     "execution_count": 10,
     "metadata": {},
     "output_type": "execute_result"
    }
   ],
   "source": [
    "trades.apply(calc_slippage, axis=1)"
   ]
  },
  {
   "cell_type": "code",
   "execution_count": null,
   "metadata": {},
   "outputs": [],
   "source": []
  }
 ],
 "metadata": {
  "kernelspec": {
   "display_name": "Python 3.8.2 64-bit",
   "language": "python",
   "name": "python38264bit5e026c37115b47dab948fc9d59355aca"
  },
  "language_info": {
   "codemirror_mode": {
    "name": "ipython",
    "version": 3
   },
   "file_extension": ".py",
   "mimetype": "text/x-python",
   "name": "python",
   "nbconvert_exporter": "python",
   "pygments_lexer": "ipython3",
   "version": "3.8.5"
  }
 },
 "nbformat": 4,
 "nbformat_minor": 4
}
