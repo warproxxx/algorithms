{
 "cells": [
  {
   "cell_type": "code",
   "execution_count": 1,
   "metadata": {},
   "outputs": [],
   "source": [
    "from algos.vol_trend.live_trader import liveTrading"
   ]
  },
  {
   "cell_type": "code",
   "execution_count": 2,
   "metadata": {},
   "outputs": [],
   "source": [
    "lt_m = liveTrading('BTC-MOVE-2021Q1')"
   ]
  },
  {
   "cell_type": "code",
   "execution_count": 3,
   "metadata": {},
   "outputs": [
    {
     "data": {
      "text/plain": [
       "('SHORT', 7030.5, 0.0002)"
      ]
     },
     "execution_count": 3,
     "metadata": {},
     "output_type": "execute_result"
    }
   ],
   "source": [
    "lt_m.get_position()"
   ]
  },
  {
   "cell_type": "code",
   "execution_count": 4,
   "metadata": {},
   "outputs": [],
   "source": [
    "#get position is wrong on short"
   ]
  },
  {
   "cell_type": "code",
   "execution_count": 6,
   "metadata": {
    "scrolled": true
   },
   "outputs": [
    {
     "name": "stdout",
     "output_type": "stream",
     "text": [
      "Time at filling order is: 2020-12-24 12:37:28.842988\n",
      "FTX_BTC-MOVE-2021Q1_current_pos\n",
      "Sending market buy order for BTC-MOVE-2021Q1 of size 0.0002 in 2020-12-24 12:37:29.086887\n"
     ]
    }
   ],
   "source": [
    "lt_m.fill_order('close', 'short', 'now')"
   ]
  },
  {
   "cell_type": "code",
   "execution_count": 7,
   "metadata": {},
   "outputs": [
    {
     "name": "stdout",
     "output_type": "stream",
     "text": [
      "Time at filling order is: 2020-12-24 12:37:43.906369\n",
      "FTX_BTC-MOVE-2021Q1_current_pos\n",
      "Sending market buy order for BTC-MOVE-2021Q1 of size 0.0002 in 2020-12-24 12:37:44.129018\n"
     ]
    }
   ],
   "source": [
    "lt_m.fill_order('open', 'long', 'now')"
   ]
  },
  {
   "cell_type": "code",
   "execution_count": 8,
   "metadata": {},
   "outputs": [
    {
     "data": {
      "text/plain": [
       "('LONG', 7047.5, 0.0002)"
      ]
     },
     "execution_count": 8,
     "metadata": {},
     "output_type": "execute_result"
    }
   ],
   "source": [
    "lt_m.get_position()"
   ]
  },
  {
   "cell_type": "code",
   "execution_count": 9,
   "metadata": {},
   "outputs": [
    {
     "name": "stdout",
     "output_type": "stream",
     "text": [
      "Time at filling order is: 2020-12-24 12:37:56.962439\n",
      "FTX_BTC-MOVE-2021Q1_current_pos\n",
      "Sending market sell order for BTC-MOVE-2021Q1 of size 0.0002 in 2020-12-24 12:37:57.204577\n"
     ]
    }
   ],
   "source": [
    "lt_m.fill_order('close', 'long', 'now')"
   ]
  },
  {
   "cell_type": "code",
   "execution_count": 10,
   "metadata": {},
   "outputs": [
    {
     "data": {
      "text/plain": [
       "('NONE', 0, 0)"
      ]
     },
     "execution_count": 10,
     "metadata": {},
     "output_type": "execute_result"
    }
   ],
   "source": [
    "lt_m.get_position()"
   ]
  },
  {
   "cell_type": "code",
   "execution_count": null,
   "metadata": {},
   "outputs": [],
   "source": []
  },
  {
   "cell_type": "code",
   "execution_count": null,
   "metadata": {},
   "outputs": [],
   "source": []
  },
  {
   "cell_type": "code",
   "execution_count": 2,
   "metadata": {},
   "outputs": [],
   "source": [
    "lt_p = liveTrading('BTC-PERP')"
   ]
  },
  {
   "cell_type": "code",
   "execution_count": 3,
   "metadata": {},
   "outputs": [
    {
     "data": {
      "text/plain": [
       "('NONE', 0, 0)"
      ]
     },
     "execution_count": 3,
     "metadata": {},
     "output_type": "execute_result"
    }
   ],
   "source": [
    "lt_p.get_position()"
   ]
  },
  {
   "cell_type": "code",
   "execution_count": 4,
   "metadata": {},
   "outputs": [
    {
     "data": {
      "text/plain": [
       "(0.0015, 22946.5)"
      ]
     },
     "execution_count": 4,
     "metadata": {},
     "output_type": "execute_result"
    }
   ],
   "source": [
    "lt_p.get_max_amount('open')"
   ]
  },
  {
   "cell_type": "code",
   "execution_count": 5,
   "metadata": {},
   "outputs": [
    {
     "name": "stdout",
     "output_type": "stream",
     "text": [
      "Time at filling order is: 2020-12-24 12:51:58.915594\n",
      "FTX_BTC-PERP_current_pos\n",
      "Sending limit sell order for BTC-PERP of size 0.0015 @ 22948.5 in 2020-12-24 12:51:59.241854\n",
      "Sending limit sell order for BTC-PERP of size 0.0015 @ 22948.5 in 2020-12-24 12:52:00.441631\n",
      "Best Bid is 22947.0 and Best Ask is 22946.5\n",
      "Current price is much better, closing to open new one\n",
      "Sending limit sell order for BTC-PERP of size 0.0015 @ 22944.0 in 2020-12-24 12:52:05.729591\n",
      "Sending limit sell order for BTC-PERP of size 0.0015 @ 22944.0 in 2020-12-24 12:52:07.453627\n",
      "Best Bid is 22938.5 and Best Ask is 22938.0\n",
      "Current price is much better, closing to open new one\n",
      "Sending limit sell order for BTC-PERP of size 0.0015 @ 22952.0 in 2020-12-24 12:52:11.088340\n",
      "Sending limit sell order for BTC-PERP of size 0.0015 @ 22952.0 in 2020-12-24 12:52:11.782712\n",
      "Sending limit sell order for BTC-PERP of size 0.0015 @ 22952.0 in 2020-12-24 12:52:12.508023\n",
      "Sending limit sell order for BTC-PERP of size 0.0015 @ 22952.0 in 2020-12-24 12:52:13.729450\n",
      "Sending limit sell order for BTC-PERP of size 0.0015 @ 22952.0 in 2020-12-24 12:52:14.453731\n",
      "Sending limit sell order for BTC-PERP of size 0.0015 @ 22952.5 in 2020-12-24 12:52:15.628569\n",
      "Sending limit sell order for BTC-PERP of size 0.0015 @ 22952.5 in 2020-12-24 12:52:16.812435\n",
      "Sending limit sell order for BTC-PERP of size 0.0015 @ 22952.5 in 2020-12-24 12:52:18.034909\n",
      "Sending limit sell order for BTC-PERP of size 0.0015 @ 22952.5 in 2020-12-24 12:52:19.280397\n",
      "Sending limit sell order for BTC-PERP of size 0.0015 @ 22952.5 in 2020-12-24 12:52:19.976726\n",
      "Sending limit sell order for BTC-PERP of size 0.0015 @ 22954.5 in 2020-12-24 12:52:20.693456\n",
      "Sending limit sell order for BTC-PERP of size 0.0015 @ 22959.5 in 2020-12-24 12:52:21.449584\n",
      "Sending limit sell order for BTC-PERP of size 0.0015 @ 22959.5 in 2020-12-24 12:52:22.147112\n",
      "Sending limit sell order for BTC-PERP of size 0.0015 @ 22962.5 in 2020-12-24 12:52:23.344474\n",
      "Sending limit sell order for BTC-PERP of size 0.0015 @ 22967.0 in 2020-12-24 12:52:24.498695\n",
      "Best Bid is 22967.0 and Best Ask is 22966.5\n",
      "Best Bid is 22967.0 and Best Ask is 22966.5\n",
      "Best Bid is 22967.0 and Best Ask is 22966.5\n",
      "Best Bid is 22967.0 and Best Ask is 22966.5\n",
      "Best Bid is 22967.0 and Best Ask is 22966.5\n",
      "Order has been filled. Exiting out of loop\n"
     ]
    }
   ],
   "source": [
    "lt_p.fill_order('open', 'short')"
   ]
  },
  {
   "cell_type": "code",
   "execution_count": 6,
   "metadata": {},
   "outputs": [
    {
     "name": "stdout",
     "output_type": "stream",
     "text": [
      "Time at filling order is: 2020-12-24 12:52:42.115391\n",
      "FTX_BTC-PERP_current_pos\n",
      "Sending limit buy order for BTC-PERP of size 0.0015 @ 22971.5 in 2020-12-24 12:52:42.361933\n",
      "Sending limit buy order for BTC-PERP of size 0.0015 @ 22968.0 in 2020-12-24 12:52:43.052181\n",
      "Sending limit buy order for BTC-PERP of size 0.0015 @ 22968.0 in 2020-12-24 12:52:43.757638\n",
      "Best Bid is 22971.5 and Best Ask is 22971.0\n",
      "Current price is much better, closing to open new one\n",
      "Sending limit buy order for BTC-PERP of size 0.0015 @ 22972.0 in 2020-12-24 12:52:47.036954\n",
      "Best Bid is 22979.5 and Best Ask is 22979.0\n",
      "Current price is much better, closing to open new one\n",
      "Sending limit buy order for BTC-PERP of size 0.0015 @ 22969.5 in 2020-12-24 12:52:51.207629\n",
      "Sending limit buy order for BTC-PERP of size 0.0015 @ 22972.0 in 2020-12-24 12:52:52.417181\n",
      "Best Bid is 22972.5 and Best Ask is 22972.0\n",
      "Best Bid is 22972.5 and Best Ask is 22972.0\n",
      "Order has been filled. Exiting out of loop\n"
     ]
    }
   ],
   "source": [
    "lt_p.fill_order('close', 'short')"
   ]
  },
  {
   "cell_type": "code",
   "execution_count": 10,
   "metadata": {},
   "outputs": [
    {
     "name": "stdout",
     "output_type": "stream",
     "text": [
      "Time at filling order is: 2020-12-24 12:53:40.753272\n",
      "FTX_BTC-PERP_current_pos\n",
      "Sending market buy order for BTC-PERP of size 0.0015 in 2020-12-24 12:53:40.997215\n"
     ]
    }
   ],
   "source": [
    "lt_p.fill_order('open', 'long', 'now')"
   ]
  },
  {
   "cell_type": "code",
   "execution_count": 11,
   "metadata": {},
   "outputs": [
    {
     "data": {
      "text/plain": [
       "('LONG', 22975.5, 0.0015)"
      ]
     },
     "execution_count": 11,
     "metadata": {},
     "output_type": "execute_result"
    }
   ],
   "source": [
    "lt_p.get_position()"
   ]
  },
  {
   "cell_type": "code",
   "execution_count": 12,
   "metadata": {},
   "outputs": [
    {
     "name": "stdout",
     "output_type": "stream",
     "text": [
      "Time at filling order is: 2020-12-24 12:53:56.676177\n",
      "FTX_BTC-PERP_current_pos\n",
      "Sending market sell order for BTC-PERP of size 0.0015 in 2020-12-24 12:53:56.915847\n"
     ]
    }
   ],
   "source": [
    "lt_p.fill_order('close', 'long', 'now')"
   ]
  },
  {
   "cell_type": "code",
   "execution_count": 15,
   "metadata": {},
   "outputs": [
    {
     "name": "stdout",
     "output_type": "stream",
     "text": [
      "Time at filling order is: 2020-12-24 12:54:18.499687\n",
      "FTX_BTC-PERP_current_pos\n",
      "Sending market sell order for BTC-PERP of size 0.0015 in 2020-12-24 12:54:18.715780\n"
     ]
    }
   ],
   "source": [
    "lt_p.fill_order('open', 'short', 'now')"
   ]
  },
  {
   "cell_type": "code",
   "execution_count": 16,
   "metadata": {},
   "outputs": [
    {
     "data": {
      "text/plain": [
       "('SHORT', 22978.5, 0.0015)"
      ]
     },
     "execution_count": 16,
     "metadata": {},
     "output_type": "execute_result"
    }
   ],
   "source": [
    "lt_p.get_position()"
   ]
  },
  {
   "cell_type": "code",
   "execution_count": 17,
   "metadata": {},
   "outputs": [
    {
     "name": "stdout",
     "output_type": "stream",
     "text": [
      "Time at filling order is: 2020-12-24 12:54:27.951970\n",
      "FTX_BTC-PERP_current_pos\n",
      "Sending market buy order for BTC-PERP of size 0.0015 in 2020-12-24 12:54:28.196050\n"
     ]
    }
   ],
   "source": [
    "lt_p.fill_order('close', 'short', 'now')"
   ]
  }
 ],
 "metadata": {
  "kernelspec": {
   "display_name": "Python 3.8.2 64-bit",
   "language": "python",
   "name": "python38264bit5e026c37115b47dab948fc9d59355aca"
  },
  "language_info": {
   "codemirror_mode": {
    "name": "ipython",
    "version": 3
   },
   "file_extension": ".py",
   "mimetype": "text/x-python",
   "name": "python",
   "nbconvert_exporter": "python",
   "pygments_lexer": "ipython3",
   "version": "3.8.5"
  }
 },
 "nbformat": 4,
 "nbformat_minor": 4
}
