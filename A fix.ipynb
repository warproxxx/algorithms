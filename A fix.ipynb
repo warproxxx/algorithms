{
 "cells": [
  {
   "cell_type": "code",
   "execution_count": 1,
   "id": "reported-white",
   "metadata": {},
   "outputs": [],
   "source": [
    "from algos.vol_trend.live_trader import liveTrading"
   ]
  },
  {
   "cell_type": "code",
   "execution_count": 4,
   "id": "acquired-clinic",
   "metadata": {},
   "outputs": [],
   "source": [
    "lt = liveTrading('BTC-MOVE-2021Q3')"
   ]
  },
  {
   "cell_type": "code",
   "execution_count": 5,
   "id": "further-jewelry",
   "metadata": {},
   "outputs": [
    {
     "data": {
      "text/plain": [
       "('SHORT', 19525.0, 0.0001)"
      ]
     },
     "execution_count": 5,
     "metadata": {},
     "output_type": "execute_result"
    }
   ],
   "source": [
    "lt.get_position()"
   ]
  },
  {
   "cell_type": "code",
   "execution_count": null,
   "id": "built-techno",
   "metadata": {},
   "outputs": [],
   "source": []
  }
 ],
 "metadata": {
  "kernelspec": {
   "display_name": "Python 3.8.2 64-bit",
   "language": "python",
   "name": "python38264bit5e026c37115b47dab948fc9d59355aca"
  },
  "language_info": {
   "codemirror_mode": {
    "name": "ipython",
    "version": 3
   },
   "file_extension": ".py",
   "mimetype": "text/x-python",
   "name": "python",
   "nbconvert_exporter": "python",
   "pygments_lexer": "ipython3",
   "version": "3.8.5"
  }
 },
 "nbformat": 4,
 "nbformat_minor": 5
}
