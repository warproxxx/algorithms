{
 "cells": [
  {
   "cell_type": "code",
   "execution_count": 1,
   "id": "heated-penny",
   "metadata": {},
   "outputs": [],
   "source": [
    "import pandas as pd\n",
    "from algos.daddy.live_trader import liveTrading, round_down\n",
    "import decimal"
   ]
  },
  {
   "cell_type": "code",
   "execution_count": 2,
   "id": "serial-chancellor",
   "metadata": {},
   "outputs": [],
   "source": [
    "config_file = \"test_exchanges.csv\""
   ]
  },
  {
   "cell_type": "code",
   "execution_count": 3,
   "id": "cross-wedding",
   "metadata": {},
   "outputs": [],
   "source": [
    "parameter_file = \"test_pars.json\""
   ]
  },
  {
   "cell_type": "code",
   "execution_count": 4,
   "id": "special-president",
   "metadata": {},
   "outputs": [],
   "source": [
    "EXCHANGES = pd.read_csv(config_file)"
   ]
  },
  {
   "cell_type": "code",
   "execution_count": 5,
   "id": "ancient-faith",
   "metadata": {},
   "outputs": [],
   "source": [
    "details = EXCHANGES.iloc[0]"
   ]
  },
  {
   "cell_type": "code",
   "execution_count": 6,
   "id": "encouraging-parameter",
   "metadata": {},
   "outputs": [],
   "source": [
    "exchange_name = details['exchange']\n",
    "name = details['name']"
   ]
  },
  {
   "cell_type": "code",
   "execution_count": 7,
   "id": "scheduled-brooks",
   "metadata": {},
   "outputs": [],
   "source": [
    "lt = liveTrading(exchange_name, name, symbol=details['ccxt_symbol'],testnet=False, parameter_file=parameter_file, config_file=config_file) "
   ]
  },
  {
   "cell_type": "code",
   "execution_count": 8,
   "id": "pacific-explanation",
   "metadata": {},
   "outputs": [
    {
     "name": "stdout",
     "output_type": "stream",
     "text": [
      "\n",
      "Time at filling order is: 2021-05-11 05:54:58.488530\n",
      "Sending market buy order for ETH-PERP of size 0.003 on ftx in 2021-05-11 05:54:59.361657\n"
     ]
    }
   ],
   "source": [
    "lt.fill_order('buy', 'now')"
   ]
  },
  {
   "cell_type": "code",
   "execution_count": 9,
   "id": "white-nancy",
   "metadata": {},
   "outputs": [
    {
     "data": {
      "text/plain": [
       "{'info': {'id': '41615328',\n",
       "  'market': 'ETH-PERP',\n",
       "  'future': 'ETH-PERP',\n",
       "  'side': 'sell',\n",
       "  'type': 'stop',\n",
       "  'orderPrice': None,\n",
       "  'triggerPrice': '1955.9',\n",
       "  'size': '0.003',\n",
       "  'status': 'open',\n",
       "  'createdAt': '2021-05-11T05:55:17.737645+00:00',\n",
       "  'triggeredAt': None,\n",
       "  'orderId': None,\n",
       "  'error': None,\n",
       "  'reduceOnly': False,\n",
       "  'trailValue': None,\n",
       "  'trailStart': None,\n",
       "  'cancelledAt': None,\n",
       "  'cancelReason': None,\n",
       "  'retryUntilFilled': True,\n",
       "  'orderType': 'market'},\n",
       " 'id': '41615328',\n",
       " 'clientOrderId': None,\n",
       " 'timestamp': 1620712517737,\n",
       " 'datetime': '2021-05-11T05:55:17.737Z',\n",
       " 'lastTradeTimestamp': None,\n",
       " 'symbol': 'ETH-PERP',\n",
       " 'type': 'stop',\n",
       " 'timeInForce': None,\n",
       " 'postOnly': None,\n",
       " 'side': 'sell',\n",
       " 'price': 1955.9,\n",
       " 'stopPrice': 1955.9,\n",
       " 'amount': 0.003,\n",
       " 'cost': None,\n",
       " 'average': None,\n",
       " 'filled': None,\n",
       " 'remaining': None,\n",
       " 'status': 'open',\n",
       " 'fee': None,\n",
       " 'trades': None}"
      ]
     },
     "execution_count": 9,
     "metadata": {},
     "output_type": "execute_result"
    }
   ],
   "source": [
    "lt.add_stop_loss()"
   ]
  },
  {
   "cell_type": "code",
   "execution_count": 10,
   "id": "mature-pathology",
   "metadata": {},
   "outputs": [],
   "source": [
    "lt.update_stop()"
   ]
  },
  {
   "cell_type": "code",
   "execution_count": 11,
   "id": "accepted-relief",
   "metadata": {},
   "outputs": [],
   "source": [
    "lt.close_stop_order()"
   ]
  },
  {
   "cell_type": "code",
   "execution_count": null,
   "id": "natural-lebanon",
   "metadata": {},
   "outputs": [
    {
     "name": "stdout",
     "output_type": "stream",
     "text": [
      "\n",
      "Time at filling order is: 2021-05-11 05:55:55.677289\n"
     ]
    }
   ],
   "source": [
    "lt.fill_order('sell', 'now')"
   ]
  },
  {
   "cell_type": "code",
   "execution_count": null,
   "id": "generous-decimal",
   "metadata": {},
   "outputs": [],
   "source": []
  }
 ],
 "metadata": {
  "kernelspec": {
   "display_name": "Python 3.8.2 64-bit",
   "language": "python",
   "name": "python38264bit5e026c37115b47dab948fc9d59355aca"
  },
  "language_info": {
   "codemirror_mode": {
    "name": "ipython",
    "version": 3
   },
   "file_extension": ".py",
   "mimetype": "text/x-python",
   "name": "python",
   "nbconvert_exporter": "python",
   "pygments_lexer": "ipython3",
   "version": "3.8.5"
  }
 },
 "nbformat": 4,
 "nbformat_minor": 5
}
