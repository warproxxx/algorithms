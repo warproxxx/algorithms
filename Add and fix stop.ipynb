{
 "cells": [
  {
   "cell_type": "code",
   "execution_count": 1,
   "id": "heated-penny",
   "metadata": {},
   "outputs": [],
   "source": [
    "import pandas as pd\n",
    "from algos.daddy.live_trader import liveTrading, round_down\n",
    "import decimal"
   ]
  },
  {
   "cell_type": "code",
   "execution_count": 2,
   "id": "serial-chancellor",
   "metadata": {},
   "outputs": [],
   "source": [
    "config_file = \"test_exchanges.csv\""
   ]
  },
  {
   "cell_type": "code",
   "execution_count": 3,
   "id": "cross-wedding",
   "metadata": {},
   "outputs": [],
   "source": [
    "parameter_file = \"test_pars.json\""
   ]
  },
  {
   "cell_type": "code",
   "execution_count": 4,
   "id": "tired-pioneer",
   "metadata": {},
   "outputs": [],
   "source": [
    "EXCHANGES = pd.read_csv(config_file)"
   ]
  },
  {
   "cell_type": "code",
   "execution_count": 5,
   "id": "closed-pickup",
   "metadata": {},
   "outputs": [],
   "source": [
    "details = EXCHANGES.iloc[0]"
   ]
  },
  {
   "cell_type": "code",
   "execution_count": 6,
   "id": "dynamic-catalog",
   "metadata": {},
   "outputs": [],
   "source": [
    "exchange_name = details['exchange']\n",
    "name = details['name']"
   ]
  },
  {
   "cell_type": "code",
   "execution_count": 7,
   "id": "expressed-martial",
   "metadata": {},
   "outputs": [],
   "source": [
    "lt = liveTrading(exchange_name, name, symbol=details['ccxt_symbol'],testnet=False, parameter_file=parameter_file, config_file=config_file) "
   ]
  },
  {
   "cell_type": "code",
   "execution_count": 8,
   "id": "stuffed-economics",
   "metadata": {},
   "outputs": [],
   "source": [
    "lt.close_stop_order()"
   ]
  },
  {
   "cell_type": "code",
   "execution_count": 8,
   "id": "rough-kuwait",
   "metadata": {},
   "outputs": [
    {
     "data": {
      "text/plain": [
       "['27904.099999']"
      ]
     },
     "execution_count": 8,
     "metadata": {},
     "output_type": "execute_result"
    }
   ],
   "source": [
    "lt.get_stop()"
   ]
  },
  {
   "cell_type": "code",
   "execution_count": 11,
   "id": "formed-knowing",
   "metadata": {},
   "outputs": [],
   "source": [
    "orders = lt.get_orders()"
   ]
  },
  {
   "cell_type": "code",
   "execution_count": 12,
   "id": "exact-williams",
   "metadata": {},
   "outputs": [],
   "source": [
    "current_pos, avgEntryPrice, _ = lt.get_position()"
   ]
  },
  {
   "cell_type": "code",
   "execution_count": 13,
   "id": "juvenile-manner",
   "metadata": {},
   "outputs": [
    {
     "name": "stdout",
     "output_type": "stream",
     "text": [
      "There are multiple stops in test_ftx. Removing to readd\n"
     ]
    }
   ],
   "source": [
    "if current_pos != \"NONE\":\n",
    "    if len(orders) == 0:\n",
    "        print(\"There is no stop in {}, adding it\".format(name))\n",
    "        lt.add_stop_loss()\n",
    "    elif len(orders) > 1:\n",
    "        print(\"There are multiple stops in {}. Removing to readd\".format(name))"
   ]
  },
  {
   "cell_type": "code",
   "execution_count": 14,
   "id": "preceding-going",
   "metadata": {},
   "outputs": [],
   "source": [
    "lt.close_stop_order()"
   ]
  },
  {
   "cell_type": "code",
   "execution_count": 15,
   "id": "committed-shower",
   "metadata": {},
   "outputs": [
    {
     "data": {
      "text/plain": [
       "{'info': {'id': '41901505',\n",
       "  'market': 'BTC-PERP',\n",
       "  'future': 'BTC-PERP',\n",
       "  'side': 'sell',\n",
       "  'type': 'stop',\n",
       "  'orderPrice': None,\n",
       "  'triggerPrice': '28669.0',\n",
       "  'size': '0.035',\n",
       "  'status': 'open',\n",
       "  'createdAt': '2021-05-12T03:55:10.450798+00:00',\n",
       "  'triggeredAt': None,\n",
       "  'orderId': None,\n",
       "  'error': None,\n",
       "  'reduceOnly': False,\n",
       "  'trailValue': None,\n",
       "  'trailStart': None,\n",
       "  'cancelledAt': None,\n",
       "  'cancelReason': None,\n",
       "  'retryUntilFilled': True,\n",
       "  'orderType': 'market'},\n",
       " 'id': '41901505',\n",
       " 'clientOrderId': None,\n",
       " 'timestamp': 1620791710450,\n",
       " 'datetime': '2021-05-12T03:55:10.450Z',\n",
       " 'lastTradeTimestamp': None,\n",
       " 'symbol': 'BTC-PERP',\n",
       " 'type': 'stop',\n",
       " 'timeInForce': None,\n",
       " 'postOnly': None,\n",
       " 'side': 'sell',\n",
       " 'price': 28669.0,\n",
       " 'stopPrice': 28669.0,\n",
       " 'amount': 0.035,\n",
       " 'cost': None,\n",
       " 'average': None,\n",
       " 'filled': None,\n",
       " 'remaining': None,\n",
       " 'status': 'open',\n",
       " 'fee': None,\n",
       " 'trades': None}"
      ]
     },
     "execution_count": 15,
     "metadata": {},
     "output_type": "execute_result"
    }
   ],
   "source": [
    "lt.add_stop_loss()"
   ]
  },
  {
   "cell_type": "code",
   "execution_count": 16,
   "id": "registered-balloon",
   "metadata": {},
   "outputs": [],
   "source": [
    "lt.update_stop()"
   ]
  },
  {
   "cell_type": "code",
   "execution_count": null,
   "id": "afraid-favor",
   "metadata": {},
   "outputs": [],
   "source": []
  }
 ],
 "metadata": {
  "kernelspec": {
   "display_name": "Python 3.8.2 64-bit",
   "language": "python",
   "name": "python38264bit5e026c37115b47dab948fc9d59355aca"
  },
  "language_info": {
   "codemirror_mode": {
    "name": "ipython",
    "version": 3
   },
   "file_extension": ".py",
   "mimetype": "text/x-python",
   "name": "python",
   "nbconvert_exporter": "python",
   "pygments_lexer": "ipython3",
   "version": "3.8.5"
  }
 },
 "nbformat": 4,
 "nbformat_minor": 5
}
