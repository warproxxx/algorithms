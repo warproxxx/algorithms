{
 "cells": [
  {
   "cell_type": "code",
   "execution_count": 1,
   "id": "heated-penny",
   "metadata": {},
   "outputs": [],
   "source": [
    "import pandas as pd\n",
    "from algos.daddy.live_trader import liveTrading, round_down\n",
    "import decimal"
   ]
  },
  {
   "cell_type": "code",
   "execution_count": 2,
   "id": "serial-chancellor",
   "metadata": {},
   "outputs": [],
   "source": [
    "config_file = \"test_exchanges.csv\""
   ]
  },
  {
   "cell_type": "code",
   "execution_count": 3,
   "id": "cross-wedding",
   "metadata": {},
   "outputs": [],
   "source": [
    "parameter_file = \"test_pars.json\""
   ]
  },
  {
   "cell_type": "code",
   "execution_count": 4,
   "id": "physical-shark",
   "metadata": {},
   "outputs": [],
   "source": [
    "EXCHANGES = pd.read_csv(config_file)"
   ]
  },
  {
   "cell_type": "code",
   "execution_count": 5,
   "id": "golden-bunny",
   "metadata": {},
   "outputs": [],
   "source": [
    "details = EXCHANGES.iloc[0]"
   ]
  },
  {
   "cell_type": "code",
   "execution_count": 6,
   "id": "recognized-engine",
   "metadata": {},
   "outputs": [],
   "source": [
    "exchange_name = details['exchange']\n",
    "name = details['name']"
   ]
  },
  {
   "cell_type": "code",
   "execution_count": 7,
   "id": "outstanding-official",
   "metadata": {},
   "outputs": [],
   "source": [
    "lt = liveTrading(exchange_name, name, symbol=details['ccxt_symbol'],testnet=False, parameter_file=parameter_file, config_file=config_file) "
   ]
  },
  {
   "cell_type": "code",
   "execution_count": 8,
   "id": "simplified-trainer",
   "metadata": {},
   "outputs": [
    {
     "data": {
      "text/plain": [
       "{'info': {'id': '41613714',\n",
       "  'market': 'DOGE-PERP',\n",
       "  'future': 'DOGE-PERP',\n",
       "  'side': 'sell',\n",
       "  'type': 'stop',\n",
       "  'orderPrice': None,\n",
       "  'triggerPrice': '0.246584',\n",
       "  'size': '47.0',\n",
       "  'status': 'open',\n",
       "  'createdAt': '2021-05-11T05:46:58.033137+00:00',\n",
       "  'triggeredAt': None,\n",
       "  'orderId': None,\n",
       "  'error': None,\n",
       "  'reduceOnly': False,\n",
       "  'trailValue': None,\n",
       "  'trailStart': None,\n",
       "  'cancelledAt': None,\n",
       "  'cancelReason': None,\n",
       "  'retryUntilFilled': True,\n",
       "  'orderType': 'market'},\n",
       " 'id': '41613714',\n",
       " 'clientOrderId': None,\n",
       " 'timestamp': 1620712018033,\n",
       " 'datetime': '2021-05-11T05:46:58.033Z',\n",
       " 'lastTradeTimestamp': None,\n",
       " 'symbol': 'DOGE-PERP',\n",
       " 'type': 'stop',\n",
       " 'timeInForce': None,\n",
       " 'postOnly': None,\n",
       " 'side': 'sell',\n",
       " 'price': 0.246584,\n",
       " 'stopPrice': 0.246584,\n",
       " 'amount': 47.0,\n",
       " 'cost': None,\n",
       " 'average': None,\n",
       " 'filled': None,\n",
       " 'remaining': None,\n",
       " 'status': 'open',\n",
       " 'fee': None,\n",
       " 'trades': None}"
      ]
     },
     "execution_count": 8,
     "metadata": {},
     "output_type": "execute_result"
    }
   ],
   "source": [
    "lt.add_stop_loss()"
   ]
  },
  {
   "cell_type": "code",
   "execution_count": 9,
   "id": "express-underwear",
   "metadata": {},
   "outputs": [],
   "source": [
    "lt.update_stop()"
   ]
  },
  {
   "cell_type": "code",
   "execution_count": 10,
   "id": "attempted-inside",
   "metadata": {},
   "outputs": [],
   "source": [
    "lt.close_stop_order()"
   ]
  },
  {
   "cell_type": "code",
   "execution_count": 11,
   "id": "velvet-father",
   "metadata": {},
   "outputs": [
    {
     "data": {
      "text/plain": [
       "{'info': {'id': '41614032',\n",
       "  'market': 'DOGE-PERP',\n",
       "  'future': 'DOGE-PERP',\n",
       "  'side': 'sell',\n",
       "  'type': 'stop',\n",
       "  'orderPrice': None,\n",
       "  'triggerPrice': '0.246584',\n",
       "  'size': '47.0',\n",
       "  'status': 'open',\n",
       "  'createdAt': '2021-05-11T05:48:43.096069+00:00',\n",
       "  'triggeredAt': None,\n",
       "  'orderId': None,\n",
       "  'error': None,\n",
       "  'reduceOnly': False,\n",
       "  'trailValue': None,\n",
       "  'trailStart': None,\n",
       "  'cancelledAt': None,\n",
       "  'cancelReason': None,\n",
       "  'retryUntilFilled': True,\n",
       "  'orderType': 'market'},\n",
       " 'id': '41614032',\n",
       " 'clientOrderId': None,\n",
       " 'timestamp': 1620712123096,\n",
       " 'datetime': '2021-05-11T05:48:43.096Z',\n",
       " 'lastTradeTimestamp': None,\n",
       " 'symbol': 'DOGE-PERP',\n",
       " 'type': 'stop',\n",
       " 'timeInForce': None,\n",
       " 'postOnly': None,\n",
       " 'side': 'sell',\n",
       " 'price': 0.246584,\n",
       " 'stopPrice': 0.246584,\n",
       " 'amount': 47.0,\n",
       " 'cost': None,\n",
       " 'average': None,\n",
       " 'filled': None,\n",
       " 'remaining': None,\n",
       " 'status': 'open',\n",
       " 'fee': None,\n",
       " 'trades': None}"
      ]
     },
     "execution_count": 11,
     "metadata": {},
     "output_type": "execute_result"
    }
   ],
   "source": [
    "lt.add_stop_loss()"
   ]
  },
  {
   "cell_type": "code",
   "execution_count": 12,
   "id": "substantial-ottawa",
   "metadata": {},
   "outputs": [
    {
     "name": "stdout",
     "output_type": "stream",
     "text": [
      "\n",
      "Time at filling order is: 2021-05-11 05:49:01.900570\n",
      "Sending market sell order for DOGE-PERP of size 47.0 on ftx in 2021-05-11 05:49:02.361810\n"
     ]
    }
   ],
   "source": [
    "lt.fill_order('sell', 'now')"
   ]
  },
  {
   "cell_type": "code",
   "execution_count": 13,
   "id": "characteristic-sense",
   "metadata": {},
   "outputs": [],
   "source": [
    "lt.close_stop_order()"
   ]
  },
  {
   "cell_type": "code",
   "execution_count": null,
   "id": "stretch-confusion",
   "metadata": {},
   "outputs": [],
   "source": []
  }
 ],
 "metadata": {
  "kernelspec": {
   "display_name": "Python 3.8.2 64-bit",
   "language": "python",
   "name": "python38264bit5e026c37115b47dab948fc9d59355aca"
  },
  "language_info": {
   "codemirror_mode": {
    "name": "ipython",
    "version": 3
   },
   "file_extension": ".py",
   "mimetype": "text/x-python",
   "name": "python",
   "nbconvert_exporter": "python",
   "pygments_lexer": "ipython3",
   "version": "3.8.5"
  }
 },
 "nbformat": 4,
 "nbformat_minor": 5
}
