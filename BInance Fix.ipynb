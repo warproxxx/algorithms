{
 "cells": [
  {
   "cell_type": "code",
   "execution_count": 1,
   "metadata": {},
   "outputs": [],
   "source": [
    "from algos.ratio.live_trader import liveTrading\n",
    "import pandas as pd"
   ]
  },
  {
   "cell_type": "code",
   "execution_count": 41,
   "metadata": {},
   "outputs": [],
   "source": [
    "lt = liveTrading('RVNBTC')"
   ]
  },
  {
   "cell_type": "code",
   "execution_count": 42,
   "metadata": {},
   "outputs": [
    {
     "data": {
      "text/plain": [
       "('NONE', 0, 0.0)"
      ]
     },
     "execution_count": 42,
     "metadata": {},
     "output_type": "execute_result"
    }
   ],
   "source": [
    "lt.get_position()"
   ]
  },
  {
   "cell_type": "code",
   "execution_count": 43,
   "metadata": {},
   "outputs": [],
   "source": [
    "details = lt.exchange.sapi_get_margin_isolated_account({'symbols': lt.symbol})['assets'][0]"
   ]
  },
  {
   "cell_type": "code",
   "execution_count": 44,
   "metadata": {},
   "outputs": [
    {
     "data": {
      "text/plain": [
       "{'baseAsset': {'asset': 'RVN',\n",
       "  'borrowEnabled': True,\n",
       "  'borrowed': '108.52302976',\n",
       "  'free': '4062.9',\n",
       "  'interest': '0.04974894',\n",
       "  'locked': '0',\n",
       "  'netAsset': '3954.3272213',\n",
       "  'netAssetOfBtc': '0.00210081',\n",
       "  'repayEnabled': True,\n",
       "  'totalAsset': '4062.9'},\n",
       " 'quoteAsset': {'asset': 'BTC',\n",
       "  'borrowEnabled': True,\n",
       "  'borrowed': '0.00158418',\n",
       "  'free': '0.00001567',\n",
       "  'interest': '0.00000002',\n",
       "  'locked': '0',\n",
       "  'netAsset': '-0.00156853',\n",
       "  'netAssetOfBtc': '-0.00156853',\n",
       "  'repayEnabled': True,\n",
       "  'totalAsset': '0.00001567'},\n",
       " 'symbol': 'RVNBTC',\n",
       " 'isolatedCreated': True,\n",
       " 'marginLevel': '1.32419052',\n",
       " 'marginLevelStatus': 'EXCESSIVE',\n",
       " 'marginRatio': '5',\n",
       " 'indexPrice': '0.00000053',\n",
       " 'liquidatePrice': '0.00000045',\n",
       " 'liquidateRate': '-15.297184',\n",
       " 'tradeEnabled': True}"
      ]
     },
     "execution_count": 44,
     "metadata": {},
     "output_type": "execute_result"
    }
   ],
   "source": [
    "details"
   ]
  },
  {
   "cell_type": "code",
   "execution_count": 48,
   "metadata": {},
   "outputs": [
    {
     "data": {
      "text/plain": [
       "108.52302976"
      ]
     },
     "execution_count": 48,
     "metadata": {},
     "output_type": "execute_result"
    }
   ],
   "source": [
    "float(details['baseAsset']['borrowed'])"
   ]
  },
  {
   "cell_type": "code",
   "execution_count": 49,
   "metadata": {},
   "outputs": [
    {
     "data": {
      "text/plain": [
       "0.00158418"
      ]
     },
     "execution_count": 49,
     "metadata": {},
     "output_type": "execute_result"
    }
   ],
   "source": [
    "float(details['quoteAsset']['borrowed'])"
   ]
  },
  {
   "cell_type": "code",
   "execution_count": 50,
   "metadata": {},
   "outputs": [
    {
     "data": {
      "text/plain": [
       "False"
      ]
     },
     "execution_count": 50,
     "metadata": {},
     "output_type": "execute_result"
    }
   ],
   "source": [
    "float(details['baseAsset']['borrowed']) <= threshold and float(details['quoteAsset']['borrowed']) > quote_threshold"
   ]
  },
  {
   "cell_type": "code",
   "execution_count": 51,
   "metadata": {},
   "outputs": [
    {
     "data": {
      "text/plain": [
       "False"
      ]
     },
     "execution_count": 51,
     "metadata": {},
     "output_type": "execute_result"
    }
   ],
   "source": [
    "float(details['baseAsset']['borrowed']) <= threshold"
   ]
  },
  {
   "cell_type": "code",
   "execution_count": 52,
   "metadata": {},
   "outputs": [
    {
     "data": {
      "text/plain": [
       "True"
      ]
     },
     "execution_count": 52,
     "metadata": {},
     "output_type": "execute_result"
    }
   ],
   "source": [
    "float(details['quoteAsset']['borrowed']) > quote_threshold"
   ]
  },
  {
   "cell_type": "code",
   "execution_count": 53,
   "metadata": {},
   "outputs": [
    {
     "data": {
      "text/plain": [
       "3.0"
      ]
     },
     "execution_count": 53,
     "metadata": {},
     "output_type": "execute_result"
    }
   ],
   "source": [
    "threshold"
   ]
  },
  {
   "cell_type": "code",
   "execution_count": null,
   "metadata": {},
   "outputs": [],
   "source": []
  }
 ],
 "metadata": {
  "kernelspec": {
   "display_name": "Python 3.8.2 64-bit",
   "language": "python",
   "name": "python38264bit5e026c37115b47dab948fc9d59355aca"
  },
  "language_info": {
   "codemirror_mode": {
    "name": "ipython",
    "version": 3
   },
   "file_extension": ".py",
   "mimetype": "text/x-python",
   "name": "python",
   "nbconvert_exporter": "python",
   "pygments_lexer": "ipython3",
   "version": "3.8.5"
  }
 },
 "nbformat": 4,
 "nbformat_minor": 4
}
