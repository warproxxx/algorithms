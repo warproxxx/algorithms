{
 "cells": [
  {
   "cell_type": "code",
   "execution_count": 1,
   "metadata": {},
   "outputs": [],
   "source": [
    "from cryptofeed.defines import TRADES, L2_BOOK, BID, ASK\n",
    "\n",
    "import pandas as pd\n",
    "import json\n",
    "import math\n",
    "\n",
    "import time\n",
    "import datetime\n",
    "\n",
    "import threading\n",
    "import schedule\n",
    "import redis\n",
    "\n",
    "from algos.ratio.backtest import perform_backtests\n",
    "from algos.ratio.live_trader import liveTrading, round_down\n",
    "from utils import print"
   ]
  },
  {
   "cell_type": "code",
   "execution_count": 3,
   "metadata": {},
   "outputs": [],
   "source": [
    "config = pd.read_csv('algos/ratio/config.csv')"
   ]
  },
  {
   "cell_type": "code",
   "execution_count": 14,
   "metadata": {},
   "outputs": [],
   "source": [
    "lt = liveTrading('ONTBTC')"
   ]
  },
  {
   "cell_type": "code",
   "execution_count": 15,
   "metadata": {},
   "outputs": [
    {
     "data": {
      "text/plain": [
       "{'baseAsset': {'asset': 'FTM',\n",
       "  'borrowEnabled': True,\n",
       "  'borrowed': '0',\n",
       "  'free': '5.082',\n",
       "  'interest': '0',\n",
       "  'locked': '0',\n",
       "  'netAsset': '5.082',\n",
       "  'netAssetOfBtc': '0.00001715',\n",
       "  'repayEnabled': True,\n",
       "  'totalAsset': '5.082'},\n",
       " 'quoteAsset': {'asset': 'BTC',\n",
       "  'borrowEnabled': True,\n",
       "  'borrowed': '0',\n",
       "  'free': '0.01005329',\n",
       "  'interest': '0',\n",
       "  'locked': '0',\n",
       "  'netAsset': '0.01005329',\n",
       "  'netAssetOfBtc': '0.01005329',\n",
       "  'repayEnabled': True,\n",
       "  'totalAsset': '0.01005329'},\n",
       " 'symbol': 'FTMBTC',\n",
       " 'isolatedCreated': True,\n",
       " 'marginLevel': '999',\n",
       " 'marginLevelStatus': 'EXCESSIVE',\n",
       " 'marginRatio': '5',\n",
       " 'indexPrice': '0.00000337',\n",
       " 'liquidatePrice': '0',\n",
       " 'liquidateRate': '0',\n",
       " 'tradeEnabled': True}"
      ]
     },
     "execution_count": 15,
     "metadata": {},
     "output_type": "execute_result"
    }
   ],
   "source": [
    "lt.exchange.sapi_get_margin_isolated_account({'symbol': lt.symbol})['assets'][0]"
   ]
  },
  {
   "cell_type": "code",
   "execution_count": null,
   "metadata": {},
   "outputs": [],
   "source": []
  }
 ],
 "metadata": {
  "kernelspec": {
   "display_name": "Python 3.8.2 64-bit",
   "language": "python",
   "name": "python38264bit5e026c37115b47dab948fc9d59355aca"
  },
  "language_info": {
   "codemirror_mode": {
    "name": "ipython",
    "version": 3
   },
   "file_extension": ".py",
   "mimetype": "text/x-python",
   "name": "python",
   "nbconvert_exporter": "python",
   "pygments_lexer": "ipython3",
   "version": "3.8.5"
  }
 },
 "nbformat": 4,
 "nbformat_minor": 4
}
