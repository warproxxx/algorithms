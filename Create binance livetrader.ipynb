{
 "cells": [
  {
   "cell_type": "code",
   "execution_count": 1,
   "metadata": {},
   "outputs": [],
   "source": [
    "import ccxt\n",
    "\n",
    "import os\n",
    "import time\n",
    "import numpy as np\n",
    "import json\n",
    "import pandas as pd\n",
    "import redis\n",
    "import datetime\n",
    "import decimal\n",
    "import inspect\n",
    "import sys"
   ]
  },
  {
   "cell_type": "code",
   "execution_count": 2,
   "metadata": {},
   "outputs": [],
   "source": [
    "apiKey = os.getenv('binance_ratio_ID')\n",
    "apiSecret = os.getenv('binance_ratio_SECRET')"
   ]
  },
  {
   "cell_type": "code",
   "execution_count": 4,
   "metadata": {},
   "outputs": [],
   "source": [
    "r = redis.Redis(host='localhost', port=6379, db=0)   "
   ]
  },
  {
   "cell_type": "code",
   "execution_count": 5,
   "metadata": {},
   "outputs": [],
   "source": [
    "exchange = ccxt.binance({\n",
    "                        'apiKey': apiKey,\n",
    "                        'secret': apiSecret,\n",
    "                        'enableRateLimit': True,\n",
    "                        'options': {'defaultMarket': 'futures'}\n",
    "                    })"
   ]
  },
  {
   "cell_type": "code",
   "execution_count": 6,
   "metadata": {},
   "outputs": [],
   "source": [
    "balances = pd.DataFrame(exchange.fetch_balance()['info']['balances'])"
   ]
  },
  {
   "cell_type": "code",
   "execution_count": 7,
   "metadata": {},
   "outputs": [],
   "source": [
    "balance = float(balances[balances['asset'] == 'BTC'].iloc[0]['free'])"
   ]
  },
  {
   "cell_type": "code",
   "execution_count": 10,
   "metadata": {},
   "outputs": [
    {
     "data": {
      "text/plain": [
       "{'tranId': 13633856691, 'clientTag': ''}"
      ]
     },
     "execution_count": 10,
     "metadata": {},
     "output_type": "execute_result"
    }
   ],
   "source": [
    "exchange.sapi_post_margin_isolated_transfer({'asset': 'BTC', 'symbol': 'ETHBTC', 'transFrom': 'SPOT', 'transTo': 'ISOLATED_MARGIN', 'amount': balance})"
   ]
  },
  {
   "cell_type": "code",
   "execution_count": 9,
   "metadata": {},
   "outputs": [
    {
     "data": {
      "text/plain": [
       "{'tranId': 13633853843, 'clientTag': ''}"
      ]
     },
     "execution_count": 9,
     "metadata": {},
     "output_type": "execute_result"
    }
   ],
   "source": [
    "exchange.sapi_post_margin_isolated_transfer({'asset': 'BTC', 'symbol': 'ETHBTC', 'transFrom': 'ISOLATED_MARGIN', 'transTo': 'SPOT', 'amount': balance})"
   ]
  },
  {
   "cell_type": "code",
   "execution_count": null,
   "metadata": {},
   "outputs": [],
   "source": []
  },
  {
   "cell_type": "code",
   "execution_count": null,
   "metadata": {},
   "outputs": [],
   "source": []
  },
  {
   "cell_type": "code",
   "execution_count": 53,
   "metadata": {},
   "outputs": [
    {
     "data": {
      "text/plain": [
       "{'symbol': 'ETHBTC',\n",
       " 'orderId': 1175807338,\n",
       " 'clientOrderId': 'default_1e07365660404377ad3aaeb0e56d',\n",
       " 'transactTime': 1609588750112,\n",
       " 'price': '0',\n",
       " 'origQty': '0.1',\n",
       " 'executedQty': '0.1',\n",
       " 'cummulativeQuoteQty': '0.002454',\n",
       " 'status': 'FILLED',\n",
       " 'timeInForce': 'GTC',\n",
       " 'type': 'MARKET',\n",
       " 'side': 'BUY',\n",
       " 'fills': [{'price': '0.02454',\n",
       "   'qty': '0.1',\n",
       "   'commission': '0.0001',\n",
       "   'commissionAsset': 'ETH'}],\n",
       " 'marginBuyBorrowAsset': 'BTC',\n",
       " 'marginBuyBorrowAmount': '0.00196441',\n",
       " 'isIsolated': True}"
      ]
     },
     "execution_count": 53,
     "metadata": {},
     "output_type": "execute_result"
    }
   ],
   "source": [
    "exchange.sapi_post_margin_order({'symbol': 'ETHBTC', 'isIsolated': 'TRUE', 'side': 'BUY', 'type': 'MARKET', 'quantity': 0.1, 'sideEffectType': 'MARGIN_BUY'})"
   ]
  },
  {
   "cell_type": "code",
   "execution_count": 59,
   "metadata": {},
   "outputs": [],
   "source": [
    "details = exchange.sapi_get_margin_isolated_account({'symbols': 'ETHBTC'})['assets'][0]"
   ]
  },
  {
   "cell_type": "code",
   "execution_count": 61,
   "metadata": {},
   "outputs": [
    {
     "data": {
      "text/plain": [
       "{'asset': 'ETH',\n",
       " 'borrowEnabled': True,\n",
       " 'borrowed': '0.01000105',\n",
       " 'free': '0.1098',\n",
       " 'interest': '0.00000116',\n",
       " 'locked': '0',\n",
       " 'netAsset': '0.09979779',\n",
       " 'netAssetOfBtc': '0.00244625',\n",
       " 'repayEnabled': True,\n",
       " 'totalAsset': '0.1098'}"
      ]
     },
     "execution_count": 61,
     "metadata": {},
     "output_type": "execute_result"
    }
   ],
   "source": [
    "details['baseAsset']['netAsset']"
   ]
  },
  {
   "cell_type": "code",
   "execution_count": null,
   "metadata": {},
   "outputs": [],
   "source": [
    "details['baseAsset']['netAsset']"
   ]
  },
  {
   "cell_type": "code",
   "execution_count": null,
   "metadata": {},
   "outputs": [],
   "source": []
  },
  {
   "cell_type": "code",
   "execution_count": 62,
   "metadata": {},
   "outputs": [
    {
     "data": {
      "text/plain": [
       "{'asset': 'BTC',\n",
       " 'borrowEnabled': True,\n",
       " 'borrowed': '0.00196441',\n",
       " 'free': '0.00001944',\n",
       " 'interest': '0.00000003',\n",
       " 'locked': '0',\n",
       " 'netAsset': '-0.001945',\n",
       " 'netAssetOfBtc': '-0.001945',\n",
       " 'repayEnabled': True,\n",
       " 'totalAsset': '0.00001944'}"
      ]
     },
     "execution_count": 62,
     "metadata": {},
     "output_type": "execute_result"
    }
   ],
   "source": [
    "details['quoteAsset']"
   ]
  },
  {
   "cell_type": "code",
   "execution_count": 43,
   "metadata": {},
   "outputs": [
    {
     "data": {
      "text/plain": [
       "[{'baseAsset': {'asset': 'ETH',\n",
       "   'borrowEnabled': True,\n",
       "   'borrowed': '0.01000105',\n",
       "   'free': '0.0099',\n",
       "   'interest': '0',\n",
       "   'locked': '0',\n",
       "   'netAsset': '-0.00010105',\n",
       "   'netAssetOfBtc': '-0.00000248',\n",
       "   'repayEnabled': True,\n",
       "   'totalAsset': '0.0099'},\n",
       "  'quoteAsset': {'asset': 'BTC',\n",
       "   'borrowEnabled': True,\n",
       "   'borrowed': '0',\n",
       "   'free': '0.00050903',\n",
       "   'interest': '0',\n",
       "   'locked': '0',\n",
       "   'netAsset': '0.00050903',\n",
       "   'netAssetOfBtc': '0.00050903',\n",
       "   'repayEnabled': True,\n",
       "   'totalAsset': '0.00050903'},\n",
       "  'symbol': 'ETHBTC',\n",
       "  'isolatedCreated': True,\n",
       "  'marginLevel': '3.06669891',\n",
       "  'marginLevelStatus': 'EXCESSIVE',\n",
       "  'marginRatio': '10',\n",
       "  'indexPrice': '0.02451511',\n",
       "  'liquidatePrice': '0.84682728',\n",
       "  'liquidateRate': '3354.306822',\n",
       "  'tradeEnabled': True}]"
      ]
     },
     "execution_count": 43,
     "metadata": {},
     "output_type": "execute_result"
    }
   ],
   "source": [
    "details['assets']"
   ]
  },
  {
   "cell_type": "code",
   "execution_count": 44,
   "metadata": {},
   "outputs": [
    {
     "ename": "TypeError",
     "evalue": "list indices must be integers or slices, not str",
     "output_type": "error",
     "traceback": [
      "\u001b[0;31m---------------------------------------------------------------------------\u001b[0m",
      "\u001b[0;31mTypeError\u001b[0m                                 Traceback (most recent call last)",
      "\u001b[0;32m<ipython-input-44-8ed5696f0cf3>\u001b[0m in \u001b[0;36m<module>\u001b[0;34m\u001b[0m\n\u001b[0;32m----> 1\u001b[0;31m \u001b[0mdetails\u001b[0m\u001b[0;34m[\u001b[0m\u001b[0;34m'assets'\u001b[0m\u001b[0;34m]\u001b[0m\u001b[0;34m[\u001b[0m\u001b[0;34m'baseAsset'\u001b[0m\u001b[0;34m]\u001b[0m\u001b[0;34m\u001b[0m\u001b[0;34m\u001b[0m\u001b[0m\n\u001b[0m",
      "\u001b[0;31mTypeError\u001b[0m: list indices must be integers or slices, not str"
     ]
    }
   ],
   "source": [
    "details['assets']['baseAsset']"
   ]
  },
  {
   "cell_type": "code",
   "execution_count": 41,
   "metadata": {},
   "outputs": [
    {
     "data": {
      "text/plain": [
       "{'symbol': 'ETHBTC',\n",
       " 'orderId': 1175609453,\n",
       " 'clientOrderId': 'default_0de2c3b93ba6404ab08616fd945a',\n",
       " 'transactTime': 1609582020058,\n",
       " 'price': '0',\n",
       " 'origQty': '0.1',\n",
       " 'executedQty': '0.1',\n",
       " 'cummulativeQuoteQty': '0.0024501',\n",
       " 'status': 'FILLED',\n",
       " 'timeInForce': 'GTC',\n",
       " 'type': 'MARKET',\n",
       " 'side': 'BUY',\n",
       " 'fills': [{'price': '0.024501',\n",
       "   'qty': '0.1',\n",
       "   'commission': '0.0001',\n",
       "   'commissionAsset': 'ETH'}],\n",
       " 'isIsolated': True}"
      ]
     },
     "execution_count": 41,
     "metadata": {},
     "output_type": "execute_result"
    }
   ],
   "source": [
    "exchange.sapi_post_margin_order({'symbol': 'ETHBTC', 'isIsolated': 'TRUE', 'side': 'BUY', 'type': 'MARKET', 'quantity': 0.1, 'sideEffectType': 'AUTO_REPAY'})"
   ]
  },
  {
   "cell_type": "code",
   "execution_count": null,
   "metadata": {},
   "outputs": [],
   "source": []
  }
 ],
 "metadata": {
  "kernelspec": {
   "display_name": "Python 3.8.2 64-bit",
   "language": "python",
   "name": "python38264bit5e026c37115b47dab948fc9d59355aca"
  },
  "language_info": {
   "codemirror_mode": {
    "name": "ipython",
    "version": 3
   },
   "file_extension": ".py",
   "mimetype": "text/x-python",
   "name": "python",
   "nbconvert_exporter": "python",
   "pygments_lexer": "ipython3",
   "version": "3.8.5"
  }
 },
 "nbformat": 4,
 "nbformat_minor": 4
}
