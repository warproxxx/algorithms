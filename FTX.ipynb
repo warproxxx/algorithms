{
 "cells": [
  {
   "cell_type": "code",
   "execution_count": 1,
   "metadata": {},
   "outputs": [],
   "source": [
    "import ccxt\n",
    "\n",
    "import os\n",
    "import time\n",
    "import numpy as np\n",
    "import json\n",
    "import pandas as pd\n",
    "import redis\n",
    "import datetime\n",
    "import decimal\n",
    "import inspect\n",
    "import sys"
   ]
  },
  {
   "cell_type": "code",
   "execution_count": 2,
   "metadata": {},
   "outputs": [],
   "source": [
    "apiKey = os.getenv('FTX_alt_ID')\n",
    "apiSecret = os.getenv('FTX_alt_SECRET')"
   ]
  },
  {
   "cell_type": "code",
   "execution_count": 3,
   "metadata": {},
   "outputs": [],
   "source": [
    "exchange = ccxt.ftx({\n",
    "                        'apiKey': apiKey,\n",
    "                        'secret': apiSecret,\n",
    "                        'enableRateLimit': True,\n",
    "                        'options': {'defaultMarket': 'futures'}\n",
    "                    })"
   ]
  }
 ],
 "metadata": {
  "kernelspec": {
   "display_name": "Python 3.8.2 64-bit",
   "language": "python",
   "name": "python38264bit5e026c37115b47dab948fc9d59355aca"
  },
  "language_info": {
   "codemirror_mode": {
    "name": "ipython",
    "version": 3
   },
   "file_extension": ".py",
   "mimetype": "text/x-python",
   "name": "python",
   "nbconvert_exporter": "python",
   "pygments_lexer": "ipython3",
   "version": "3.8.5"
  }
 },
 "nbformat": 4,
 "nbformat_minor": 4
}
