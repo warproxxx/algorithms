{
 "cells": [
  {
   "cell_type": "code",
   "execution_count": 1,
   "metadata": {},
   "outputs": [],
   "source": [
    "from algos.altcoin.live_trader import liveTrading,\n",
    "import pandas as pd"
   ]
  },
  {
   "cell_type": "code",
   "execution_count": 2,
   "metadata": {},
   "outputs": [],
   "source": [
    "lt = liveTrading('ADA-PERP')"
   ]
  },
  {
   "cell_type": "code",
   "execution_count": 3,
   "metadata": {},
   "outputs": [
    {
     "data": {
      "text/plain": [
       "482.65786545"
      ]
     },
     "execution_count": 3,
     "metadata": {},
     "output_type": "execute_result"
    }
   ],
   "source": [
    "lt.get_subaccount_balance('ADA-PERP')"
   ]
  },
  {
   "cell_type": "code",
   "execution_count": 4,
   "metadata": {},
   "outputs": [
    {
     "ename": "AttributeError",
     "evalue": "'liveTrading' object has no attribute 'get_subaccount_btc_balance'",
     "output_type": "error",
     "traceback": [
      "\u001b[0;31m---------------------------------------------------------------------------\u001b[0m",
      "\u001b[0;31mAttributeError\u001b[0m                            Traceback (most recent call last)",
      "\u001b[0;32m<ipython-input-4-9910b7b8d149>\u001b[0m in \u001b[0;36m<module>\u001b[0;34m\u001b[0m\n\u001b[0;32m----> 1\u001b[0;31m \u001b[0mlt\u001b[0m\u001b[0;34m.\u001b[0m\u001b[0mget_subaccount_btc_balance\u001b[0m\u001b[0;34m(\u001b[0m\u001b[0;34m'ADA-PERP'\u001b[0m\u001b[0;34m)\u001b[0m\u001b[0;34m\u001b[0m\u001b[0;34m\u001b[0m\u001b[0m\n\u001b[0m",
      "\u001b[0;31mAttributeError\u001b[0m: 'liveTrading' object has no attribute 'get_subaccount_btc_balance'"
     ]
    }
   ],
   "source": [
    "lt.get_subaccount_btc_balance('ADA-PERP')"
   ]
  },
  {
   "cell_type": "code",
   "execution_count": null,
   "metadata": {},
   "outputs": [],
   "source": []
  },
  {
   "cell_type": "code",
   "execution_count": 4,
   "metadata": {},
   "outputs": [],
   "source": [
    "config = pd.read_csv('algos/altcoin/config.csv')"
   ]
  },
  {
   "cell_type": "code",
   "execution_count": 8,
   "metadata": {},
   "outputs": [
    {
     "name": "stdout",
     "output_type": "stream",
     "text": [
      "ADA-PERP (-30.4160738999999, -97.12940731278908)\n",
      "BAL-PERP (7.8014125500000375, 0.4300075816453101)\n",
      "BSV-PERP (-10.173070949999996, -0.05809199948606667)\n",
      "BTC-PERP (-18.900784259999995, -0.0006227606016474463)\n",
      "DOGE-PERP 0\n",
      "DRGN-PERP (-13.970941179999954, -0.00942835819948708)\n",
      "EOS-PERP 0\n",
      "ETC-PERP (0.9677352599999836, 0.139282564766837)\n",
      "ETH-PERP (33.476627039999926, 0.029567768097509207)\n",
      "LINK-PERP (171.06794514000006, 9.142151835185981)\n",
      "MID-PERP (90.41626694999991, 0.07199893848542754)\n",
      "SHIT-PERP (-25.50995180999996, -0.014257741901408428)\n",
      "SUSHI-PERP (33.70679052000003, 5.549721832191786)\n",
      "TOMO-PERP 0\n",
      "XRP-PERP (46.57751291999989, 177.3368091376352)\n"
     ]
    }
   ],
   "source": [
    "for name in config['name']:\n",
    "    \n",
    "    lt = liveTrading(name)\n",
    "    print(name, lt.get_chopped_balance())"
   ]
  },
  {
   "cell_type": "code",
   "execution_count": 3,
   "metadata": {},
   "outputs": [],
   "source": [
    "lt = liveTrading('XRP-PERP')"
   ]
  },
  {
   "cell_type": "code",
   "execution_count": null,
   "metadata": {},
   "outputs": [],
   "source": []
  },
  {
   "cell_type": "code",
   "execution_count": 4,
   "metadata": {},
   "outputs": [
    {
     "data": {
      "text/plain": [
       "14.597462640000003"
      ]
     },
     "execution_count": 4,
     "metadata": {},
     "output_type": "execute_result"
    }
   ],
   "source": [
    "lt.get_balance()"
   ]
  },
  {
   "cell_type": "code",
   "execution_count": null,
   "metadata": {},
   "outputs": [],
   "source": []
  }
 ],
 "metadata": {
  "kernelspec": {
   "display_name": "Python 3.8.2 64-bit",
   "language": "python",
   "name": "python38264bit5e026c37115b47dab948fc9d59355aca"
  },
  "language_info": {
   "codemirror_mode": {
    "name": "ipython",
    "version": 3
   },
   "file_extension": ".py",
   "mimetype": "text/x-python",
   "name": "python",
   "nbconvert_exporter": "python",
   "pygments_lexer": "ipython3",
   "version": "3.8.5"
  }
 },
 "nbformat": 4,
 "nbformat_minor": 4
}
