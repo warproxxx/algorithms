{
 "cells": [
  {
   "cell_type": "code",
   "execution_count": 1,
   "id": "damaged-entrepreneur",
   "metadata": {},
   "outputs": [],
   "source": [
    "from algos.daddy.live_trader import liveTrading\n"
   ]
  },
  {
   "cell_type": "code",
   "execution_count": null,
   "id": "wrapped-undergraduate",
   "metadata": {},
   "outputs": [],
   "source": [
    "lt = liveTrading('FTX', 'eth_ftx', 'ETH-PERP', parameter_file='algos/eth_daddy/parameters.json', config_file='algos/eth_daddy/exchanges.csv')"
   ]
  },
  {
   "cell_type": "code",
   "execution_count": null,
   "id": "great-dancing",
   "metadata": {},
   "outputs": [],
   "source": []
  }
 ],
 "metadata": {
  "kernelspec": {
   "display_name": "Python 3.8.2 64-bit",
   "language": "python",
   "name": "python38264bit5e026c37115b47dab948fc9d59355aca"
  },
  "language_info": {
   "codemirror_mode": {
    "name": "ipython",
    "version": 3
   },
   "file_extension": ".py",
   "mimetype": "text/x-python",
   "name": "python",
   "nbconvert_exporter": "python",
   "pygments_lexer": "ipython3",
   "version": "3.8.10"
  }
 },
 "nbformat": 4,
 "nbformat_minor": 5
}
