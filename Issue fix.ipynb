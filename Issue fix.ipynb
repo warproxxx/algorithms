{
 "cells": [
  {
   "cell_type": "code",
   "execution_count": 1,
   "id": "beginning-polymer",
   "metadata": {},
   "outputs": [],
   "source": [
    "import pandas as pd\n",
    "import json\n",
    "import ccxt\n",
    "from algos.daddy.live_trader import liveTrading\n"
   ]
  },
  {
   "cell_type": "code",
   "execution_count": 2,
   "id": "formal-divorce",
   "metadata": {},
   "outputs": [],
   "source": [
    "symbol='ETH'\n",
    "TESTNET=False\n",
    "config_file='algos/eth_daddy/exchanges.csv'\n",
    "parameter_file=\"algos/eth_daddy/parameters.json\""
   ]
  },
  {
   "cell_type": "code",
   "execution_count": 3,
   "id": "australian-falls",
   "metadata": {},
   "outputs": [],
   "source": [
    "EXCHANGES = pd.read_csv(config_file)"
   ]
  },
  {
   "cell_type": "code",
   "execution_count": 4,
   "id": "italian-behavior",
   "metadata": {},
   "outputs": [],
   "source": [
    "lts = {}"
   ]
  },
  {
   "cell_type": "code",
   "execution_count": 5,
   "id": "light-guyana",
   "metadata": {},
   "outputs": [],
   "source": [
    "for idx, details in EXCHANGES.iterrows():\n",
    "    exchange_name = details['exchange']\n",
    "    name = details['name']\n",
    "\n",
    "    if details['trade'] == 1:       \n",
    "        lts[name] = liveTrading(exchange_name, name, symbol=details['ccxt_symbol'],testnet=TESTNET, parameter_file=parameter_file, config_file=config_file) \n",
    "        lts[name].set_position()"
   ]
  },
  {
   "cell_type": "code",
   "execution_count": 7,
   "id": "dominant-productivity",
   "metadata": {},
   "outputs": [],
   "source": [
    "lt = lts[name]"
   ]
  },
  {
   "cell_type": "code",
   "execution_count": 11,
   "id": "indoor-detroit",
   "metadata": {},
   "outputs": [
    {
     "data": {
      "text/plain": [
       "4.38128215"
      ]
     },
     "execution_count": 11,
     "metadata": {},
     "output_type": "execute_result"
    }
   ],
   "source": [
    "lt.get_balance()"
   ]
  },
  {
   "cell_type": "code",
   "execution_count": 10,
   "id": "beginning-prior",
   "metadata": {},
   "outputs": [
    {
     "name": "stdout",
     "output_type": "stream",
     "text": [
      "Time at filling order is: 2021-05-03 10:02:08.460758\n",
      "Sending market buy order for ETH-PERP of size 0.002 on ftx in 2021-05-03 10:02:10.750908\n",
      "Sending market buy order for ETH-PERP of size 0.002 on ftx in 2021-05-03 10:02:21.317227\n"
     ]
    },
    {
     "ename": "KeyboardInterrupt",
     "evalue": "",
     "output_type": "error",
     "traceback": [
      "\u001b[0;31m---------------------------------------------------------------------------\u001b[0m",
      "\u001b[0;31mKeyboardInterrupt\u001b[0m                         Traceback (most recent call last)",
      "\u001b[0;32m<ipython-input-10-70e7a7f30093>\u001b[0m in \u001b[0;36m<module>\u001b[0;34m\u001b[0m\n\u001b[0;32m----> 1\u001b[0;31m \u001b[0mlt\u001b[0m\u001b[0;34m.\u001b[0m\u001b[0mfill_order\u001b[0m\u001b[0;34m(\u001b[0m\u001b[0;34m'buy'\u001b[0m\u001b[0;34m,\u001b[0m \u001b[0mmethod\u001b[0m\u001b[0;34m=\u001b[0m\u001b[0;34m'10sec_average'\u001b[0m\u001b[0;34m)\u001b[0m\u001b[0;34m\u001b[0m\u001b[0;34m\u001b[0m\u001b[0m\n\u001b[0m",
      "\u001b[0;32m~/Desktop/Projects/algorithms/algos/daddy/live_trader.py\u001b[0m in \u001b[0;36mfill_order\u001b[0;34m(self, order_type, method)\u001b[0m\n\u001b[1;32m    978\u001b[0m                 \u001b[0;32mbreak\u001b[0m\u001b[0;34m\u001b[0m\u001b[0;34m\u001b[0m\u001b[0m\n\u001b[1;32m    979\u001b[0m             \u001b[0;32melif\u001b[0m \u001b[0mmethod\u001b[0m \u001b[0;34m==\u001b[0m \u001b[0;34m\"10sec_average\"\u001b[0m\u001b[0;34m:\u001b[0m\u001b[0;34m\u001b[0m\u001b[0;34m\u001b[0m\u001b[0m\n\u001b[0;32m--> 980\u001b[0;31m                 \u001b[0mself\u001b[0m\u001b[0;34m.\u001b[0m\u001b[0msecond_average\u001b[0m\u001b[0;34m(\u001b[0m\u001b[0;36m12\u001b[0m\u001b[0;34m,\u001b[0m \u001b[0;36m9.8\u001b[0m\u001b[0;34m,\u001b[0m \u001b[0morder_type\u001b[0m\u001b[0;34m)\u001b[0m\u001b[0;34m\u001b[0m\u001b[0;34m\u001b[0m\u001b[0m\n\u001b[0m\u001b[1;32m    981\u001b[0m                 \u001b[0;32mbreak\u001b[0m\u001b[0;34m\u001b[0m\u001b[0;34m\u001b[0m\u001b[0m\n\u001b[1;32m    982\u001b[0m             \u001b[0;32melif\u001b[0m \u001b[0mmethod\u001b[0m \u001b[0;34m==\u001b[0m \u001b[0;34m\"now\"\u001b[0m\u001b[0;34m:\u001b[0m\u001b[0;34m\u001b[0m\u001b[0;34m\u001b[0m\u001b[0m\n",
      "\u001b[0;32m~/Desktop/Projects/algorithms/algos/daddy/live_trader.py\u001b[0m in \u001b[0;36msecond_average\u001b[0;34m(self, intervals, sleep_time, order_type)\u001b[0m\n\u001b[1;32m    833\u001b[0m         \u001b[0;32mfor\u001b[0m \u001b[0mamount\u001b[0m \u001b[0;32min\u001b[0m \u001b[0mtrading_array\u001b[0m\u001b[0;34m:\u001b[0m\u001b[0;34m\u001b[0m\u001b[0;34m\u001b[0m\u001b[0m\n\u001b[1;32m    834\u001b[0m             \u001b[0morder\u001b[0m \u001b[0;34m=\u001b[0m \u001b[0mself\u001b[0m\u001b[0;34m.\u001b[0m\u001b[0mmarket_trade\u001b[0m\u001b[0;34m(\u001b[0m\u001b[0morder_type\u001b[0m\u001b[0;34m,\u001b[0m \u001b[0mamount\u001b[0m\u001b[0;34m)\u001b[0m\u001b[0;34m\u001b[0m\u001b[0;34m\u001b[0m\u001b[0m\n\u001b[0;32m--> 835\u001b[0;31m             \u001b[0mtime\u001b[0m\u001b[0;34m.\u001b[0m\u001b[0msleep\u001b[0m\u001b[0;34m(\u001b[0m\u001b[0msleep_time\u001b[0m\u001b[0;34m)\u001b[0m\u001b[0;34m\u001b[0m\u001b[0;34m\u001b[0m\u001b[0m\n\u001b[0m\u001b[1;32m    836\u001b[0m \u001b[0;34m\u001b[0m\u001b[0m\n\u001b[1;32m    837\u001b[0m         \u001b[0mcurrent_pos\u001b[0m\u001b[0;34m,\u001b[0m \u001b[0mavgEntryPrice\u001b[0m\u001b[0;34m,\u001b[0m \u001b[0mamount\u001b[0m \u001b[0;34m=\u001b[0m \u001b[0mself\u001b[0m\u001b[0;34m.\u001b[0m\u001b[0mget_position\u001b[0m\u001b[0;34m(\u001b[0m\u001b[0;34m)\u001b[0m\u001b[0;34m\u001b[0m\u001b[0;34m\u001b[0m\u001b[0m\n",
      "\u001b[0;31mKeyboardInterrupt\u001b[0m: "
     ]
    }
   ],
   "source": [
    "lt.fill_order('buy', method='10sec_average')"
   ]
  },
  {
   "cell_type": "code",
   "execution_count": null,
   "id": "olive-billy",
   "metadata": {},
   "outputs": [],
   "source": []
  },
  {
   "cell_type": "code",
   "execution_count": 10,
   "id": "falling-trout",
   "metadata": {},
   "outputs": [],
   "source": [
    "exchange = exchange_name"
   ]
  },
  {
   "cell_type": "code",
   "execution_count": 11,
   "id": "seasonal-welsh",
   "metadata": {},
   "outputs": [
    {
     "data": {
      "text/plain": [
       "'ftx'"
      ]
     },
     "execution_count": 11,
     "metadata": {},
     "output_type": "execute_result"
    }
   ],
   "source": [
    "exchange"
   ]
  },
  {
   "cell_type": "code",
   "execution_count": 12,
   "id": "boolean-olympus",
   "metadata": {},
   "outputs": [
    {
     "data": {
      "text/plain": [
       "'eth_ftx'"
      ]
     },
     "execution_count": 12,
     "metadata": {},
     "output_type": "execute_result"
    }
   ],
   "source": [
    "name"
   ]
  },
  {
   "cell_type": "code",
   "execution_count": 13,
   "id": "fossil-access",
   "metadata": {},
   "outputs": [],
   "source": [
    "parameters = json.load(open(parameter_file))"
   ]
  },
  {
   "cell_type": "code",
   "execution_count": 14,
   "id": "understood-appreciation",
   "metadata": {},
   "outputs": [
    {
     "data": {
      "text/plain": [
       "{'mult': 20.0,\n",
       " 'percentage_large': 3.0,\n",
       " 'buy_percentage_large': 5.0,\n",
       " 'macd': -30.0,\n",
       " 'rsi': 800.0,\n",
       " 'previous_days': 3.0,\n",
       " 'position_since': 5.0,\n",
       " 'position_since_diff': 0.0,\n",
       " 'change': 0.2,\n",
       " 'pnl_percentage': -500.0,\n",
       " 'close_percentage': 5.0,\n",
       " 'profit_macd': -11200.0,\n",
       " 'stop_percentage': 0.5,\n",
       " 'profit_cap': 20.0,\n",
       " 'name': 'dont_trade'}"
      ]
     },
     "execution_count": 14,
     "metadata": {},
     "output_type": "execute_result"
    }
   ],
   "source": [
    "parameters"
   ]
  },
  {
   "cell_type": "code",
   "execution_count": null,
   "id": "irish-sense",
   "metadata": {},
   "outputs": [],
   "source": []
  }
 ],
 "metadata": {
  "kernelspec": {
   "display_name": "Python 3.8.2 64-bit",
   "language": "python",
   "name": "python38264bit5e026c37115b47dab948fc9d59355aca"
  },
  "language_info": {
   "codemirror_mode": {
    "name": "ipython",
    "version": 3
   },
   "file_extension": ".py",
   "mimetype": "text/x-python",
   "name": "python",
   "nbconvert_exporter": "python",
   "pygments_lexer": "ipython3",
   "version": "3.8.5"
  }
 },
 "nbformat": 4,
 "nbformat_minor": 5
}
