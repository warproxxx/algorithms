{
 "cells": [
  {
   "cell_type": "code",
   "execution_count": 1,
   "id": "beginning-polymer",
   "metadata": {},
   "outputs": [],
   "source": [
    "import pandas as pd\n",
    "from algos.daddy.live_trader import liveTrading"
   ]
  },
  {
   "cell_type": "code",
   "execution_count": 2,
   "id": "patient-worse",
   "metadata": {},
   "outputs": [],
   "source": [
    "lt =  liveTrading('ftx', 'doge_ftx', symbol='DOGE-PERP',testnet=False, parameter_file=\"algos/doge_daddy/parameters.json\", config_file='algos/doge_daddy/exchanges.csv') "
   ]
  },
  {
   "cell_type": "code",
   "execution_count": null,
   "id": "distinct-johnson",
   "metadata": {},
   "outputs": [],
   "source": [
    "lt.get_max_amount('buy')"
   ]
  },
  {
   "cell_type": "code",
   "execution_count": 6,
   "id": "viral-algebra",
   "metadata": {},
   "outputs": [
    {
     "data": {
      "text/plain": [
       "'ftx'"
      ]
     },
     "execution_count": 6,
     "metadata": {},
     "output_type": "execute_result"
    }
   ],
   "source": [
    "lt.exchange_name"
   ]
  },
  {
   "cell_type": "code",
   "execution_count": 7,
   "id": "clinical-street",
   "metadata": {},
   "outputs": [
    {
     "data": {
      "text/plain": [
       "'doge-perp'"
      ]
     },
     "execution_count": 7,
     "metadata": {},
     "output_type": "execute_result"
    }
   ],
   "source": [
    "lt.symbol_here.lower()"
   ]
  },
  {
   "cell_type": "code",
   "execution_count": null,
   "id": "invisible-cocktail",
   "metadata": {},
   "outputs": [],
   "source": []
  }
 ],
 "metadata": {
  "kernelspec": {
   "display_name": "Python 3.8.2 64-bit",
   "language": "python",
   "name": "python38264bit5e026c37115b47dab948fc9d59355aca"
  },
  "language_info": {
   "codemirror_mode": {
    "name": "ipython",
    "version": 3
   },
   "file_extension": ".py",
   "mimetype": "text/x-python",
   "name": "python",
   "nbconvert_exporter": "python",
   "pygments_lexer": "ipython3",
   "version": "3.8.5"
  }
 },
 "nbformat": 4,
 "nbformat_minor": 5
}
