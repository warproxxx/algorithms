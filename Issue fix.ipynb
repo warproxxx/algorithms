{
 "cells": [
  {
   "cell_type": "code",
   "execution_count": 1,
   "id": "beginning-polymer",
   "metadata": {},
   "outputs": [],
   "source": [
    "import pandas as pd\n",
    "from algos.daddy.live_trader import liveTrading"
   ]
  },
  {
   "cell_type": "code",
   "execution_count": 3,
   "id": "associate-morris",
   "metadata": {},
   "outputs": [],
   "source": [
    "EXCHANGES = pd.concat([pd.read_csv('algos/daddy/exchanges.csv'), pd.read_csv('algos/eth_daddy/exchanges.csv')])\n",
    "EXCHANGES = EXCHANGES[EXCHANGES['trade'] == 1]\n",
    "EXCHANGES = EXCHANGES.drop_duplicates(subset=['exchange', 'symbol']) \n",
    "EXCHANGES = EXCHANGES.fillna(\"\")"
   ]
  },
  {
   "cell_type": "code",
   "execution_count": 4,
   "id": "stable-words",
   "metadata": {},
   "outputs": [
    {
     "data": {
      "text/html": [
       "<div>\n",
       "<style scoped>\n",
       "    .dataframe tbody tr th:only-of-type {\n",
       "        vertical-align: middle;\n",
       "    }\n",
       "\n",
       "    .dataframe tbody tr th {\n",
       "        vertical-align: top;\n",
       "    }\n",
       "\n",
       "    .dataframe thead th {\n",
       "        text-align: right;\n",
       "    }\n",
       "</style>\n",
       "<table border=\"1\" class=\"dataframe\">\n",
       "  <thead>\n",
       "    <tr style=\"text-align: right;\">\n",
       "      <th></th>\n",
       "      <th>name</th>\n",
       "      <th>exchange</th>\n",
       "      <th>types</th>\n",
       "      <th>name_type</th>\n",
       "      <th>cryptofeed_name</th>\n",
       "      <th>ccxt_symbol</th>\n",
       "      <th>symbol</th>\n",
       "      <th>cryptofeed_symbol</th>\n",
       "      <th>subaccount</th>\n",
       "      <th>trade</th>\n",
       "      <th>collateral</th>\n",
       "      <th>max_trade</th>\n",
       "      <th>buy_method</th>\n",
       "      <th>sell_method</th>\n",
       "      <th>html_color</th>\n",
       "    </tr>\n",
       "  </thead>\n",
       "  <tbody>\n",
       "    <tr>\n",
       "      <th>0</th>\n",
       "      <td>bitmex</td>\n",
       "      <td>bitmex</td>\n",
       "      <td>book</td>\n",
       "      <td>fund</td>\n",
       "      <td>Bitmex</td>\n",
       "      <td>BTC/USD</td>\n",
       "      <td>XBTUSD</td>\n",
       "      <td>XBTUSD</td>\n",
       "      <td></td>\n",
       "      <td>1</td>\n",
       "      <td>BTC</td>\n",
       "      <td>0.5</td>\n",
       "      <td>10sec_average</td>\n",
       "      <td>10sec_average</td>\n",
       "      <td>danger</td>\n",
       "    </tr>\n",
       "    <tr>\n",
       "      <th>0</th>\n",
       "      <td>eth_ftx</td>\n",
       "      <td>ftx</td>\n",
       "      <td>book</td>\n",
       "      <td>fund</td>\n",
       "      <td>FTX</td>\n",
       "      <td>ETH-PERP</td>\n",
       "      <td>ETHUSDT</td>\n",
       "      <td>ETH-PERP</td>\n",
       "      <td>daddy_ETH</td>\n",
       "      <td>1</td>\n",
       "      <td>USD</td>\n",
       "      <td>0.0</td>\n",
       "      <td>10sec_average</td>\n",
       "      <td>10sec_average</td>\n",
       "      <td>info</td>\n",
       "    </tr>\n",
       "  </tbody>\n",
       "</table>\n",
       "</div>"
      ],
      "text/plain": [
       "      name exchange types name_type cryptofeed_name ccxt_symbol   symbol  \\\n",
       "0   bitmex   bitmex  book      fund          Bitmex     BTC/USD   XBTUSD   \n",
       "0  eth_ftx      ftx  book      fund             FTX    ETH-PERP  ETHUSDT   \n",
       "\n",
       "  cryptofeed_symbol subaccount  trade collateral  max_trade     buy_method  \\\n",
       "0            XBTUSD                 1        BTC        0.5  10sec_average   \n",
       "0          ETH-PERP  daddy_ETH      1        USD        0.0  10sec_average   \n",
       "\n",
       "     sell_method html_color  \n",
       "0  10sec_average     danger  \n",
       "0  10sec_average       info  "
      ]
     },
     "execution_count": 4,
     "metadata": {},
     "output_type": "execute_result"
    }
   ],
   "source": [
    "EXCHANGES"
   ]
  },
  {
   "cell_type": "code",
   "execution_count": 5,
   "id": "contemporary-newport",
   "metadata": {},
   "outputs": [],
   "source": [
    "lt = liveTrading('ftx', 'eth_ftx', symbol='ETH-PERP', testnet=False, parameter_file='algos/eth_daddy/parameters.json', config_file='algos/eth_daddy/exchanges.csv')"
   ]
  },
  {
   "cell_type": "code",
   "execution_count": 6,
   "id": "brave-unemployment",
   "metadata": {},
   "outputs": [
    {
     "name": "stdout",
     "output_type": "stream",
     "text": [
      "Removing stop at 1676.0 to add stop at 1606\n"
     ]
    }
   ],
   "source": [
    "lt.update_stop()"
   ]
  },
  {
   "cell_type": "code",
   "execution_count": 8,
   "id": "lined-piece",
   "metadata": {},
   "outputs": [],
   "source": [
    "import json"
   ]
  },
  {
   "cell_type": "code",
   "execution_count": 9,
   "id": "moving-alaska",
   "metadata": {},
   "outputs": [],
   "source": [
    "config = json.load(open(\"daddy.json\"))\n"
   ]
  },
  {
   "cell_type": "code",
   "execution_count": 12,
   "id": "expanded-olive",
   "metadata": {},
   "outputs": [
    {
     "data": {
      "text/plain": [
       "'USD'"
      ]
     },
     "execution_count": 12,
     "metadata": {},
     "output_type": "execute_result"
    }
   ],
   "source": [
    "config['secondary_currency']['ETH']"
   ]
  },
  {
   "cell_type": "code",
   "execution_count": 7,
   "id": "south-workstation",
   "metadata": {},
   "outputs": [],
   "source": [
    "lt.set_position()"
   ]
  },
  {
   "cell_type": "code",
   "execution_count": 8,
   "id": "emotional-nancy",
   "metadata": {},
   "outputs": [],
   "source": [
    "current_pos = lt.r.get('{}_current_pos'.format(lt.name)).decode()"
   ]
  },
  {
   "cell_type": "code",
   "execution_count": 9,
   "id": "reasonable-workplace",
   "metadata": {},
   "outputs": [
    {
     "data": {
      "text/plain": [
       "'LONG'"
      ]
     },
     "execution_count": 9,
     "metadata": {},
     "output_type": "execute_result"
    }
   ],
   "source": [
    "current_pos"
   ]
  },
  {
   "cell_type": "code",
   "execution_count": 37,
   "id": "entertaining-charter",
   "metadata": {},
   "outputs": [],
   "source": [
    "stop = lt.get_stop()"
   ]
  },
  {
   "cell_type": "code",
   "execution_count": 38,
   "id": "distant-tragedy",
   "metadata": {},
   "outputs": [
    {
     "data": {
      "text/plain": [
       "['1676.0']"
      ]
     },
     "execution_count": 38,
     "metadata": {},
     "output_type": "execute_result"
    }
   ],
   "source": [
    "stop"
   ]
  },
  {
   "cell_type": "code",
   "execution_count": 31,
   "id": "desperate-decrease",
   "metadata": {},
   "outputs": [],
   "source": [
    "orders = lt.exchange.request('conditional_orders', api='private', method='GET', params={'market': lt.symbol_here})['result']"
   ]
  },
  {
   "cell_type": "code",
   "execution_count": 32,
   "id": "accessible-production",
   "metadata": {},
   "outputs": [
    {
     "data": {
      "text/plain": [
       "[{'id': '39371244',\n",
       "  'market': 'ETH-PERP',\n",
       "  'future': 'ETH-PERP',\n",
       "  'side': 'sell',\n",
       "  'type': 'stop',\n",
       "  'orderPrice': None,\n",
       "  'triggerPrice': '1676.0',\n",
       "  'size': '8.756',\n",
       "  'status': 'open',\n",
       "  'createdAt': '2021-05-04T05:45:27.844814+00:00',\n",
       "  'triggeredAt': None,\n",
       "  'orderId': None,\n",
       "  'error': None,\n",
       "  'reduceOnly': False,\n",
       "  'trailValue': None,\n",
       "  'trailStart': None,\n",
       "  'cancelledAt': None,\n",
       "  'cancelReason': None,\n",
       "  'retryUntilFilled': True,\n",
       "  'orderType': 'market',\n",
       "  'filledSize': '0.0',\n",
       "  'avgFillPrice': None}]"
      ]
     },
     "execution_count": 32,
     "metadata": {},
     "output_type": "execute_result"
    }
   ],
   "source": [
    "orders"
   ]
  },
  {
   "cell_type": "code",
   "execution_count": 33,
   "id": "reduced-vision",
   "metadata": {},
   "outputs": [],
   "source": [
    "pos, entryPrice, amount = lt.get_position()"
   ]
  },
  {
   "cell_type": "code",
   "execution_count": 34,
   "id": "spread-decade",
   "metadata": {},
   "outputs": [
    {
     "data": {
      "text/plain": [
       "3352.8771128369117"
      ]
     },
     "execution_count": 34,
     "metadata": {},
     "output_type": "execute_result"
    }
   ],
   "source": [
    "entryPrice"
   ]
  },
  {
   "cell_type": "code",
   "execution_count": 35,
   "id": "eleven-passage",
   "metadata": {},
   "outputs": [],
   "source": [
    "close_at = int(entryPrice * lt.parameters['stop_percentage'])"
   ]
  },
  {
   "cell_type": "code",
   "execution_count": 36,
   "id": "gross-hammer",
   "metadata": {},
   "outputs": [
    {
     "data": {
      "text/plain": [
       "1676"
      ]
     },
     "execution_count": 36,
     "metadata": {},
     "output_type": "execute_result"
    }
   ],
   "source": [
    "close_at"
   ]
  },
  {
   "cell_type": "code",
   "execution_count": 24,
   "id": "planned-louisville",
   "metadata": {},
   "outputs": [],
   "source": [
    "lt.close_stop_order()"
   ]
  },
  {
   "cell_type": "code",
   "execution_count": 25,
   "id": "addressed-ribbon",
   "metadata": {},
   "outputs": [],
   "source": [
    "current_pos, avgEntryPrice, amount = lt.get_position()"
   ]
  },
  {
   "cell_type": "code",
   "execution_count": 27,
   "id": "stock-swift",
   "metadata": {},
   "outputs": [],
   "source": [
    "close_at = int(avgEntryPrice * lt.parameters['stop_percentage'])"
   ]
  },
  {
   "cell_type": "code",
   "execution_count": 28,
   "id": "designed-circle",
   "metadata": {},
   "outputs": [
    {
     "data": {
      "text/plain": [
       "1676"
      ]
     },
     "execution_count": 28,
     "metadata": {},
     "output_type": "execute_result"
    }
   ],
   "source": [
    "close_at"
   ]
  },
  {
   "cell_type": "code",
   "execution_count": 30,
   "id": "transsexual-phrase",
   "metadata": {},
   "outputs": [],
   "source": [
    "params = {\n",
    "        'triggerPrice': close_at\n",
    "    }\n",
    "\n",
    "order = lt.exchange.create_order(lt.symbol, \"stop\", \"sell\", amount, None, params)"
   ]
  },
  {
   "cell_type": "code",
   "execution_count": null,
   "id": "patient-worse",
   "metadata": {},
   "outputs": [],
   "source": []
  }
 ],
 "metadata": {
  "kernelspec": {
   "display_name": "Python 3.8.2 64-bit",
   "language": "python",
   "name": "python38264bit5e026c37115b47dab948fc9d59355aca"
  },
  "language_info": {
   "codemirror_mode": {
    "name": "ipython",
    "version": 3
   },
   "file_extension": ".py",
   "mimetype": "text/x-python",
   "name": "python",
   "nbconvert_exporter": "python",
   "pygments_lexer": "ipython3",
   "version": "3.8.5"
  }
 },
 "nbformat": 4,
 "nbformat_minor": 5
}
