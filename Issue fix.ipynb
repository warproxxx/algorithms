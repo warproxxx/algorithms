{
 "cells": [
  {
   "cell_type": "code",
   "execution_count": 1,
   "id": "respiratory-timing",
   "metadata": {},
   "outputs": [
    {
     "name": "stderr",
     "output_type": "stream",
     "text": [
      "/home/warproxxx/.local/lib/python3.8/site-packages/arctic/_util.py:6: FutureWarning: pandas.util.testing is deprecated. Use the functions in the public API at pandas.testing instead.\n",
      "  from pandas.util.testing import assert_frame_equal\n",
      "/home/warproxxx/.local/lib/python3.8/site-packages/arctic/store/_pandas_ndarray_store.py:6: FutureWarning: The Panel class is removed from pandas. Accessing it from the top-level namespace will also be removed in the next version\n",
      "  from pandas import DataFrame, Series, Panel\n"
     ]
    }
   ],
   "source": [
    "import os\n",
    "import sys\n",
    "from glob import glob\n",
    "import requests\n",
    "\n",
    "import time\n",
    "import datetime\n",
    "\n",
    "import pandas as pd\n",
    "import numpy as np\n",
    "import json\n",
    "\n",
    "import threading\n",
    "\n",
    "import ta\n",
    "import redis\n",
    "import schedule\n",
    "import shutil\n",
    "\n",
    "from cryptofeed.defines import TRADES, L2_BOOK, BID, ASK\n",
    "\n",
    "from algos.daddy.live_trader import liveTrading\n",
    "from algos.daddy.trade_analysis import get_trades, process_data, get_details\n",
    "from algos.daddy.historic import single_price_from_rest\n",
    "from algos.daddy.plot import create_chart\n",
    "from algos.daddy.trades import update_trades, run_backtest\n",
    "from algos.daddy.bot import daddyBot\n",
    "\n",
    "from utils import print\n",
    "\n",
    "r = redis.Redis(host='localhost', port=6379, db=0)\n",
    "\n"
   ]
  },
  {
   "cell_type": "code",
   "execution_count": 2,
   "id": "weekly-festival",
   "metadata": {},
   "outputs": [],
   "source": [
    "symbol='XBT'\n",
    "TESTNET=False\n",
    "config_file='algos/daddy/exchanges.csv'\n",
    "parameter_file=\"algos/daddy/parameters.json\""
   ]
  },
  {
   "cell_type": "code",
   "execution_count": 3,
   "id": "thick-strengthening",
   "metadata": {},
   "outputs": [],
   "source": [
    "bot = daddyBot(symbol=symbol, config_file=config_file, parameter_file=parameter_file, TESTNET=TESTNET)"
   ]
  },
  {
   "cell_type": "code",
   "execution_count": 4,
   "id": "color-handling",
   "metadata": {},
   "outputs": [],
   "source": [
    "lts = bot.lts"
   ]
  },
  {
   "cell_type": "code",
   "execution_count": 5,
   "id": "unknown-conservation",
   "metadata": {},
   "outputs": [],
   "source": [
    "for idx, details in bot.EXCHANGES.iterrows():\n",
    "    if details['trade'] == 1:\n",
    "        break"
   ]
  },
  {
   "cell_type": "code",
   "execution_count": 6,
   "id": "homeless-corps",
   "metadata": {},
   "outputs": [
    {
     "data": {
      "text/plain": [
       "name                      bitmex_1\n",
       "exchange                    bitmex\n",
       "types                         book\n",
       "name_type                     fund\n",
       "cryptofeed_name             Bitmex\n",
       "ccxt_symbol                BTC/USD\n",
       "symbol                      XBTUSD\n",
       "cryptofeed_symbol           XBTUSD\n",
       "subaccount                     NaN\n",
       "trade                            1\n",
       "collateral                     BTC\n",
       "max_trade                      0.5\n",
       "buy_method           10sec_average\n",
       "sell_method          10sec_average\n",
       "html_color                  danger\n",
       "Name: 1, dtype: object"
      ]
     },
     "execution_count": 6,
     "metadata": {},
     "output_type": "execute_result"
    }
   ],
   "source": [
    "details"
   ]
  },
  {
   "cell_type": "code",
   "execution_count": 7,
   "id": "occasional-competition",
   "metadata": {},
   "outputs": [],
   "source": [
    "lt = lts[details['name']]"
   ]
  },
  {
   "cell_type": "code",
   "execution_count": 8,
   "id": "military-frank",
   "metadata": {},
   "outputs": [
    {
     "data": {
      "text/plain": [
       "<algos.daddy.live_trader.liveTrading at 0x7f2eb8c07940>"
      ]
     },
     "execution_count": 8,
     "metadata": {},
     "output_type": "execute_result"
    }
   ],
   "source": [
    "lt"
   ]
  },
  {
   "cell_type": "code",
   "execution_count": 9,
   "id": "atlantic-oxford",
   "metadata": {},
   "outputs": [],
   "source": [
    "current_pos, avgEntryPrice, _ = lt.get_position()"
   ]
  },
  {
   "cell_type": "code",
   "execution_count": 10,
   "id": "appropriate-functionality",
   "metadata": {},
   "outputs": [
    {
     "data": {
      "text/plain": [
       "'LONG'"
      ]
     },
     "execution_count": 10,
     "metadata": {},
     "output_type": "execute_result"
    }
   ],
   "source": [
    "current_pos"
   ]
  },
  {
   "cell_type": "code",
   "execution_count": 11,
   "id": "consistent-stress",
   "metadata": {},
   "outputs": [
    {
     "data": {
      "text/plain": [
       "56883.0"
      ]
     },
     "execution_count": 11,
     "metadata": {},
     "output_type": "execute_result"
    }
   ],
   "source": [
    "avgEntryPrice"
   ]
  },
  {
   "cell_type": "code",
   "execution_count": 12,
   "id": "technological-aquatic",
   "metadata": {},
   "outputs": [
    {
     "data": {
      "text/html": [
       "<div>\n",
       "<style scoped>\n",
       "    .dataframe tbody tr th:only-of-type {\n",
       "        vertical-align: middle;\n",
       "    }\n",
       "\n",
       "    .dataframe tbody tr th {\n",
       "        vertical-align: top;\n",
       "    }\n",
       "\n",
       "    .dataframe thead th {\n",
       "        text-align: right;\n",
       "    }\n",
       "</style>\n",
       "<table border=\"1\" class=\"dataframe\">\n",
       "  <thead>\n",
       "    <tr style=\"text-align: right;\">\n",
       "      <th></th>\n",
       "      <th>name</th>\n",
       "      <th>exchange</th>\n",
       "      <th>types</th>\n",
       "      <th>name_type</th>\n",
       "      <th>cryptofeed_name</th>\n",
       "      <th>ccxt_symbol</th>\n",
       "      <th>symbol</th>\n",
       "      <th>cryptofeed_symbol</th>\n",
       "      <th>subaccount</th>\n",
       "      <th>trade</th>\n",
       "      <th>collateral</th>\n",
       "      <th>max_trade</th>\n",
       "      <th>buy_method</th>\n",
       "      <th>sell_method</th>\n",
       "      <th>html_color</th>\n",
       "    </tr>\n",
       "  </thead>\n",
       "  <tbody>\n",
       "    <tr>\n",
       "      <th>0</th>\n",
       "      <td>bitmex</td>\n",
       "      <td>bitmex</td>\n",
       "      <td>book</td>\n",
       "      <td>fund</td>\n",
       "      <td>Bitmex</td>\n",
       "      <td>BTC/USD</td>\n",
       "      <td>XBTUSD</td>\n",
       "      <td>XBTUSD</td>\n",
       "      <td>NaN</td>\n",
       "      <td>0</td>\n",
       "      <td>BTC</td>\n",
       "      <td>0.5</td>\n",
       "      <td>10sec_average</td>\n",
       "      <td>10sec_average</td>\n",
       "      <td>danger</td>\n",
       "    </tr>\n",
       "    <tr>\n",
       "      <th>1</th>\n",
       "      <td>bitmex_1</td>\n",
       "      <td>bitmex</td>\n",
       "      <td>book</td>\n",
       "      <td>fund</td>\n",
       "      <td>Bitmex</td>\n",
       "      <td>BTC/USD</td>\n",
       "      <td>XBTUSD</td>\n",
       "      <td>XBTUSD</td>\n",
       "      <td>NaN</td>\n",
       "      <td>1</td>\n",
       "      <td>BTC</td>\n",
       "      <td>0.5</td>\n",
       "      <td>10sec_average</td>\n",
       "      <td>10sec_average</td>\n",
       "      <td>danger</td>\n",
       "    </tr>\n",
       "    <tr>\n",
       "      <th>2</th>\n",
       "      <td>bybit</td>\n",
       "      <td>bybit</td>\n",
       "      <td>book</td>\n",
       "      <td>fund</td>\n",
       "      <td>Bybit</td>\n",
       "      <td>BTC/USD</td>\n",
       "      <td>BTCUSD</td>\n",
       "      <td>BTC-USD</td>\n",
       "      <td>NaN</td>\n",
       "      <td>0</td>\n",
       "      <td>BTC</td>\n",
       "      <td>0.0</td>\n",
       "      <td>10sec_average</td>\n",
       "      <td>10sec_average</td>\n",
       "      <td>dark</td>\n",
       "    </tr>\n",
       "    <tr>\n",
       "      <th>3</th>\n",
       "      <td>ftx</td>\n",
       "      <td>ftx</td>\n",
       "      <td>book</td>\n",
       "      <td>fund</td>\n",
       "      <td>FTX</td>\n",
       "      <td>BTC-PERP</td>\n",
       "      <td>BTCUSDT</td>\n",
       "      <td>BTC-PERP</td>\n",
       "      <td>daddy_BTC</td>\n",
       "      <td>0</td>\n",
       "      <td>USD</td>\n",
       "      <td>0.0</td>\n",
       "      <td>10sec_average</td>\n",
       "      <td>10sec_average</td>\n",
       "      <td>info</td>\n",
       "    </tr>\n",
       "    <tr>\n",
       "      <th>4</th>\n",
       "      <td>okex</td>\n",
       "      <td>okex</td>\n",
       "      <td>book</td>\n",
       "      <td>fund</td>\n",
       "      <td>OKEx</td>\n",
       "      <td>BTC-USD-SWAP</td>\n",
       "      <td>BTCUSD</td>\n",
       "      <td>BTC-USD-SWAP</td>\n",
       "      <td>NaN</td>\n",
       "      <td>0</td>\n",
       "      <td>BTC</td>\n",
       "      <td>0.0</td>\n",
       "      <td>10sec_average</td>\n",
       "      <td>10sec_average</td>\n",
       "      <td>secondary</td>\n",
       "    </tr>\n",
       "    <tr>\n",
       "      <th>5</th>\n",
       "      <td>huobi_swap</td>\n",
       "      <td>huobi_swap</td>\n",
       "      <td>book</td>\n",
       "      <td>fund</td>\n",
       "      <td>HuobiSwap</td>\n",
       "      <td>BTC-USD</td>\n",
       "      <td>BTCUSD</td>\n",
       "      <td>BTC-USD</td>\n",
       "      <td>NaN</td>\n",
       "      <td>0</td>\n",
       "      <td>BTC</td>\n",
       "      <td>0.0</td>\n",
       "      <td>10sec_average</td>\n",
       "      <td>10sec_average</td>\n",
       "      <td>primary</td>\n",
       "    </tr>\n",
       "    <tr>\n",
       "      <th>6</th>\n",
       "      <td>binance_futures</td>\n",
       "      <td>binance_futures</td>\n",
       "      <td>book</td>\n",
       "      <td>fund</td>\n",
       "      <td>BinanceFutures</td>\n",
       "      <td>BTC/USDT</td>\n",
       "      <td>BTCUSDT</td>\n",
       "      <td>BTC-USDT</td>\n",
       "      <td>NaN</td>\n",
       "      <td>0</td>\n",
       "      <td>USDT</td>\n",
       "      <td>0.0</td>\n",
       "      <td>10sec_average</td>\n",
       "      <td>10sec_average</td>\n",
       "      <td>warning</td>\n",
       "    </tr>\n",
       "    <tr>\n",
       "      <th>0</th>\n",
       "      <td>eth_ftx</td>\n",
       "      <td>ftx</td>\n",
       "      <td>book</td>\n",
       "      <td>fund</td>\n",
       "      <td>FTX</td>\n",
       "      <td>ETH-PERP</td>\n",
       "      <td>ETHUSDT</td>\n",
       "      <td>ETH-PERP</td>\n",
       "      <td>daddy_ETH</td>\n",
       "      <td>0</td>\n",
       "      <td>USD</td>\n",
       "      <td>0.0</td>\n",
       "      <td>10sec_average</td>\n",
       "      <td>10sec_average</td>\n",
       "      <td>info</td>\n",
       "    </tr>\n",
       "  </tbody>\n",
       "</table>\n",
       "</div>"
      ],
      "text/plain": [
       "              name         exchange types name_type cryptofeed_name  \\\n",
       "0           bitmex           bitmex  book      fund          Bitmex   \n",
       "1         bitmex_1           bitmex  book      fund          Bitmex   \n",
       "2            bybit            bybit  book      fund           Bybit   \n",
       "3              ftx              ftx  book      fund             FTX   \n",
       "4             okex             okex  book      fund            OKEx   \n",
       "5       huobi_swap       huobi_swap  book      fund       HuobiSwap   \n",
       "6  binance_futures  binance_futures  book      fund  BinanceFutures   \n",
       "0          eth_ftx              ftx  book      fund             FTX   \n",
       "\n",
       "    ccxt_symbol   symbol cryptofeed_symbol subaccount  trade collateral  \\\n",
       "0       BTC/USD   XBTUSD            XBTUSD        NaN      0        BTC   \n",
       "1       BTC/USD   XBTUSD            XBTUSD        NaN      1        BTC   \n",
       "2       BTC/USD   BTCUSD           BTC-USD        NaN      0        BTC   \n",
       "3      BTC-PERP  BTCUSDT          BTC-PERP  daddy_BTC      0        USD   \n",
       "4  BTC-USD-SWAP   BTCUSD      BTC-USD-SWAP        NaN      0        BTC   \n",
       "5       BTC-USD   BTCUSD           BTC-USD        NaN      0        BTC   \n",
       "6      BTC/USDT  BTCUSDT          BTC-USDT        NaN      0       USDT   \n",
       "0      ETH-PERP  ETHUSDT          ETH-PERP  daddy_ETH      0        USD   \n",
       "\n",
       "   max_trade     buy_method    sell_method html_color  \n",
       "0        0.5  10sec_average  10sec_average     danger  \n",
       "1        0.5  10sec_average  10sec_average     danger  \n",
       "2        0.0  10sec_average  10sec_average       dark  \n",
       "3        0.0  10sec_average  10sec_average       info  \n",
       "4        0.0  10sec_average  10sec_average  secondary  \n",
       "5        0.0  10sec_average  10sec_average    primary  \n",
       "6        0.0  10sec_average  10sec_average    warning  \n",
       "0        0.0  10sec_average  10sec_average       info  "
      ]
     },
     "execution_count": 12,
     "metadata": {},
     "output_type": "execute_result"
    }
   ],
   "source": [
    "pd.concat([pd.read_csv('algos/daddy/exchanges.csv'), pd.read_csv('algos/eth_daddy/exchanges.csv')])"
   ]
  },
  {
   "cell_type": "code",
   "execution_count": null,
   "id": "beginning-polymer",
   "metadata": {},
   "outputs": [],
   "source": []
  }
 ],
 "metadata": {
  "kernelspec": {
   "display_name": "Python 3.8.2 64-bit",
   "language": "python",
   "name": "python38264bit5e026c37115b47dab948fc9d59355aca"
  },
  "language_info": {
   "codemirror_mode": {
    "name": "ipython",
    "version": 3
   },
   "file_extension": ".py",
   "mimetype": "text/x-python",
   "name": "python",
   "nbconvert_exporter": "python",
   "pygments_lexer": "ipython3",
   "version": "3.8.5"
  }
 },
 "nbformat": 4,
 "nbformat_minor": 5
}
