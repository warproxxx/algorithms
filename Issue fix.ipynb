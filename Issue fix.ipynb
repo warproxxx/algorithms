{
 "cells": [
  {
   "cell_type": "code",
   "execution_count": 1,
   "id": "beginning-polymer",
   "metadata": {},
   "outputs": [],
   "source": [
    "import pandas as pd\n",
    "from algos.daddy.live_trader import liveTrading"
   ]
  },
  {
   "cell_type": "code",
   "execution_count": 2,
   "id": "patient-worse",
   "metadata": {},
   "outputs": [],
   "source": [
    "lt =  liveTrading('ftx', 'doge_ftx', symbol='DOGE-PERP',testnet=False, parameter_file=\"algos/doge_daddy/parameters.json\", config_file='algos/doge_daddy/exchanges.csv') "
   ]
  },
  {
   "cell_type": "code",
   "execution_count": 3,
   "id": "systematic-wayne",
   "metadata": {},
   "outputs": [
    {
     "data": {
      "text/plain": [
       "(1780.776, 0.6536474999999999)"
      ]
     },
     "execution_count": 3,
     "metadata": {},
     "output_type": "execute_result"
    }
   ],
   "source": [
    "lt.get_max_amount('buy')"
   ]
  }
 ],
 "metadata": {
  "kernelspec": {
   "display_name": "Python 3.8.2 64-bit",
   "language": "python",
   "name": "python38264bit5e026c37115b47dab948fc9d59355aca"
  },
  "language_info": {
   "codemirror_mode": {
    "name": "ipython",
    "version": 3
   },
   "file_extension": ".py",
   "mimetype": "text/x-python",
   "name": "python",
   "nbconvert_exporter": "python",
   "pygments_lexer": "ipython3",
   "version": "3.8.5"
  }
 },
 "nbformat": 4,
 "nbformat_minor": 5
}
