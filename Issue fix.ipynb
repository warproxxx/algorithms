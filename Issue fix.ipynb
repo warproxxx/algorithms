{
 "cells": [
  {
   "cell_type": "code",
   "execution_count": 18,
   "id": "beginning-polymer",
   "metadata": {},
   "outputs": [],
   "source": [
    "import pandas as pd"
   ]
  },
  {
   "cell_type": "code",
   "execution_count": 23,
   "id": "associate-morris",
   "metadata": {},
   "outputs": [],
   "source": [
    "EXCHANGES = pd.concat([pd.read_csv('algos/daddy/exchanges.csv'), pd.read_csv('algos/eth_daddy/exchanges.csv')])\n",
    "EXCHANGES = EXCHANGES[EXCHANGES['trade'] == 1]\n",
    "EXCHANGES = EXCHANGES.drop_duplicates(subset=['exchange', 'symbol']) \n",
    "EXCHANGES = EXCHANGES.fillna(\"\")"
   ]
  },
  {
   "cell_type": "code",
   "execution_count": 24,
   "id": "stable-words",
   "metadata": {},
   "outputs": [
    {
     "data": {
      "text/html": [
       "<div>\n",
       "<style scoped>\n",
       "    .dataframe tbody tr th:only-of-type {\n",
       "        vertical-align: middle;\n",
       "    }\n",
       "\n",
       "    .dataframe tbody tr th {\n",
       "        vertical-align: top;\n",
       "    }\n",
       "\n",
       "    .dataframe thead th {\n",
       "        text-align: right;\n",
       "    }\n",
       "</style>\n",
       "<table border=\"1\" class=\"dataframe\">\n",
       "  <thead>\n",
       "    <tr style=\"text-align: right;\">\n",
       "      <th></th>\n",
       "      <th>name</th>\n",
       "      <th>exchange</th>\n",
       "      <th>types</th>\n",
       "      <th>name_type</th>\n",
       "      <th>cryptofeed_name</th>\n",
       "      <th>ccxt_symbol</th>\n",
       "      <th>symbol</th>\n",
       "      <th>cryptofeed_symbol</th>\n",
       "      <th>subaccount</th>\n",
       "      <th>trade</th>\n",
       "      <th>collateral</th>\n",
       "      <th>max_trade</th>\n",
       "      <th>buy_method</th>\n",
       "      <th>sell_method</th>\n",
       "      <th>html_color</th>\n",
       "    </tr>\n",
       "  </thead>\n",
       "  <tbody>\n",
       "    <tr>\n",
       "      <th>1</th>\n",
       "      <td>bitmex_1</td>\n",
       "      <td>bitmex</td>\n",
       "      <td>book</td>\n",
       "      <td>fund</td>\n",
       "      <td>Bitmex</td>\n",
       "      <td>BTC/USD</td>\n",
       "      <td>XBTUSD</td>\n",
       "      <td>XBTUSD</td>\n",
       "      <td></td>\n",
       "      <td>1</td>\n",
       "      <td>BTC</td>\n",
       "      <td>0.5</td>\n",
       "      <td>10sec_average</td>\n",
       "      <td>10sec_average</td>\n",
       "      <td>danger</td>\n",
       "    </tr>\n",
       "    <tr>\n",
       "      <th>0</th>\n",
       "      <td>eth_ftx</td>\n",
       "      <td>ftx</td>\n",
       "      <td>book</td>\n",
       "      <td>fund</td>\n",
       "      <td>FTX</td>\n",
       "      <td>ETH-PERP</td>\n",
       "      <td>ETHUSDT</td>\n",
       "      <td>ETH-PERP</td>\n",
       "      <td>daddy_ETH</td>\n",
       "      <td>1</td>\n",
       "      <td>USD</td>\n",
       "      <td>0.0</td>\n",
       "      <td>10sec_average</td>\n",
       "      <td>10sec_average</td>\n",
       "      <td>info</td>\n",
       "    </tr>\n",
       "  </tbody>\n",
       "</table>\n",
       "</div>"
      ],
      "text/plain": [
       "       name exchange types name_type cryptofeed_name ccxt_symbol   symbol  \\\n",
       "1  bitmex_1   bitmex  book      fund          Bitmex     BTC/USD   XBTUSD   \n",
       "0   eth_ftx      ftx  book      fund             FTX    ETH-PERP  ETHUSDT   \n",
       "\n",
       "  cryptofeed_symbol subaccount  trade collateral  max_trade     buy_method  \\\n",
       "1            XBTUSD                 1        BTC        0.5  10sec_average   \n",
       "0          ETH-PERP  daddy_ETH      1        USD        0.0  10sec_average   \n",
       "\n",
       "     sell_method html_color  \n",
       "1  10sec_average     danger  \n",
       "0  10sec_average       info  "
      ]
     },
     "execution_count": 24,
     "metadata": {},
     "output_type": "execute_result"
    }
   ],
   "source": [
    "EXCHANGES"
   ]
  },
  {
   "cell_type": "code",
   "execution_count": null,
   "id": "contemporary-newport",
   "metadata": {},
   "outputs": [],
   "source": []
  }
 ],
 "metadata": {
  "kernelspec": {
   "display_name": "Python 3.8.2 64-bit",
   "language": "python",
   "name": "python38264bit5e026c37115b47dab948fc9d59355aca"
  },
  "language_info": {
   "codemirror_mode": {
    "name": "ipython",
    "version": 3
   },
   "file_extension": ".py",
   "mimetype": "text/x-python",
   "name": "python",
   "nbconvert_exporter": "python",
   "pygments_lexer": "ipython3",
   "version": "3.8.5"
  }
 },
 "nbformat": 4,
 "nbformat_minor": 5
}
