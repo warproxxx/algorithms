{
 "cells": [
  {
   "cell_type": "code",
   "execution_count": 1,
   "id": "respiratory-timing",
   "metadata": {},
   "outputs": [
    {
     "name": "stderr",
     "output_type": "stream",
     "text": [
      "/home/warproxxx/.local/lib/python3.8/site-packages/arctic/_util.py:6: FutureWarning: pandas.util.testing is deprecated. Use the functions in the public API at pandas.testing instead.\n",
      "  from pandas.util.testing import assert_frame_equal\n",
      "/home/warproxxx/.local/lib/python3.8/site-packages/arctic/store/_pandas_ndarray_store.py:6: FutureWarning: The Panel class is removed from pandas. Accessing it from the top-level namespace will also be removed in the next version\n",
      "  from pandas import DataFrame, Series, Panel\n"
     ]
    }
   ],
   "source": [
    "import os\n",
    "import sys\n",
    "from glob import glob\n",
    "import requests\n",
    "\n",
    "import time\n",
    "import datetime\n",
    "\n",
    "import pandas as pd\n",
    "import numpy as np\n",
    "import json\n",
    "\n",
    "import threading\n",
    "\n",
    "import ta\n",
    "import redis\n",
    "import schedule\n",
    "import shutil\n",
    "\n",
    "from cryptofeed.defines import TRADES, L2_BOOK, BID, ASK\n",
    "\n",
    "from algos.daddy.live_trader import liveTrading\n",
    "from algos.daddy.trade_analysis import get_trades, process_data, get_details\n",
    "from algos.daddy.historic import single_price_from_rest\n",
    "from algos.daddy.plot import create_chart\n",
    "from algos.daddy.trades import update_trades, run_backtest\n",
    "from algos.daddy.bot import daddyBot\n",
    "\n",
    "from utils import print\n",
    "\n",
    "r = redis.Redis(host='localhost', port=6379, db=0)\n",
    "\n"
   ]
  },
  {
   "cell_type": "code",
   "execution_count": 2,
   "id": "bearing-taiwan",
   "metadata": {},
   "outputs": [],
   "source": [
    "symbol='XBT'\n",
    "TESTNET=False\n",
    "config_file='algos/daddy/exchanges.csv'\n",
    "parameter_file=\"algos/daddy/parameters.json\""
   ]
  },
  {
   "cell_type": "code",
   "execution_count": 3,
   "id": "adopted-nothing",
   "metadata": {},
   "outputs": [],
   "source": [
    "bot = daddyBot(symbol=symbol, config_file=config_file, parameter_file=parameter_file, TESTNET=TESTNET)"
   ]
  },
  {
   "cell_type": "code",
   "execution_count": 4,
   "id": "selected-crowd",
   "metadata": {},
   "outputs": [],
   "source": [
    "lts = bot.lts"
   ]
  },
  {
   "cell_type": "code",
   "execution_count": 5,
   "id": "civilian-bedroom",
   "metadata": {},
   "outputs": [],
   "source": [
    "for idx, details in bot.EXCHANGES.iterrows():\n",
    "    if details['trade'] == 1:\n",
    "        break"
   ]
  },
  {
   "cell_type": "code",
   "execution_count": 6,
   "id": "cross-sullivan",
   "metadata": {},
   "outputs": [
    {
     "data": {
      "text/plain": [
       "name                      bitmex_1\n",
       "exchange                    bitmex\n",
       "types                         book\n",
       "name_type                     fund\n",
       "cryptofeed_name             Bitmex\n",
       "ccxt_symbol                BTC/USD\n",
       "symbol                      XBTUSD\n",
       "cryptofeed_symbol           XBTUSD\n",
       "subaccount                     NaN\n",
       "trade                            1\n",
       "collateral                     BTC\n",
       "max_trade                      0.5\n",
       "buy_method           10sec_average\n",
       "sell_method          10sec_average\n",
       "html_color                  danger\n",
       "Name: 1, dtype: object"
      ]
     },
     "execution_count": 6,
     "metadata": {},
     "output_type": "execute_result"
    }
   ],
   "source": [
    "details"
   ]
  },
  {
   "cell_type": "code",
   "execution_count": 7,
   "id": "interested-musician",
   "metadata": {},
   "outputs": [],
   "source": [
    "lt = lts[details['name']]"
   ]
  },
  {
   "cell_type": "code",
   "execution_count": 8,
   "id": "continental-dispute",
   "metadata": {},
   "outputs": [
    {
     "data": {
      "text/plain": [
       "<algos.daddy.live_trader.liveTrading at 0x7f2eb8c07940>"
      ]
     },
     "execution_count": 8,
     "metadata": {},
     "output_type": "execute_result"
    }
   ],
   "source": [
    "lt"
   ]
  },
  {
   "cell_type": "code",
   "execution_count": 9,
   "id": "deadly-cleaner",
   "metadata": {},
   "outputs": [],
   "source": [
    "current_pos, avgEntryPrice, _ = lt.get_position()"
   ]
  },
  {
   "cell_type": "code",
   "execution_count": 10,
   "id": "rolled-techno",
   "metadata": {},
   "outputs": [
    {
     "data": {
      "text/plain": [
       "'LONG'"
      ]
     },
     "execution_count": 10,
     "metadata": {},
     "output_type": "execute_result"
    }
   ],
   "source": [
    "current_pos"
   ]
  },
  {
   "cell_type": "code",
   "execution_count": 11,
   "id": "joint-thickness",
   "metadata": {},
   "outputs": [
    {
     "data": {
      "text/plain": [
       "56883.0"
      ]
     },
     "execution_count": 11,
     "metadata": {},
     "output_type": "execute_result"
    }
   ],
   "source": [
    "avgEntryPrice"
   ]
  },
  {
   "cell_type": "code",
   "execution_count": null,
   "id": "baking-benefit",
   "metadata": {},
   "outputs": [],
   "source": []
  }
 ],
 "metadata": {
  "kernelspec": {
   "display_name": "Python 3.8.2 64-bit",
   "language": "python",
   "name": "python38264bit5e026c37115b47dab948fc9d59355aca"
  },
  "language_info": {
   "codemirror_mode": {
    "name": "ipython",
    "version": 3
   },
   "file_extension": ".py",
   "mimetype": "text/x-python",
   "name": "python",
   "nbconvert_exporter": "python",
   "pygments_lexer": "ipython3",
   "version": "3.8.5"
  }
 },
 "nbformat": 4,
 "nbformat_minor": 5
}
