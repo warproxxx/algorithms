{
 "cells": [
  {
   "cell_type": "code",
   "execution_count": 20,
   "metadata": {},
   "outputs": [],
   "source": [
    "import pandas as pd\n",
    "import ccxt\n",
    "from algos.daddy.huobi.HuobiDMService import HuobiDM\n",
    "import json\n",
    "import redis"
   ]
  },
  {
   "cell_type": "code",
   "execution_count": 21,
   "metadata": {},
   "outputs": [],
   "source": [
    "r = redis.Redis(host='localhost', port=6379, db=0)"
   ]
  },
  {
   "cell_type": "code",
   "execution_count": 22,
   "metadata": {},
   "outputs": [],
   "source": [
    "pairs_df = pd.read_csv('pairs.csv')"
   ]
  },
  {
   "cell_type": "code",
   "execution_count": 23,
   "metadata": {},
   "outputs": [],
   "source": [
    "pairs_df = pairs_df[pairs_df['types'].isnull()]"
   ]
  },
  {
   "cell_type": "code",
   "execution_count": 24,
   "metadata": {},
   "outputs": [],
   "source": [
    "exchange_list = set(pairs_df['exchange'].values)"
   ]
  },
  {
   "cell_type": "code",
   "execution_count": 25,
   "metadata": {},
   "outputs": [],
   "source": [
    "exchanges = {}"
   ]
  },
  {
   "cell_type": "code",
   "execution_count": 26,
   "metadata": {},
   "outputs": [],
   "source": [
    "for exchange in exchange_list:\n",
    "    if exchange == 'ftx':\n",
    "        exchanges[exchange] = ccxt.ftx({})\n",
    "    elif exchange == 'okex':\n",
    "        exchanges[exchange] = ccxt.okex({})\n",
    "    elif exchange == 'bybit':\n",
    "        exchanges[exchange] = ccxt.bybit({})\n",
    "    elif exchange == 'binance_futures':\n",
    "        exchanges[exchange] = ccxt.binance({})\n",
    "    elif exchange == 'huobi_swap':\n",
    "        exchanges[exchange] = HuobiDM(\"https://api.hbdm.com\", \"\", \"\")\n",
    "    else:\n",
    "        print(exchange)"
   ]
  },
  {
   "cell_type": "code",
   "execution_count": 28,
   "metadata": {},
   "outputs": [],
   "source": [
    "for idx, row in pairs_df.iterrows():\n",
    "    if \"MOVE\" in row['ccxt_symbol']:\n",
    "        pairs = json.load(open('algos/vol_trend/pairs.json'))\n",
    "    else:\n",
    "        pairs = [row['ccxt_symbol']]\n",
    "        \n",
    "    for pair in pairs:\n",
    "        if row['exchange'] in ['ftx', 'okex', 'bybit']:\n",
    "            exchange = exchanges[row['exchange']]    \n",
    "            book = exchange.fetch_order_book(pair)\n",
    "            bid = book['bids'][0][0]\n",
    "            ask = book['asks'][0][0]\n",
    "        elif row['exchange'] == 'binance_futures':\n",
    "            exchange = exchanges[row['exchange']] \n",
    "            book = exchange.fapiPublicGetDepth({'symbol': 'BTCUSDT', 'limit': 5})\n",
    "            bid = book['bids'][0][0]\n",
    "            ask = book['asks'][0][0]\n",
    "        elif row['exchange'] == 'huobi_swap':\n",
    "            book = exchanges['huobi_swap'].send_get_request('/swap-ex/market/depth', {'contract_code': row['ccxt_symbol'], 'type': 'step0'})['tick']\n",
    "            bid = book['bids'][0][0]\n",
    "            ask = book['asks'][0][0]\n",
    "            \n",
    "        if 'daddy' in row['feed']:\n",
    "            r.set('{}_best_bid'.format(row['exchange']), bid)\n",
    "            r.set('{}_best_ask'.format(row['exchange']), ask)\n",
    "        elif 'vol_trend' in row['feed']:\n",
    "            r.set('FTX_{}_best_bid'.format(pair), bid)\n",
    "            r.set('FTX_{}_best_ask'.format(pair), ask)\n",
    "        elif 'altcoin' in row['feed']:\n",
    "            r.set('{}_best_bid'.format(pair), bid)\n",
    "            r.set('{}_best_ask'.format(pair), ask)"
   ]
  },
  {
   "cell_type": "code",
   "execution_count": null,
   "metadata": {},
   "outputs": [],
   "source": []
  }
 ],
 "metadata": {
  "kernelspec": {
   "display_name": "Python 3.8.2 64-bit",
   "language": "python",
   "name": "python38264bit5e026c37115b47dab948fc9d59355aca"
  },
  "language_info": {
   "codemirror_mode": {
    "name": "ipython",
    "version": 3
   },
   "file_extension": ".py",
   "mimetype": "text/x-python",
   "name": "python",
   "nbconvert_exporter": "python",
   "pygments_lexer": "ipython3",
   "version": "3.8.5"
  }
 },
 "nbformat": 4,
 "nbformat_minor": 4
}
