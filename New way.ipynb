{
 "cells": [
  {
   "cell_type": "code",
   "execution_count": 1,
   "id": "homeless-contrast",
   "metadata": {},
   "outputs": [],
   "source": [
    "import pandas as pd"
   ]
  },
  {
   "cell_type": "code",
   "execution_count": 2,
   "id": "corrected-schedule",
   "metadata": {},
   "outputs": [],
   "source": [
    "config = pd.read_csv('algos/altcoin/config.csv')"
   ]
  },
  {
   "cell_type": "code",
   "execution_count": 13,
   "id": "offshore-shuttle",
   "metadata": {},
   "outputs": [
    {
     "name": "stdout",
     "output_type": "stream",
     "text": [
      "more -10\n",
      "['AAVE-PERP', 'CHZ-PERP', 'CREAM-PERP', 'DEFI-PERP', 'DOT-PERP', 'HNT-PERP', 'NEO-PERP', 'SUSHI-PERP', 'THETA-PERP', 'UNI-PERP', 'UNISWAP-PERP', 'VET-PERP', 'WAVES-PERP']\n",
      "one -10\n",
      "['CREAM-PERP']\n"
     ]
    }
   ],
   "source": []
  },
  {
   "cell_type": "code",
   "execution_count": null,
   "id": "following-syndrome",
   "metadata": {},
   "outputs": [],
   "source": []
  }
 ],
 "metadata": {
  "kernelspec": {
   "display_name": "Python 3.8.2 64-bit",
   "language": "python",
   "name": "python38264bit5e026c37115b47dab948fc9d59355aca"
  },
  "language_info": {
   "codemirror_mode": {
    "name": "ipython",
    "version": 3
   },
   "file_extension": ".py",
   "mimetype": "text/x-python",
   "name": "python",
   "nbconvert_exporter": "python",
   "pygments_lexer": "ipython3",
   "version": "3.8.5"
  }
 },
 "nbformat": 4,
 "nbformat_minor": 5
}
