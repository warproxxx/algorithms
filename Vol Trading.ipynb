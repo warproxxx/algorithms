{
 "cells": [
  {
   "cell_type": "code",
   "execution_count": 36,
   "metadata": {},
   "outputs": [],
   "source": [
    "import pandas as pd\n",
    "from algos.vol_trend.bot import get_position_balance\n",
    "import redis"
   ]
  },
  {
   "cell_type": "code",
   "execution_count": 68,
   "metadata": {},
   "outputs": [],
   "source": [
    "r = redis.Redis(host='localhost', port=6379, db=0)"
   ]
  },
  {
   "cell_type": "code",
   "execution_count": 69,
   "metadata": {},
   "outputs": [
    {
     "data": {
      "text/plain": [
       "'NONE'"
      ]
     },
     "execution_count": 69,
     "metadata": {},
     "output_type": "execute_result"
    }
   ],
   "source": [
    "replace_move"
   ]
  },
  {
   "cell_type": "code",
   "execution_count": 70,
   "metadata": {},
   "outputs": [
    {
     "data": {
      "text/plain": [
       "'SHORT'"
      ]
     },
     "execution_count": 70,
     "metadata": {},
     "output_type": "execute_result"
    }
   ],
   "source": [
    "replace_perp"
   ]
  },
  {
   "cell_type": "code",
   "execution_count": 71,
   "metadata": {},
   "outputs": [],
   "source": [
    "details_df, balances = get_position_balance()\n",
    "\n",
    "replace_perp = \"\"\n",
    "replace_move = \"\"\n",
    "\n",
    "try:\n",
    "    if int(r.get('override_perp').decode()) == 1:\n",
    "        perp = int(r.get('perp_override_direction').decode())\n",
    "\n",
    "    if perp == 1:\n",
    "        replace_perp = 'LONG'\n",
    "    elif perp == -1:\n",
    "        replace_perp = 'SHORT'\n",
    "    else:\n",
    "        replace_perp = 'NONE'\n",
    "except:\n",
    "    pass\n",
    "\n",
    "try:\n",
    "    if int(r.get('override_move').decode()) == 1:\n",
    "        move = int(r.get('move_override_direction').decode())\n",
    "\n",
    "    if move == 1:\n",
    "        replace_move = 'LONG'\n",
    "    elif move == -1:\n",
    "        replace_move = 'SHORT'\n",
    "    else:\n",
    "        replace_move = 'NONE'\n",
    "except:\n",
    "    pass\n",
    "\n",
    "new_details = pd.DataFrame()\n",
    "for idx, row in details_df.iterrows():\n",
    "    if row['name'] == 'BTC-PERP':\n",
    "        if replace_perp != \"\":\n",
    "            row['backtest_position'] = replace_perp\n",
    "    else:\n",
    "        if replace_move != \"\":\n",
    "            if row['backtest_position'] != \"NONE\":\n",
    "                row['backtest_position'] = replace_move\n",
    "                \n",
    "    new_details = new_details.append(row, ignore_index=True)\n",
    "\n",
    "details_df = new_details"
   ]
  },
  {
   "cell_type": "code",
   "execution_count": 72,
   "metadata": {},
   "outputs": [
    {
     "data": {
      "text/html": [
       "<div>\n",
       "<style scoped>\n",
       "    .dataframe tbody tr th:only-of-type {\n",
       "        vertical-align: middle;\n",
       "    }\n",
       "\n",
       "    .dataframe tbody tr th {\n",
       "        vertical-align: top;\n",
       "    }\n",
       "\n",
       "    .dataframe thead th {\n",
       "        text-align: right;\n",
       "    }\n",
       "</style>\n",
       "<table border=\"1\" class=\"dataframe\">\n",
       "  <thead>\n",
       "    <tr style=\"text-align: right;\">\n",
       "      <th></th>\n",
       "      <th>backtest_date</th>\n",
       "      <th>backtest_position</th>\n",
       "      <th>entry</th>\n",
       "      <th>entry_price</th>\n",
       "      <th>name</th>\n",
       "      <th>pos_size</th>\n",
       "      <th>position</th>\n",
       "    </tr>\n",
       "  </thead>\n",
       "  <tbody>\n",
       "    <tr>\n",
       "      <th>0</th>\n",
       "      <td></td>\n",
       "      <td>NONE</td>\n",
       "      <td>0.0</td>\n",
       "      <td>NaN</td>\n",
       "      <td>BTC-MOVE-2020Q4</td>\n",
       "      <td>0.0</td>\n",
       "      <td>NONE</td>\n",
       "    </tr>\n",
       "    <tr>\n",
       "      <th>1</th>\n",
       "      <td>2020-12-18</td>\n",
       "      <td>NONE</td>\n",
       "      <td>0.0</td>\n",
       "      <td>6546.65</td>\n",
       "      <td>BTC-MOVE-2021Q1</td>\n",
       "      <td>0.0</td>\n",
       "      <td>NONE</td>\n",
       "    </tr>\n",
       "    <tr>\n",
       "      <th>2</th>\n",
       "      <td></td>\n",
       "      <td>NONE</td>\n",
       "      <td>0.0</td>\n",
       "      <td>NaN</td>\n",
       "      <td>BTC-MOVE-2021Q2</td>\n",
       "      <td>0.0</td>\n",
       "      <td>NONE</td>\n",
       "    </tr>\n",
       "    <tr>\n",
       "      <th>3</th>\n",
       "      <td>2020-12-18</td>\n",
       "      <td>SHORT</td>\n",
       "      <td>0.0</td>\n",
       "      <td>22810.78</td>\n",
       "      <td>BTC-PERP</td>\n",
       "      <td>0.0</td>\n",
       "      <td>NONE</td>\n",
       "    </tr>\n",
       "  </tbody>\n",
       "</table>\n",
       "</div>"
      ],
      "text/plain": [
       "  backtest_date backtest_position  entry  entry_price             name  \\\n",
       "0                            NONE    0.0          NaN  BTC-MOVE-2020Q4   \n",
       "1    2020-12-18              NONE    0.0      6546.65  BTC-MOVE-2021Q1   \n",
       "2                            NONE    0.0          NaN  BTC-MOVE-2021Q2   \n",
       "3    2020-12-18             SHORT    0.0     22810.78         BTC-PERP   \n",
       "\n",
       "   pos_size position  \n",
       "0       0.0     NONE  \n",
       "1       0.0     NONE  \n",
       "2       0.0     NONE  \n",
       "3       0.0     NONE  "
      ]
     },
     "execution_count": 72,
     "metadata": {},
     "output_type": "execute_result"
    }
   ],
   "source": [
    "details_df"
   ]
  },
  {
   "cell_type": "code",
   "execution_count": 55,
   "metadata": {},
   "outputs": [],
   "source": [
    "details_df['target_pos'] = details_df['backtest_position'].replace(\"LONG\", 1).replace(\"SHORT\", -1).replace(\"NONE\", 0)"
   ]
  },
  {
   "cell_type": "code",
   "execution_count": 56,
   "metadata": {},
   "outputs": [],
   "source": [
    "details_df['curr_pos'] = details_df['position'].replace(\"LONG\", 1).replace(\"SHORT\", -1).replace(\"NONE\", 0)"
   ]
  },
  {
   "cell_type": "code",
   "execution_count": 57,
   "metadata": {},
   "outputs": [],
   "source": [
    "to_close = details_df[details_df['target_pos'] == 0]"
   ]
  },
  {
   "cell_type": "code",
   "execution_count": 58,
   "metadata": {},
   "outputs": [],
   "source": [
    "for idx, row in to_close.iterrows():\n",
    "    if row['name'] == 'BTC-PERP':\n",
    "        asset_type = \"PERP\"\n",
    "    else:\n",
    "        asset_type = \"MOVE\"\n",
    "        \n",
    "    if row['curr_pos'] != 0:\n",
    "        print('close pos')"
   ]
  },
  {
   "cell_type": "code",
   "execution_count": 59,
   "metadata": {},
   "outputs": [],
   "source": [
    "to_open = details_df[details_df['target_pos'] != 0]"
   ]
  },
  {
   "cell_type": "code",
   "execution_count": 60,
   "metadata": {},
   "outputs": [
    {
     "name": "stdout",
     "output_type": "stream",
     "text": [
      "open pos\n"
     ]
    }
   ],
   "source": [
    "for idx, row in to_open.iterrows():\n",
    "\n",
    "        \n",
    "    if row['target_pos'] == row['curr_pos']:\n",
    "        pass\n",
    "    elif row['target_pos'] * row['curr_pos'] == -1:\n",
    "        print('close pos')\n",
    "        print('open pos')\n",
    "    else:\n",
    "        print('open pos')"
   ]
  },
  {
   "cell_type": "code",
   "execution_count": 61,
   "metadata": {},
   "outputs": [
    {
     "data": {
      "text/plain": [
       "backtest_date        2020-12-18\n",
       "backtest_position         SHORT\n",
       "entry                         0\n",
       "entry_price             22810.8\n",
       "name                   BTC-PERP\n",
       "pos_size                      0\n",
       "position                   NONE\n",
       "target_pos                   -1\n",
       "curr_pos                      0\n",
       "Name: 3, dtype: object"
      ]
     },
     "execution_count": 61,
     "metadata": {},
     "output_type": "execute_result"
    }
   ],
   "source": [
    "row"
   ]
  },
  {
   "cell_type": "code",
   "execution_count": null,
   "metadata": {},
   "outputs": [],
   "source": []
  }
 ],
 "metadata": {
  "kernelspec": {
   "display_name": "Python 3.8.2 64-bit",
   "language": "python",
   "name": "python38264bit5e026c37115b47dab948fc9d59355aca"
  },
  "language_info": {
   "codemirror_mode": {
    "name": "ipython",
    "version": 3
   },
   "file_extension": ".py",
   "mimetype": "text/x-python",
   "name": "python",
   "nbconvert_exporter": "python",
   "pygments_lexer": "ipython3",
   "version": "3.8.5"
  }
 },
 "nbformat": 4,
 "nbformat_minor": 4
}
