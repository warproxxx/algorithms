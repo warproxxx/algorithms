{
 "cells": [
  {
   "cell_type": "code",
   "execution_count": 1,
   "id": "institutional-phone",
   "metadata": {},
   "outputs": [],
   "source": [
    "from algos.daddy.live_trader import liveTrading"
   ]
  },
  {
   "cell_type": "code",
   "execution_count": 2,
   "id": "conservative-commerce",
   "metadata": {},
   "outputs": [],
   "source": [
    "lt = liveTrading('dydx', 'eth_dydx', 'ETH-USD', parameter_file='algos/eth_daddy/parameters.json', config_file='algos/eth_daddy/exchanges.csv', testnet=False)"
   ]
  },
  {
   "cell_type": "code",
   "execution_count": 3,
   "id": "accessible-wheat",
   "metadata": {},
   "outputs": [
    {
     "data": {
      "text/plain": [
       "{'best_ask': 4722.0, 'best_bid': 4721.9}"
      ]
     },
     "execution_count": 3,
     "metadata": {},
     "output_type": "execute_result"
    }
   ],
   "source": [
    "lt.get_orderbook()"
   ]
  },
  {
   "cell_type": "code",
   "execution_count": 4,
   "id": "found-belly",
   "metadata": {},
   "outputs": [
    {
     "data": {
      "text/plain": [
       "('LONG', '4722.000000', '0.02')"
      ]
     },
     "execution_count": 4,
     "metadata": {},
     "output_type": "execute_result"
    }
   ],
   "source": [
    "lt.get_position()"
   ]
  },
  {
   "cell_type": "code",
   "execution_count": 5,
   "id": "swiss-symbol",
   "metadata": {},
   "outputs": [
    {
     "data": {
      "text/plain": [
       "(0.02, 4723.3)"
      ]
     },
     "execution_count": 5,
     "metadata": {},
     "output_type": "execute_result"
    }
   ],
   "source": [
    "lt.get_max_amount('sell')"
   ]
  },
  {
   "cell_type": "code",
   "execution_count": 7,
   "id": "laden-longer",
   "metadata": {},
   "outputs": [],
   "source": [
    "lt.set_position()"
   ]
  },
  {
   "cell_type": "code",
   "execution_count": 8,
   "id": "hearing-blade",
   "metadata": {},
   "outputs": [
    {
     "name": "stdout",
     "output_type": "stream",
     "text": [
      "\n",
      "Time at filling order is: 2021-11-08 03:38:59.345449\n",
      "Sending market sell order for ETH-USD of size 0.02 on dydx in 2021-11-08 03:38:59.680727\n"
     ]
    }
   ],
   "source": [
    "lt.fill_order('sell', method='now')"
   ]
  }
 ],
 "metadata": {
  "kernelspec": {
   "display_name": "Python 3.8.2 64-bit",
   "language": "python",
   "name": "python38264bit5e026c37115b47dab948fc9d59355aca"
  },
  "language_info": {
   "codemirror_mode": {
    "name": "ipython",
    "version": 3
   },
   "file_extension": ".py",
   "mimetype": "text/x-python",
   "name": "python",
   "nbconvert_exporter": "python",
   "pygments_lexer": "ipython3",
   "version": "3.8.10"
  }
 },
 "nbformat": 4,
 "nbformat_minor": 5
}
