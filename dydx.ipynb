{
 "cells": [
  {
   "cell_type": "code",
   "execution_count": 1,
   "id": "relative-kennedy",
   "metadata": {},
   "outputs": [],
   "source": [
    "from dydx3 import Client\n",
    "from dydx3.constants import API_HOST_MAINNET, TIME_IN_FORCE_GTT\n",
    "import os\n",
    "import pandas as pd"
   ]
  },
  {
   "cell_type": "code",
   "execution_count": 2,
   "id": "desirable-consideration",
   "metadata": {},
   "outputs": [],
   "source": [
    "symbol = 'ETH-USD'"
   ]
  },
  {
   "cell_type": "code",
   "execution_count": 3,
   "id": "loving-defense",
   "metadata": {},
   "outputs": [],
   "source": [
    "api_key_credentials = {\"key\":os.getenv('DYDX_KEY'),\"passphrase\":os.getenv('DYDX_PASS'), \"secret\": os.getenv('DYDX_SECRET')}\n",
    "client = Client(API_HOST_MAINNET, api_key_credentials=api_key_credentials, stark_private_key=os.getenv('DYDX_STARK_KEY'))"
   ]
  },
  {
   "cell_type": "code",
   "execution_count": 19,
   "id": "piano-battery",
   "metadata": {},
   "outputs": [],
   "source": [
    "account_response = client.private.get_account(ethereum_address=os.getenv('DYDX_PUB_KEY'))"
   ]
  },
  {
   "cell_type": "code",
   "execution_count": 27,
   "id": "wanted-scheduling",
   "metadata": {},
   "outputs": [
    {
     "data": {
      "text/plain": [
       "'526.496200'"
      ]
     },
     "execution_count": 27,
     "metadata": {},
     "output_type": "execute_result"
    }
   ],
   "source": [
    "account_response.data['account']['freeCollateral']"
   ]
  },
  {
   "cell_type": "code",
   "execution_count": 5,
   "id": "geographic-istanbul",
   "metadata": {},
   "outputs": [],
   "source": [
    "position_id = account_response.data['account']['positionId']"
   ]
  },
  {
   "cell_type": "code",
   "execution_count": 10,
   "id": "arabic-poultry",
   "metadata": {},
   "outputs": [],
   "source": [
    "position = client.private.get_positions(market=symbol, status='OPEN').data"
   ]
  },
  {
   "cell_type": "code",
   "execution_count": 11,
   "id": "gentle-chicken",
   "metadata": {},
   "outputs": [
    {
     "data": {
      "text/plain": [
       "False"
      ]
     },
     "execution_count": 11,
     "metadata": {},
     "output_type": "execute_result"
    }
   ],
   "source": [
    "len(position['positions']) == 0"
   ]
  },
  {
   "cell_type": "code",
   "execution_count": 28,
   "id": "cordless-model",
   "metadata": {},
   "outputs": [
    {
     "data": {
      "text/plain": [
       "{'positions': [{'market': 'ETH-USD',\n",
       "   'status': 'OPEN',\n",
       "   'side': 'LONG',\n",
       "   'size': '0.01',\n",
       "   'maxSize': '0.01',\n",
       "   'entryPrice': '4615.100000',\n",
       "   'exitPrice': '0.000000',\n",
       "   'unrealizedPnl': '-0.002700',\n",
       "   'realizedPnl': '0.000000',\n",
       "   'createdAt': '2021-11-07T23:57:36.508Z',\n",
       "   'closedAt': None,\n",
       "   'sumOpen': '0.01',\n",
       "   'sumClose': '0',\n",
       "   'netFunding': '0'}]}"
      ]
     },
     "execution_count": 28,
     "metadata": {},
     "output_type": "execute_result"
    }
   ],
   "source": [
    "position"
   ]
  },
  {
   "cell_type": "code",
   "execution_count": 12,
   "id": "forty-planning",
   "metadata": {},
   "outputs": [
    {
     "data": {
      "text/plain": [
       "'0.01'"
      ]
     },
     "execution_count": 12,
     "metadata": {},
     "output_type": "execute_result"
    }
   ],
   "source": [
    "position['positions'][0]['size']"
   ]
  },
  {
   "cell_type": "code",
   "execution_count": 13,
   "id": "middle-optimization",
   "metadata": {},
   "outputs": [
    {
     "data": {
      "text/plain": [
       "'4615.100000'"
      ]
     },
     "execution_count": 13,
     "metadata": {},
     "output_type": "execute_result"
    }
   ],
   "source": [
    "position['positions'][0]['entryPrice']"
   ]
  },
  {
   "cell_type": "code",
   "execution_count": 46,
   "id": "working-shoulder",
   "metadata": {},
   "outputs": [
    {
     "data": {
      "text/plain": [
       "1636328320"
      ]
     },
     "execution_count": 46,
     "metadata": {},
     "output_type": "execute_result"
    }
   ],
   "source": []
  },
  {
   "cell_type": "code",
   "execution_count": 9,
   "id": "geological-giant",
   "metadata": {},
   "outputs": [],
   "source": [
    "#size in ETH, increase price for buy\n",
    "    order = client.private.create_order(position_id=position_id, market=symbol, side='BUY', order_type='MARKET', size='0.01', post_only=False, price=str(4700), limit_fee='0.001', expiration_epoch_seconds=int(pd.Timestamp.utcnow().timestamp()) + 120, time_in_force='IOC')"
   ]
  },
  {
   "cell_type": "code",
   "execution_count": 8,
   "id": "another-ultimate",
   "metadata": {},
   "outputs": [
    {
     "data": {
      "text/plain": [
       "{'order': {'id': '0869eda16ec9c9e07db417f0d6ea0db1c8109e0322550249668edbb846336c2',\n",
       "  'clientId': '7562053473632667',\n",
       "  'accountId': 'c77bc17f-6711-5afd-86f8-41ddbebfcf73',\n",
       "  'market': 'ETH-USD',\n",
       "  'side': 'BUY',\n",
       "  'price': '4500',\n",
       "  'triggerPrice': None,\n",
       "  'trailingPercent': None,\n",
       "  'size': '0.01',\n",
       "  'remainingSize': '0.01',\n",
       "  'type': 'MARKET',\n",
       "  'createdAt': '2021-11-07T23:56:54.204Z',\n",
       "  'unfillableAt': None,\n",
       "  'expiresAt': '2021-11-07T23:58:53.000Z',\n",
       "  'status': 'PENDING',\n",
       "  'timeInForce': 'IOC',\n",
       "  'postOnly': False,\n",
       "  'cancelReason': None}}"
      ]
     },
     "execution_count": 8,
     "metadata": {},
     "output_type": "execute_result"
    }
   ],
   "source": [
    "order.data"
   ]
  },
  {
   "cell_type": "code",
   "execution_count": 15,
   "id": "leading-wales",
   "metadata": {},
   "outputs": [],
   "source": [
    "#size in ETH, decrease price for sell\n",
    "order = client.private.create_order(position_id=position_id, market=symbol, side='SELL', order_type='MARKET', size='0.01', post_only=False, price=str(4500), limit_fee='0.001', expiration_epoch_seconds=int(pd.Timestamp.utcnow().timestamp()) + 120, time_in_force='IOC')"
   ]
  },
  {
   "cell_type": "code",
   "execution_count": 16,
   "id": "adverse-population",
   "metadata": {},
   "outputs": [
    {
     "data": {
      "text/plain": [
       "<dydx3.helpers.requests.Response at 0x7f389cccce80>"
      ]
     },
     "execution_count": 16,
     "metadata": {},
     "output_type": "execute_result"
    }
   ],
   "source": [
    "client.private.cancel_all_orders()"
   ]
  },
  {
   "cell_type": "code",
   "execution_count": null,
   "id": "original-dallas",
   "metadata": {},
   "outputs": [],
   "source": []
  },
  {
   "cell_type": "code",
   "execution_count": 17,
   "id": "flying-thomas",
   "metadata": {},
   "outputs": [
    {
     "ename": "ValueError",
     "evalue": "ethereum_address was not set",
     "output_type": "error",
     "traceback": [
      "\u001b[0;31m---------------------------------------------------------------------------\u001b[0m",
      "\u001b[0;31mValueError\u001b[0m                                Traceback (most recent call last)",
      "\u001b[0;32m<ipython-input-17-2894c33b58a4>\u001b[0m in \u001b[0;36m<module>\u001b[0;34m\u001b[0m\n\u001b[0;32m----> 1\u001b[0;31m \u001b[0mclient\u001b[0m\u001b[0;34m.\u001b[0m\u001b[0mprivate\u001b[0m\u001b[0;34m.\u001b[0m\u001b[0mget_account\u001b[0m\u001b[0;34m(\u001b[0m\u001b[0;34m)\u001b[0m\u001b[0;34m\u001b[0m\u001b[0;34m\u001b[0m\u001b[0m\n\u001b[0m",
      "\u001b[0;32m~/.local/lib/python3.8/site-packages/dydx3/modules/private.py\u001b[0m in \u001b[0;36mget_account\u001b[0;34m(self, ethereum_address)\u001b[0m\n\u001b[1;32m    216\u001b[0m         \u001b[0maddress\u001b[0m \u001b[0;34m=\u001b[0m \u001b[0methereum_address\u001b[0m \u001b[0;32mor\u001b[0m \u001b[0mself\u001b[0m\u001b[0;34m.\u001b[0m\u001b[0mdefault_address\u001b[0m\u001b[0;34m\u001b[0m\u001b[0;34m\u001b[0m\u001b[0m\n\u001b[1;32m    217\u001b[0m         \u001b[0;32mif\u001b[0m \u001b[0maddress\u001b[0m \u001b[0;32mis\u001b[0m \u001b[0;32mNone\u001b[0m\u001b[0;34m:\u001b[0m\u001b[0;34m\u001b[0m\u001b[0;34m\u001b[0m\u001b[0m\n\u001b[0;32m--> 218\u001b[0;31m             \u001b[0;32mraise\u001b[0m \u001b[0mValueError\u001b[0m\u001b[0;34m(\u001b[0m\u001b[0;34m'ethereum_address was not set'\u001b[0m\u001b[0;34m)\u001b[0m\u001b[0;34m\u001b[0m\u001b[0;34m\u001b[0m\u001b[0m\n\u001b[0m\u001b[1;32m    219\u001b[0m         return self._get(\n\u001b[1;32m    220\u001b[0m             \u001b[0;34m'/'\u001b[0m\u001b[0;34m.\u001b[0m\u001b[0mjoin\u001b[0m\u001b[0;34m(\u001b[0m\u001b[0;34m[\u001b[0m\u001b[0;34m'accounts'\u001b[0m\u001b[0;34m,\u001b[0m \u001b[0mget_account_id\u001b[0m\u001b[0;34m(\u001b[0m\u001b[0maddress\u001b[0m\u001b[0;34m)\u001b[0m\u001b[0;34m]\u001b[0m\u001b[0;34m)\u001b[0m\u001b[0;34m,\u001b[0m\u001b[0;34m\u001b[0m\u001b[0;34m\u001b[0m\u001b[0m\n",
      "\u001b[0;31mValueError\u001b[0m: ethereum_address was not set"
     ]
    }
   ],
   "source": [
    "client.private.get_account()"
   ]
  },
  {
   "cell_type": "code",
   "execution_count": null,
   "id": "handmade-sewing",
   "metadata": {},
   "outputs": [],
   "source": []
  },
  {
   "cell_type": "code",
   "execution_count": null,
   "id": "bright-repeat",
   "metadata": {},
   "outputs": [],
   "source": [
    "#this is done. now check the other side"
   ]
  }
 ],
 "metadata": {
  "kernelspec": {
   "display_name": "Python 3.8.2 64-bit",
   "language": "python",
   "name": "python38264bit5e026c37115b47dab948fc9d59355aca"
  },
  "language_info": {
   "codemirror_mode": {
    "name": "ipython",
    "version": 3
   },
   "file_extension": ".py",
   "mimetype": "text/x-python",
   "name": "python",
   "nbconvert_exporter": "python",
   "pygments_lexer": "ipython3",
   "version": "3.8.10"
  }
 },
 "nbformat": 4,
 "nbformat_minor": 5
}
