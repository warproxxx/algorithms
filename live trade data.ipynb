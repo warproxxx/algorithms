{
 "cells": [
  {
   "cell_type": "code",
   "execution_count": 1,
   "metadata": {},
   "outputs": [],
   "source": [
    "import pandas as pd\n",
    "import requests\n",
    "import os\n",
    "import datetime\n",
    "import json\n",
    "import time\n",
    "import ccxt\n",
    "import numpy as np\n",
    "import threading\n",
    "from algos.daddy.huobi.HuobiDMService import HuobiDM\n"
   ]
  },
  {
   "cell_type": "code",
   "execution_count": 9,
   "metadata": {},
   "outputs": [],
   "source": [
    "apiKey = os.getenv('BITMEX_ID')\n",
    "apiSecret = os.getenv('BITMEX_SECRET')\n",
    "\n",
    "exchange = ccxt.bitmex({\n",
    "                    'apiKey': apiKey,\n",
    "                    'secret': apiSecret,\n",
    "                    'enableRateLimit': True,\n",
    "                })\n",
    "limit = 500\n",
    "since = exchange.parse8601(\"2020-12-15 00:00:00\")"
   ]
  },
  {
   "cell_type": "code",
   "execution_count": 10,
   "metadata": {},
   "outputs": [
    {
     "data": {
      "text/plain": [
       "1607990400000"
      ]
     },
     "execution_count": 10,
     "metadata": {},
     "output_type": "execute_result"
    }
   ],
   "source": [
    "since"
   ]
  },
  {
   "cell_type": "code",
   "execution_count": 11,
   "metadata": {},
   "outputs": [],
   "source": [
    "all_trades = []\n",
    "\n",
    "while True:\n",
    "    curr_trades = exchange.fetchMyTrades(symbol='BTC/USD', limit=limit, since=since)\n",
    "    since = exchange.parse8601(curr_trades[-1]['datetime'])\n",
    "    all_trades = all_trades + curr_trades\n",
    "\n",
    "    if len(curr_trades) < limit:\n",
    "        break\n",
    "\n",
    "\n",
    "trades = pd.DataFrame([trade['info'] for trade in all_trades])\n",
    "trades['transactTime'] = pd.to_datetime(trades['transactTime'])\n",
    "trades['transactTime'] = trades['transactTime'].dt.tz_localize(None)\n",
    "trades = trades[['transactTime', 'symbol', 'side', 'price','lastQty', 'execComm', 'execType', 'text']]\n",
    "funding = trades[trades['text'].str.contains('Funding')]\n",
    "trades = trades[trades['execType'] == 'Trade']\n",
    "trades = trades[trades['text'].str.contains('API')]\n",
    "trades['exchange'] = 'BITMEX'\n",
    "trades['execComm'] = trades['execComm'] * 0.00000001\n",
    "trades['commissionAsset'] = 'XBT'\n",
    "trades = trades.rename(columns={'execComm': 'commission', 'lastQty': 'qty'})\n",
    "trades['side'] = trades['side'].str.upper()\n",
    "trades = trades[['transactTime', 'exchange', 'symbol', 'side', 'price', 'qty', 'commission', 'commissionAsset']]\n",
    "\n",
    "funding['exchange'] = 'BITMEX'\n",
    "funding['execComm'] = funding['execComm'] * 0.00000001\n",
    "funding['asset'] = 'XBT'\n",
    "funding = funding.rename(columns={'lastQty': 'qty'})\n",
    "funding = funding[['transactTime', 'exchange', 'symbol', 'qty', 'price', 'asset']]"
   ]
  },
  {
   "cell_type": "code",
   "execution_count": null,
   "metadata": {},
   "outputs": [],
   "source": []
  }
 ],
 "metadata": {
  "kernelspec": {
   "display_name": "Python 3.8.2 64-bit",
   "language": "python",
   "name": "python38264bit5e026c37115b47dab948fc9d59355aca"
  },
  "language_info": {
   "codemirror_mode": {
    "name": "ipython",
    "version": 3
   },
   "file_extension": ".py",
   "mimetype": "text/x-python",
   "name": "python",
   "nbconvert_exporter": "python",
   "pygments_lexer": "ipython3",
   "version": "3.8.5"
  }
 },
 "nbformat": 4,
 "nbformat_minor": 4
}
